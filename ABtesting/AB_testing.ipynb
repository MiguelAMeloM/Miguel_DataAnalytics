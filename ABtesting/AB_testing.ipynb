{
 "cells": [
  {
   "cell_type": "code",
   "execution_count": 167,
   "metadata": {},
   "outputs": [],
   "source": [
    "import sys\n",
    "sys.path.append('..//utils')\n",
    "import pandas as pd\n",
    "import matplotlib.pyplot as plt\n",
    "import seaborn as sns\n",
    "import MiguelTK as mtk\n",
    "from scipy.stats import chi2_contingency\n",
    "import warnings\n",
    "warnings.filterwarnings('ignore')"
   ]
  },
  {
   "cell_type": "code",
   "execution_count": 110,
   "metadata": {},
   "outputs": [
    {
     "data": {
      "text/html": [
       "<div>\n",
       "<style scoped>\n",
       "    .dataframe tbody tr th:only-of-type {\n",
       "        vertical-align: middle;\n",
       "    }\n",
       "\n",
       "    .dataframe tbody tr th {\n",
       "        vertical-align: top;\n",
       "    }\n",
       "\n",
       "    .dataframe thead th {\n",
       "        text-align: right;\n",
       "    }\n",
       "</style>\n",
       "<table border=\"1\" class=\"dataframe\">\n",
       "  <thead>\n",
       "    <tr style=\"text-align: right;\">\n",
       "      <th></th>\n",
       "      <th>user_id</th>\n",
       "      <th>date_served</th>\n",
       "      <th>marketing_channel</th>\n",
       "      <th>variant</th>\n",
       "      <th>converted</th>\n",
       "      <th>language_displayed</th>\n",
       "      <th>language_preferred</th>\n",
       "      <th>age_group</th>\n",
       "      <th>date_subscribed</th>\n",
       "      <th>date_canceled</th>\n",
       "      <th>subscribing_channel</th>\n",
       "      <th>is_retained</th>\n",
       "    </tr>\n",
       "  </thead>\n",
       "  <tbody>\n",
       "    <tr>\n",
       "      <th>0</th>\n",
       "      <td>a10000029</td>\n",
       "      <td>2018-01-19 08:58:03</td>\n",
       "      <td>Facebook</td>\n",
       "      <td>control</td>\n",
       "      <td>False</td>\n",
       "      <td>German</td>\n",
       "      <td>English</td>\n",
       "      <td>0-18 years</td>\n",
       "      <td>2018-01-07 05:00:35</td>\n",
       "      <td>NaN</td>\n",
       "      <td>Google</td>\n",
       "      <td>False</td>\n",
       "    </tr>\n",
       "    <tr>\n",
       "      <th>1</th>\n",
       "      <td>a10000030</td>\n",
       "      <td>2018-01-22 06:16:36</td>\n",
       "      <td>Push</td>\n",
       "      <td>control</td>\n",
       "      <td>False</td>\n",
       "      <td>Spanish</td>\n",
       "      <td>English</td>\n",
       "      <td>55+ years</td>\n",
       "      <td>2018-01-10 13:08:23</td>\n",
       "      <td>NaN</td>\n",
       "      <td>Facebook</td>\n",
       "      <td>True</td>\n",
       "    </tr>\n",
       "    <tr>\n",
       "      <th>2</th>\n",
       "      <td>a10000031</td>\n",
       "      <td>2018-01-25 20:16:59</td>\n",
       "      <td>Google</td>\n",
       "      <td>control</td>\n",
       "      <td>False</td>\n",
       "      <td>English</td>\n",
       "      <td>German</td>\n",
       "      <td>55+ years</td>\n",
       "      <td>2018-01-17 15:50:51</td>\n",
       "      <td>NaN</td>\n",
       "      <td>Email</td>\n",
       "      <td>True</td>\n",
       "    </tr>\n",
       "    <tr>\n",
       "      <th>3</th>\n",
       "      <td>a10000032</td>\n",
       "      <td>2018-01-17 16:59:39</td>\n",
       "      <td>Push</td>\n",
       "      <td>personalization</td>\n",
       "      <td>True</td>\n",
       "      <td>Spanish</td>\n",
       "      <td>German</td>\n",
       "      <td>55+ years</td>\n",
       "      <td>2018-01-22 10:54:34</td>\n",
       "      <td>NaN</td>\n",
       "      <td>Facebook</td>\n",
       "      <td>False</td>\n",
       "    </tr>\n",
       "    <tr>\n",
       "      <th>4</th>\n",
       "      <td>a10000033</td>\n",
       "      <td>2018-01-09 03:00:25</td>\n",
       "      <td>Email</td>\n",
       "      <td>personalization</td>\n",
       "      <td>True</td>\n",
       "      <td>Spanish</td>\n",
       "      <td>Spanish</td>\n",
       "      <td>36-45 years</td>\n",
       "      <td>2018-01-19 18:51:04</td>\n",
       "      <td>NaN</td>\n",
       "      <td>Instagram</td>\n",
       "      <td>True</td>\n",
       "    </tr>\n",
       "  </tbody>\n",
       "</table>\n",
       "</div>"
      ],
      "text/plain": [
       "     user_id         date_served marketing_channel          variant  \\\n",
       "0  a10000029 2018-01-19 08:58:03          Facebook          control   \n",
       "1  a10000030 2018-01-22 06:16:36              Push          control   \n",
       "2  a10000031 2018-01-25 20:16:59            Google          control   \n",
       "3  a10000032 2018-01-17 16:59:39              Push  personalization   \n",
       "4  a10000033 2018-01-09 03:00:25             Email  personalization   \n",
       "\n",
       "   converted language_displayed language_preferred    age_group  \\\n",
       "0      False             German            English   0-18 years   \n",
       "1      False            Spanish            English    55+ years   \n",
       "2      False            English             German    55+ years   \n",
       "3       True            Spanish             German    55+ years   \n",
       "4       True            Spanish            Spanish  36-45 years   \n",
       "\n",
       "      date_subscribed  date_canceled subscribing_channel  is_retained  \n",
       "0 2018-01-07 05:00:35            NaN              Google        False  \n",
       "1 2018-01-10 13:08:23            NaN            Facebook         True  \n",
       "2 2018-01-17 15:50:51            NaN               Email         True  \n",
       "3 2018-01-22 10:54:34            NaN            Facebook        False  \n",
       "4 2018-01-19 18:51:04            NaN           Instagram         True  "
      ]
     },
     "execution_count": 110,
     "metadata": {},
     "output_type": "execute_result"
    }
   ],
   "source": [
    "df = pd.read_excel('data/ab_testing_email.xlsx')\n",
    "df.head()"
   ]
  },
  {
   "cell_type": "markdown",
   "metadata": {},
   "source": [
    "## Transformación y limpieza de datos"
   ]
  },
  {
   "cell_type": "code",
   "execution_count": 111,
   "metadata": {},
   "outputs": [
    {
     "data": {
      "text/html": [
       "<div>\n",
       "<style scoped>\n",
       "    .dataframe tbody tr th:only-of-type {\n",
       "        vertical-align: middle;\n",
       "    }\n",
       "\n",
       "    .dataframe tbody tr th {\n",
       "        vertical-align: top;\n",
       "    }\n",
       "\n",
       "    .dataframe thead th {\n",
       "        text-align: right;\n",
       "    }\n",
       "</style>\n",
       "<table border=\"1\" class=\"dataframe\">\n",
       "  <thead>\n",
       "    <tr style=\"text-align: right;\">\n",
       "      <th></th>\n",
       "      <th>user_id</th>\n",
       "      <th>date_served</th>\n",
       "      <th>marketing_channel</th>\n",
       "      <th>variant</th>\n",
       "      <th>converted</th>\n",
       "      <th>language_displayed</th>\n",
       "      <th>language_preferred</th>\n",
       "      <th>age_group</th>\n",
       "      <th>date_subscribed</th>\n",
       "      <th>date_canceled</th>\n",
       "      <th>subscribing_channel</th>\n",
       "      <th>is_retained</th>\n",
       "    </tr>\n",
       "  </thead>\n",
       "  <tbody>\n",
       "    <tr>\n",
       "      <th>0</th>\n",
       "      <td>a10000029</td>\n",
       "      <td>2018-01-19 08:58:03</td>\n",
       "      <td>Facebook</td>\n",
       "      <td>control</td>\n",
       "      <td>False</td>\n",
       "      <td>German</td>\n",
       "      <td>English</td>\n",
       "      <td>0-18 years</td>\n",
       "      <td>2018-01-07 05:00:35</td>\n",
       "      <td>NaN</td>\n",
       "      <td>Google</td>\n",
       "      <td>False</td>\n",
       "    </tr>\n",
       "    <tr>\n",
       "      <th>1</th>\n",
       "      <td>a10000030</td>\n",
       "      <td>2018-01-22 06:16:36</td>\n",
       "      <td>Push</td>\n",
       "      <td>control</td>\n",
       "      <td>False</td>\n",
       "      <td>Spanish</td>\n",
       "      <td>English</td>\n",
       "      <td>55+ years</td>\n",
       "      <td>2018-01-10 13:08:23</td>\n",
       "      <td>NaN</td>\n",
       "      <td>Facebook</td>\n",
       "      <td>True</td>\n",
       "    </tr>\n",
       "    <tr>\n",
       "      <th>2</th>\n",
       "      <td>a10000031</td>\n",
       "      <td>2018-01-25 20:16:59</td>\n",
       "      <td>Google</td>\n",
       "      <td>control</td>\n",
       "      <td>False</td>\n",
       "      <td>English</td>\n",
       "      <td>German</td>\n",
       "      <td>55+ years</td>\n",
       "      <td>2018-01-17 15:50:51</td>\n",
       "      <td>NaN</td>\n",
       "      <td>Email</td>\n",
       "      <td>True</td>\n",
       "    </tr>\n",
       "    <tr>\n",
       "      <th>3</th>\n",
       "      <td>a10000032</td>\n",
       "      <td>2018-01-17 16:59:39</td>\n",
       "      <td>Push</td>\n",
       "      <td>personalization</td>\n",
       "      <td>True</td>\n",
       "      <td>Spanish</td>\n",
       "      <td>German</td>\n",
       "      <td>55+ years</td>\n",
       "      <td>2018-01-22 10:54:34</td>\n",
       "      <td>NaN</td>\n",
       "      <td>Facebook</td>\n",
       "      <td>False</td>\n",
       "    </tr>\n",
       "    <tr>\n",
       "      <th>4</th>\n",
       "      <td>a10000033</td>\n",
       "      <td>2018-01-09 03:00:25</td>\n",
       "      <td>Email</td>\n",
       "      <td>personalization</td>\n",
       "      <td>True</td>\n",
       "      <td>Spanish</td>\n",
       "      <td>Spanish</td>\n",
       "      <td>36-45 years</td>\n",
       "      <td>2018-01-19 18:51:04</td>\n",
       "      <td>NaN</td>\n",
       "      <td>Instagram</td>\n",
       "      <td>True</td>\n",
       "    </tr>\n",
       "  </tbody>\n",
       "</table>\n",
       "</div>"
      ],
      "text/plain": [
       "     user_id         date_served marketing_channel          variant  \\\n",
       "0  a10000029 2018-01-19 08:58:03          Facebook          control   \n",
       "1  a10000030 2018-01-22 06:16:36              Push          control   \n",
       "2  a10000031 2018-01-25 20:16:59            Google          control   \n",
       "3  a10000032 2018-01-17 16:59:39              Push  personalization   \n",
       "4  a10000033 2018-01-09 03:00:25             Email  personalization   \n",
       "\n",
       "   converted language_displayed language_preferred    age_group  \\\n",
       "0      False             German            English   0-18 years   \n",
       "1      False            Spanish            English    55+ years   \n",
       "2      False            English             German    55+ years   \n",
       "3       True            Spanish             German    55+ years   \n",
       "4       True            Spanish            Spanish  36-45 years   \n",
       "\n",
       "      date_subscribed  date_canceled subscribing_channel  is_retained  \n",
       "0 2018-01-07 05:00:35            NaN              Google        False  \n",
       "1 2018-01-10 13:08:23            NaN            Facebook         True  \n",
       "2 2018-01-17 15:50:51            NaN               Email         True  \n",
       "3 2018-01-22 10:54:34            NaN            Facebook        False  \n",
       "4 2018-01-19 18:51:04            NaN           Instagram         True  "
      ]
     },
     "execution_count": 111,
     "metadata": {},
     "output_type": "execute_result"
    }
   ],
   "source": [
    "df.head()"
   ]
  },
  {
   "cell_type": "code",
   "execution_count": 112,
   "metadata": {},
   "outputs": [
    {
     "data": {
      "text/html": [
       "<div>\n",
       "<style scoped>\n",
       "    .dataframe tbody tr th:only-of-type {\n",
       "        vertical-align: middle;\n",
       "    }\n",
       "\n",
       "    .dataframe tbody tr th {\n",
       "        vertical-align: top;\n",
       "    }\n",
       "\n",
       "    .dataframe thead th {\n",
       "        text-align: right;\n",
       "    }\n",
       "</style>\n",
       "<table border=\"1\" class=\"dataframe\">\n",
       "  <thead>\n",
       "    <tr style=\"text-align: right;\">\n",
       "      <th></th>\n",
       "      <th>user_id</th>\n",
       "      <th>date_served</th>\n",
       "      <th>marketing_channel</th>\n",
       "      <th>variant</th>\n",
       "      <th>converted</th>\n",
       "      <th>language_displayed</th>\n",
       "      <th>language_preferred</th>\n",
       "      <th>age_group</th>\n",
       "      <th>date_subscribed</th>\n",
       "      <th>date_canceled</th>\n",
       "      <th>subscribing_channel</th>\n",
       "      <th>is_retained</th>\n",
       "    </tr>\n",
       "  </thead>\n",
       "  <tbody>\n",
       "    <tr>\n",
       "      <th>995</th>\n",
       "      <td>a10001024</td>\n",
       "      <td>2018-01-29 20:55:21</td>\n",
       "      <td>Google</td>\n",
       "      <td>control</td>\n",
       "      <td>False</td>\n",
       "      <td>English</td>\n",
       "      <td>English</td>\n",
       "      <td>0-18 years</td>\n",
       "      <td>2018-01-21 00:54:57</td>\n",
       "      <td>NaN</td>\n",
       "      <td>Facebook</td>\n",
       "      <td>False</td>\n",
       "    </tr>\n",
       "    <tr>\n",
       "      <th>996</th>\n",
       "      <td>a10001025</td>\n",
       "      <td>2018-01-20 13:18:21</td>\n",
       "      <td>Email</td>\n",
       "      <td>personalization</td>\n",
       "      <td>False</td>\n",
       "      <td>German</td>\n",
       "      <td>English</td>\n",
       "      <td>19-24 years</td>\n",
       "      <td>2018-01-16 06:01:29</td>\n",
       "      <td>NaN</td>\n",
       "      <td>Email</td>\n",
       "      <td>False</td>\n",
       "    </tr>\n",
       "    <tr>\n",
       "      <th>997</th>\n",
       "      <td>a10001026</td>\n",
       "      <td>2018-01-07 04:36:07</td>\n",
       "      <td>Facebook</td>\n",
       "      <td>personalization</td>\n",
       "      <td>True</td>\n",
       "      <td>Spanish</td>\n",
       "      <td>German</td>\n",
       "      <td>19-24 years</td>\n",
       "      <td>2018-01-13 22:51:12</td>\n",
       "      <td>NaN</td>\n",
       "      <td>Facebook</td>\n",
       "      <td>False</td>\n",
       "    </tr>\n",
       "    <tr>\n",
       "      <th>998</th>\n",
       "      <td>a10001027</td>\n",
       "      <td>2018-01-03 02:00:53</td>\n",
       "      <td>House Ads</td>\n",
       "      <td>personalization</td>\n",
       "      <td>True</td>\n",
       "      <td>Spanish</td>\n",
       "      <td>English</td>\n",
       "      <td>36-45 years</td>\n",
       "      <td>2018-01-11 22:57:44</td>\n",
       "      <td>NaN</td>\n",
       "      <td>Email</td>\n",
       "      <td>False</td>\n",
       "    </tr>\n",
       "    <tr>\n",
       "      <th>999</th>\n",
       "      <td>a10001028</td>\n",
       "      <td>2018-01-30 23:02:54</td>\n",
       "      <td>Push</td>\n",
       "      <td>control</td>\n",
       "      <td>False</td>\n",
       "      <td>German</td>\n",
       "      <td>Spanish</td>\n",
       "      <td>19-24 years</td>\n",
       "      <td>2018-01-08 17:36:56</td>\n",
       "      <td>NaN</td>\n",
       "      <td>Facebook</td>\n",
       "      <td>False</td>\n",
       "    </tr>\n",
       "  </tbody>\n",
       "</table>\n",
       "</div>"
      ],
      "text/plain": [
       "       user_id         date_served marketing_channel          variant  \\\n",
       "995  a10001024 2018-01-29 20:55:21            Google          control   \n",
       "996  a10001025 2018-01-20 13:18:21             Email  personalization   \n",
       "997  a10001026 2018-01-07 04:36:07          Facebook  personalization   \n",
       "998  a10001027 2018-01-03 02:00:53         House Ads  personalization   \n",
       "999  a10001028 2018-01-30 23:02:54              Push          control   \n",
       "\n",
       "     converted language_displayed language_preferred    age_group  \\\n",
       "995      False            English            English   0-18 years   \n",
       "996      False             German            English  19-24 years   \n",
       "997       True            Spanish             German  19-24 years   \n",
       "998       True            Spanish            English  36-45 years   \n",
       "999      False             German            Spanish  19-24 years   \n",
       "\n",
       "        date_subscribed  date_canceled subscribing_channel  is_retained  \n",
       "995 2018-01-21 00:54:57            NaN            Facebook        False  \n",
       "996 2018-01-16 06:01:29            NaN               Email        False  \n",
       "997 2018-01-13 22:51:12            NaN            Facebook        False  \n",
       "998 2018-01-11 22:57:44            NaN               Email        False  \n",
       "999 2018-01-08 17:36:56            NaN            Facebook        False  "
      ]
     },
     "execution_count": 112,
     "metadata": {},
     "output_type": "execute_result"
    }
   ],
   "source": [
    "df.tail()"
   ]
  },
  {
   "cell_type": "code",
   "execution_count": 113,
   "metadata": {},
   "outputs": [
    {
     "data": {
      "text/html": [
       "<div>\n",
       "<style scoped>\n",
       "    .dataframe tbody tr th:only-of-type {\n",
       "        vertical-align: middle;\n",
       "    }\n",
       "\n",
       "    .dataframe tbody tr th {\n",
       "        vertical-align: top;\n",
       "    }\n",
       "\n",
       "    .dataframe thead th {\n",
       "        text-align: right;\n",
       "    }\n",
       "</style>\n",
       "<table border=\"1\" class=\"dataframe\">\n",
       "  <thead>\n",
       "    <tr style=\"text-align: right;\">\n",
       "      <th></th>\n",
       "      <th>user_id</th>\n",
       "      <th>date_served</th>\n",
       "      <th>marketing_channel</th>\n",
       "      <th>variant</th>\n",
       "      <th>converted</th>\n",
       "      <th>language_displayed</th>\n",
       "      <th>language_preferred</th>\n",
       "      <th>age_group</th>\n",
       "      <th>date_subscribed</th>\n",
       "      <th>date_canceled</th>\n",
       "      <th>subscribing_channel</th>\n",
       "      <th>is_retained</th>\n",
       "    </tr>\n",
       "  </thead>\n",
       "  <tbody>\n",
       "    <tr>\n",
       "      <th>38</th>\n",
       "      <td>a10000067</td>\n",
       "      <td>2018-01-03 09:25:00</td>\n",
       "      <td>Google</td>\n",
       "      <td>personalization</td>\n",
       "      <td>True</td>\n",
       "      <td>German</td>\n",
       "      <td>German</td>\n",
       "      <td>24-30 years</td>\n",
       "      <td>2018-01-01 10:15:29</td>\n",
       "      <td>NaN</td>\n",
       "      <td>Google</td>\n",
       "      <td>False</td>\n",
       "    </tr>\n",
       "    <tr>\n",
       "      <th>36</th>\n",
       "      <td>a10000065</td>\n",
       "      <td>2018-01-16 21:32:55</td>\n",
       "      <td>Instagram</td>\n",
       "      <td>personalization</td>\n",
       "      <td>True</td>\n",
       "      <td>Spanish</td>\n",
       "      <td>Spanish</td>\n",
       "      <td>0-18 years</td>\n",
       "      <td>2018-01-07 03:38:50</td>\n",
       "      <td>NaN</td>\n",
       "      <td>Google</td>\n",
       "      <td>True</td>\n",
       "    </tr>\n",
       "    <tr>\n",
       "      <th>256</th>\n",
       "      <td>a10000285</td>\n",
       "      <td>2018-01-20 09:29:51</td>\n",
       "      <td>Push</td>\n",
       "      <td>personalization</td>\n",
       "      <td>False</td>\n",
       "      <td>English</td>\n",
       "      <td>English</td>\n",
       "      <td>24-30 years</td>\n",
       "      <td>2018-01-16 19:05:46</td>\n",
       "      <td>NaN</td>\n",
       "      <td>Facebook</td>\n",
       "      <td>False</td>\n",
       "    </tr>\n",
       "    <tr>\n",
       "      <th>161</th>\n",
       "      <td>a10000190</td>\n",
       "      <td>2018-01-14 01:20:47</td>\n",
       "      <td>House Ads</td>\n",
       "      <td>control</td>\n",
       "      <td>False</td>\n",
       "      <td>German</td>\n",
       "      <td>English</td>\n",
       "      <td>36-45 years</td>\n",
       "      <td>2018-01-07 13:22:22</td>\n",
       "      <td>NaN</td>\n",
       "      <td>Instagram</td>\n",
       "      <td>True</td>\n",
       "    </tr>\n",
       "    <tr>\n",
       "      <th>166</th>\n",
       "      <td>a10000195</td>\n",
       "      <td>2018-01-10 02:54:15</td>\n",
       "      <td>Instagram</td>\n",
       "      <td>personalization</td>\n",
       "      <td>True</td>\n",
       "      <td>German</td>\n",
       "      <td>Spanish</td>\n",
       "      <td>36-45 years</td>\n",
       "      <td>2018-01-27 21:37:25</td>\n",
       "      <td>NaN</td>\n",
       "      <td>House Ads</td>\n",
       "      <td>False</td>\n",
       "    </tr>\n",
       "  </tbody>\n",
       "</table>\n",
       "</div>"
      ],
      "text/plain": [
       "       user_id         date_served marketing_channel          variant  \\\n",
       "38   a10000067 2018-01-03 09:25:00            Google  personalization   \n",
       "36   a10000065 2018-01-16 21:32:55         Instagram  personalization   \n",
       "256  a10000285 2018-01-20 09:29:51              Push  personalization   \n",
       "161  a10000190 2018-01-14 01:20:47         House Ads          control   \n",
       "166  a10000195 2018-01-10 02:54:15         Instagram  personalization   \n",
       "\n",
       "     converted language_displayed language_preferred    age_group  \\\n",
       "38        True             German             German  24-30 years   \n",
       "36        True            Spanish            Spanish   0-18 years   \n",
       "256      False            English            English  24-30 years   \n",
       "161      False             German            English  36-45 years   \n",
       "166       True             German            Spanish  36-45 years   \n",
       "\n",
       "        date_subscribed  date_canceled subscribing_channel  is_retained  \n",
       "38  2018-01-01 10:15:29            NaN              Google        False  \n",
       "36  2018-01-07 03:38:50            NaN              Google         True  \n",
       "256 2018-01-16 19:05:46            NaN            Facebook        False  \n",
       "161 2018-01-07 13:22:22            NaN           Instagram         True  \n",
       "166 2018-01-27 21:37:25            NaN           House Ads        False  "
      ]
     },
     "execution_count": 113,
     "metadata": {},
     "output_type": "execute_result"
    }
   ],
   "source": [
    "df.sample(5)"
   ]
  },
  {
   "cell_type": "code",
   "execution_count": 114,
   "metadata": {},
   "outputs": [
    {
     "name": "stdout",
     "output_type": "stream",
     "text": [
      "<class 'pandas.core.frame.DataFrame'>\n",
      "RangeIndex: 1000 entries, 0 to 999\n",
      "Data columns (total 12 columns):\n",
      " #   Column               Non-Null Count  Dtype         \n",
      "---  ------               --------------  -----         \n",
      " 0   user_id              1000 non-null   object        \n",
      " 1   date_served          1000 non-null   datetime64[ns]\n",
      " 2   marketing_channel    1000 non-null   object        \n",
      " 3   variant              1000 non-null   object        \n",
      " 4   converted            1000 non-null   bool          \n",
      " 5   language_displayed   1000 non-null   object        \n",
      " 6   language_preferred   1000 non-null   object        \n",
      " 7   age_group            1000 non-null   object        \n",
      " 8   date_subscribed      1000 non-null   datetime64[ns]\n",
      " 9   date_canceled        0 non-null      float64       \n",
      " 10  subscribing_channel  1000 non-null   object        \n",
      " 11  is_retained          1000 non-null   bool          \n",
      "dtypes: bool(2), datetime64[ns](2), float64(1), object(7)\n",
      "memory usage: 80.2+ KB\n"
     ]
    }
   ],
   "source": [
    "df.info()"
   ]
  },
  {
   "cell_type": "code",
   "execution_count": 115,
   "metadata": {},
   "outputs": [],
   "source": [
    "df.drop(columns='date_canceled',inplace=True)"
   ]
  },
  {
   "cell_type": "markdown",
   "metadata": {},
   "source": [
    "### Detección de valores faltantes"
   ]
  },
  {
   "cell_type": "code",
   "execution_count": 116,
   "metadata": {},
   "outputs": [
    {
     "data": {
      "text/plain": [
       "user_id                False\n",
       "date_served            False\n",
       "marketing_channel      False\n",
       "variant                False\n",
       "converted              False\n",
       "language_displayed     False\n",
       "language_preferred     False\n",
       "age_group              False\n",
       "date_subscribed        False\n",
       "subscribing_channel    False\n",
       "is_retained            False\n",
       "dtype: bool"
      ]
     },
     "execution_count": 116,
     "metadata": {},
     "output_type": "execute_result"
    }
   ],
   "source": [
    "df.isna().any()"
   ]
  },
  {
   "cell_type": "markdown",
   "metadata": {},
   "source": [
    "### Detección de duplicados"
   ]
  },
  {
   "cell_type": "code",
   "execution_count": 117,
   "metadata": {},
   "outputs": [
    {
     "data": {
      "text/plain": [
       "0"
      ]
     },
     "execution_count": 117,
     "metadata": {},
     "output_type": "execute_result"
    }
   ],
   "source": [
    "df.duplicated().sum()"
   ]
  },
  {
   "cell_type": "markdown",
   "metadata": {},
   "source": [
    "### Transformación y limpieza de datos"
   ]
  },
  {
   "cell_type": "code",
   "execution_count": 118,
   "metadata": {},
   "outputs": [
    {
     "name": "stdout",
     "output_type": "stream",
     "text": [
      "<class 'pandas.core.frame.DataFrame'>\n",
      "RangeIndex: 1000 entries, 0 to 999\n",
      "Data columns (total 11 columns):\n",
      " #   Column               Non-Null Count  Dtype         \n",
      "---  ------               --------------  -----         \n",
      " 0   user_id              1000 non-null   object        \n",
      " 1   date_served          1000 non-null   datetime64[ns]\n",
      " 2   marketing_channel    1000 non-null   object        \n",
      " 3   variant              1000 non-null   object        \n",
      " 4   converted            1000 non-null   bool          \n",
      " 5   language_displayed   1000 non-null   object        \n",
      " 6   language_preferred   1000 non-null   object        \n",
      " 7   age_group            1000 non-null   object        \n",
      " 8   date_subscribed      1000 non-null   datetime64[ns]\n",
      " 9   subscribing_channel  1000 non-null   object        \n",
      " 10  is_retained          1000 non-null   bool          \n",
      "dtypes: bool(2), datetime64[ns](2), object(7)\n",
      "memory usage: 72.4+ KB\n"
     ]
    }
   ],
   "source": [
    "df.info()"
   ]
  },
  {
   "cell_type": "code",
   "execution_count": 119,
   "metadata": {},
   "outputs": [],
   "source": [
    "df['date_served'] = pd.to_datetime(df['date_served'])"
   ]
  },
  {
   "cell_type": "code",
   "execution_count": 120,
   "metadata": {},
   "outputs": [],
   "source": [
    "df['date_subscribed'] = pd.to_datetime(df['date_subscribed'])"
   ]
  },
  {
   "cell_type": "code",
   "execution_count": 121,
   "metadata": {},
   "outputs": [
    {
     "data": {
      "text/plain": [
       "array(['Facebook', 'Push', 'Google', 'Email', 'Instagram', 'House Ads'],\n",
       "      dtype=object)"
      ]
     },
     "execution_count": 121,
     "metadata": {},
     "output_type": "execute_result"
    }
   ],
   "source": [
    "df['marketing_channel'].unique()"
   ]
  },
  {
   "cell_type": "code",
   "execution_count": 122,
   "metadata": {},
   "outputs": [],
   "source": [
    "df['marketing_channel'] = df['marketing_channel'].astype('category')"
   ]
  },
  {
   "cell_type": "code",
   "execution_count": 123,
   "metadata": {},
   "outputs": [
    {
     "data": {
      "text/plain": [
       "array(['control', 'personalization'], dtype=object)"
      ]
     },
     "execution_count": 123,
     "metadata": {},
     "output_type": "execute_result"
    }
   ],
   "source": [
    "df['variant'].unique()"
   ]
  },
  {
   "cell_type": "code",
   "execution_count": 124,
   "metadata": {},
   "outputs": [],
   "source": [
    "df['variant'] = df['variant'].astype('category')"
   ]
  },
  {
   "cell_type": "code",
   "execution_count": 125,
   "metadata": {},
   "outputs": [
    {
     "data": {
      "text/plain": [
       "array(['German', 'Spanish', 'English'], dtype=object)"
      ]
     },
     "execution_count": 125,
     "metadata": {},
     "output_type": "execute_result"
    }
   ],
   "source": [
    "df['language_displayed'].unique()"
   ]
  },
  {
   "cell_type": "code",
   "execution_count": 126,
   "metadata": {},
   "outputs": [],
   "source": [
    "df['language_displayed'] = df['language_displayed'].astype('category')"
   ]
  },
  {
   "cell_type": "code",
   "execution_count": 127,
   "metadata": {},
   "outputs": [
    {
     "data": {
      "text/plain": [
       "array(['English', 'German', 'Spanish'], dtype=object)"
      ]
     },
     "execution_count": 127,
     "metadata": {},
     "output_type": "execute_result"
    }
   ],
   "source": [
    "df['language_preferred'].unique()"
   ]
  },
  {
   "cell_type": "code",
   "execution_count": 128,
   "metadata": {},
   "outputs": [],
   "source": [
    "df['language_preferred'] = df['language_preferred'].astype('category')"
   ]
  },
  {
   "cell_type": "code",
   "execution_count": 129,
   "metadata": {},
   "outputs": [],
   "source": [
    "df['age_group'] = pd.Categorical(\n",
    "    df['age_group'].str[:-6],\n",
    "    ['0-18', '19-24', '24-30', '30-36', '36-45', '45-55', '55+'],\n",
    "    ordered = True\n",
    ")"
   ]
  },
  {
   "cell_type": "code",
   "execution_count": 130,
   "metadata": {},
   "outputs": [
    {
     "data": {
      "text/plain": [
       "array(['Google', 'Facebook', 'Email', 'Instagram', 'House Ads'],\n",
       "      dtype=object)"
      ]
     },
     "execution_count": 130,
     "metadata": {},
     "output_type": "execute_result"
    }
   ],
   "source": [
    "df['subscribing_channel'].unique()"
   ]
  },
  {
   "cell_type": "code",
   "execution_count": 161,
   "metadata": {},
   "outputs": [],
   "source": [
    "df['subscribing_channel'] = pd.Categorical(df['subscribing_channel'],\n",
    "                                           ['Email', 'Facebook', 'Google', 'House Ads', 'Instagram', 'Push'])"
   ]
  },
  {
   "cell_type": "markdown",
   "metadata": {},
   "source": [
    "## Creación de columnas"
   ]
  },
  {
   "cell_type": "code",
   "execution_count": 132,
   "metadata": {},
   "outputs": [
    {
     "data": {
      "text/plain": [
       "149     23 days 05:04:02\n",
       "720    -4 days +11:18:40\n",
       "523   -12 days +18:08:12\n",
       "722    -3 days +22:37:10\n",
       "350     25 days 11:30:03\n",
       "141    -3 days +10:32:06\n",
       "910    -8 days +23:31:00\n",
       "309   -10 days +22:43:44\n",
       "271   -18 days +02:04:25\n",
       "289      2 days 06:03:54\n",
       "Name: tiempo_de_conversion, dtype: timedelta64[ns]"
      ]
     },
     "execution_count": 132,
     "metadata": {},
     "output_type": "execute_result"
    }
   ],
   "source": [
    "df['tiempo_de_conversion'] = df['date_subscribed'] - df['date_served']\n",
    "df['tiempo_de_conversion'].sample(10)"
   ]
  },
  {
   "cell_type": "markdown",
   "metadata": {},
   "source": [
    "Se eliminan aquellos datos donde la suscripción fue previa al correo enviado"
   ]
  },
  {
   "cell_type": "code",
   "execution_count": 133,
   "metadata": {},
   "outputs": [],
   "source": [
    "df = (\n",
    "    df\n",
    "    .query('tiempo_de_conversion.dt.days > 0')\n",
    ")"
   ]
  },
  {
   "cell_type": "code",
   "execution_count": 134,
   "metadata": {},
   "outputs": [
    {
     "data": {
      "text/html": [
       "<div>\n",
       "<style scoped>\n",
       "    .dataframe tbody tr th:only-of-type {\n",
       "        vertical-align: middle;\n",
       "    }\n",
       "\n",
       "    .dataframe tbody tr th {\n",
       "        vertical-align: top;\n",
       "    }\n",
       "\n",
       "    .dataframe thead th {\n",
       "        text-align: right;\n",
       "    }\n",
       "</style>\n",
       "<table border=\"1\" class=\"dataframe\">\n",
       "  <thead>\n",
       "    <tr style=\"text-align: right;\">\n",
       "      <th></th>\n",
       "      <th>user_id</th>\n",
       "      <th>date_served</th>\n",
       "      <th>marketing_channel</th>\n",
       "      <th>variant</th>\n",
       "      <th>converted</th>\n",
       "      <th>language_displayed</th>\n",
       "      <th>language_preferred</th>\n",
       "      <th>age_group</th>\n",
       "      <th>date_subscribed</th>\n",
       "      <th>subscribing_channel</th>\n",
       "      <th>is_retained</th>\n",
       "      <th>tiempo_de_conversion</th>\n",
       "    </tr>\n",
       "  </thead>\n",
       "  <tbody>\n",
       "    <tr>\n",
       "      <th>5</th>\n",
       "      <td>a10000034</td>\n",
       "      <td>2018-01-03 22:11:23</td>\n",
       "      <td>Facebook</td>\n",
       "      <td>control</td>\n",
       "      <td>False</td>\n",
       "      <td>English</td>\n",
       "      <td>English</td>\n",
       "      <td>19-24</td>\n",
       "      <td>2018-01-16 05:06:18</td>\n",
       "      <td>Instagram</td>\n",
       "      <td>True</td>\n",
       "      <td>12 days 06:54:55</td>\n",
       "    </tr>\n",
       "    <tr>\n",
       "      <th>732</th>\n",
       "      <td>a10000761</td>\n",
       "      <td>2018-01-20 20:42:32</td>\n",
       "      <td>Instagram</td>\n",
       "      <td>personalization</td>\n",
       "      <td>True</td>\n",
       "      <td>German</td>\n",
       "      <td>Spanish</td>\n",
       "      <td>0-18</td>\n",
       "      <td>2018-01-26 02:13:50</td>\n",
       "      <td>Instagram</td>\n",
       "      <td>False</td>\n",
       "      <td>5 days 05:31:18</td>\n",
       "    </tr>\n",
       "    <tr>\n",
       "      <th>491</th>\n",
       "      <td>a10000520</td>\n",
       "      <td>2018-01-16 05:33:47</td>\n",
       "      <td>Facebook</td>\n",
       "      <td>personalization</td>\n",
       "      <td>True</td>\n",
       "      <td>Spanish</td>\n",
       "      <td>Spanish</td>\n",
       "      <td>36-45</td>\n",
       "      <td>2018-01-25 00:42:29</td>\n",
       "      <td>Facebook</td>\n",
       "      <td>False</td>\n",
       "      <td>8 days 19:08:42</td>\n",
       "    </tr>\n",
       "    <tr>\n",
       "      <th>896</th>\n",
       "      <td>a10000925</td>\n",
       "      <td>2018-01-02 08:04:31</td>\n",
       "      <td>Facebook</td>\n",
       "      <td>personalization</td>\n",
       "      <td>True</td>\n",
       "      <td>Spanish</td>\n",
       "      <td>German</td>\n",
       "      <td>55+</td>\n",
       "      <td>2018-01-28 08:38:43</td>\n",
       "      <td>Facebook</td>\n",
       "      <td>True</td>\n",
       "      <td>26 days 00:34:12</td>\n",
       "    </tr>\n",
       "    <tr>\n",
       "      <th>225</th>\n",
       "      <td>a10000254</td>\n",
       "      <td>2018-01-15 19:05:34</td>\n",
       "      <td>Google</td>\n",
       "      <td>personalization</td>\n",
       "      <td>False</td>\n",
       "      <td>German</td>\n",
       "      <td>Spanish</td>\n",
       "      <td>30-36</td>\n",
       "      <td>2018-01-29 08:19:00</td>\n",
       "      <td>Instagram</td>\n",
       "      <td>True</td>\n",
       "      <td>13 days 13:13:26</td>\n",
       "    </tr>\n",
       "    <tr>\n",
       "      <th>470</th>\n",
       "      <td>a10000499</td>\n",
       "      <td>2018-01-14 04:47:18</td>\n",
       "      <td>Instagram</td>\n",
       "      <td>personalization</td>\n",
       "      <td>True</td>\n",
       "      <td>English</td>\n",
       "      <td>German</td>\n",
       "      <td>36-45</td>\n",
       "      <td>2018-01-25 07:33:28</td>\n",
       "      <td>House Ads</td>\n",
       "      <td>False</td>\n",
       "      <td>11 days 02:46:10</td>\n",
       "    </tr>\n",
       "    <tr>\n",
       "      <th>791</th>\n",
       "      <td>a10000820</td>\n",
       "      <td>2018-01-03 02:57:57</td>\n",
       "      <td>House Ads</td>\n",
       "      <td>control</td>\n",
       "      <td>False</td>\n",
       "      <td>German</td>\n",
       "      <td>German</td>\n",
       "      <td>45-55</td>\n",
       "      <td>2018-01-08 18:02:01</td>\n",
       "      <td>House Ads</td>\n",
       "      <td>False</td>\n",
       "      <td>5 days 15:04:04</td>\n",
       "    </tr>\n",
       "    <tr>\n",
       "      <th>498</th>\n",
       "      <td>a10000527</td>\n",
       "      <td>2018-01-19 16:17:07</td>\n",
       "      <td>Instagram</td>\n",
       "      <td>personalization</td>\n",
       "      <td>False</td>\n",
       "      <td>German</td>\n",
       "      <td>Spanish</td>\n",
       "      <td>36-45</td>\n",
       "      <td>2018-01-25 12:18:02</td>\n",
       "      <td>Email</td>\n",
       "      <td>False</td>\n",
       "      <td>5 days 20:00:55</td>\n",
       "    </tr>\n",
       "    <tr>\n",
       "      <th>82</th>\n",
       "      <td>a10000111</td>\n",
       "      <td>2018-01-04 19:40:43</td>\n",
       "      <td>Push</td>\n",
       "      <td>personalization</td>\n",
       "      <td>True</td>\n",
       "      <td>Spanish</td>\n",
       "      <td>German</td>\n",
       "      <td>45-55</td>\n",
       "      <td>2018-01-19 12:27:15</td>\n",
       "      <td>Facebook</td>\n",
       "      <td>False</td>\n",
       "      <td>14 days 16:46:32</td>\n",
       "    </tr>\n",
       "    <tr>\n",
       "      <th>222</th>\n",
       "      <td>a10000251</td>\n",
       "      <td>2018-01-05 16:03:46</td>\n",
       "      <td>Email</td>\n",
       "      <td>control</td>\n",
       "      <td>False</td>\n",
       "      <td>German</td>\n",
       "      <td>English</td>\n",
       "      <td>19-24</td>\n",
       "      <td>2018-01-23 10:43:01</td>\n",
       "      <td>Google</td>\n",
       "      <td>True</td>\n",
       "      <td>17 days 18:39:15</td>\n",
       "    </tr>\n",
       "  </tbody>\n",
       "</table>\n",
       "</div>"
      ],
      "text/plain": [
       "       user_id         date_served marketing_channel          variant  \\\n",
       "5    a10000034 2018-01-03 22:11:23          Facebook          control   \n",
       "732  a10000761 2018-01-20 20:42:32         Instagram  personalization   \n",
       "491  a10000520 2018-01-16 05:33:47          Facebook  personalization   \n",
       "896  a10000925 2018-01-02 08:04:31          Facebook  personalization   \n",
       "225  a10000254 2018-01-15 19:05:34            Google  personalization   \n",
       "470  a10000499 2018-01-14 04:47:18         Instagram  personalization   \n",
       "791  a10000820 2018-01-03 02:57:57         House Ads          control   \n",
       "498  a10000527 2018-01-19 16:17:07         Instagram  personalization   \n",
       "82   a10000111 2018-01-04 19:40:43              Push  personalization   \n",
       "222  a10000251 2018-01-05 16:03:46             Email          control   \n",
       "\n",
       "     converted language_displayed language_preferred age_group  \\\n",
       "5        False            English            English     19-24   \n",
       "732       True             German            Spanish      0-18   \n",
       "491       True            Spanish            Spanish     36-45   \n",
       "896       True            Spanish             German       55+   \n",
       "225      False             German            Spanish     30-36   \n",
       "470       True            English             German     36-45   \n",
       "791      False             German             German     45-55   \n",
       "498      False             German            Spanish     36-45   \n",
       "82        True            Spanish             German     45-55   \n",
       "222      False             German            English     19-24   \n",
       "\n",
       "        date_subscribed subscribing_channel  is_retained tiempo_de_conversion  \n",
       "5   2018-01-16 05:06:18           Instagram         True     12 days 06:54:55  \n",
       "732 2018-01-26 02:13:50           Instagram        False      5 days 05:31:18  \n",
       "491 2018-01-25 00:42:29            Facebook        False      8 days 19:08:42  \n",
       "896 2018-01-28 08:38:43            Facebook         True     26 days 00:34:12  \n",
       "225 2018-01-29 08:19:00           Instagram         True     13 days 13:13:26  \n",
       "470 2018-01-25 07:33:28           House Ads        False     11 days 02:46:10  \n",
       "791 2018-01-08 18:02:01           House Ads        False      5 days 15:04:04  \n",
       "498 2018-01-25 12:18:02               Email        False      5 days 20:00:55  \n",
       "82  2018-01-19 12:27:15            Facebook        False     14 days 16:46:32  \n",
       "222 2018-01-23 10:43:01              Google         True     17 days 18:39:15  "
      ]
     },
     "execution_count": 134,
     "metadata": {},
     "output_type": "execute_result"
    }
   ],
   "source": [
    "df.sample(10)"
   ]
  },
  {
   "cell_type": "code",
   "execution_count": 135,
   "metadata": {},
   "outputs": [],
   "source": [
    "df['uso_lenguaje_preferido'] = df['language_displayed'] == df['language_preferred']"
   ]
  },
  {
   "cell_type": "code",
   "execution_count": 136,
   "metadata": {},
   "outputs": [
    {
     "data": {
      "text/plain": [
       "967    False\n",
       "480     True\n",
       "446    False\n",
       "764    False\n",
       "179     True\n",
       "160     True\n",
       "337    False\n",
       "142    False\n",
       "3      False\n",
       "576    False\n",
       "Name: uso_lenguaje_preferido, dtype: bool"
      ]
     },
     "execution_count": 136,
     "metadata": {},
     "output_type": "execute_result"
    }
   ],
   "source": [
    "df['uso_lenguaje_preferido'].sample(10)"
   ]
  },
  {
   "cell_type": "code",
   "execution_count": 137,
   "metadata": {},
   "outputs": [
    {
     "data": {
      "text/plain": [
       "65     21\n",
       "42     14\n",
       "873    17\n",
       "234     6\n",
       "470    11\n",
       "40     16\n",
       "319    10\n",
       "213    18\n",
       "429     5\n",
       "982     7\n",
       "Name: dias, dtype: int64"
      ]
     },
     "execution_count": 137,
     "metadata": {},
     "output_type": "execute_result"
    }
   ],
   "source": [
    "df['dias']  = df['tiempo_de_conversion'].dt.days\n",
    "df['dias'].sample(10)"
   ]
  },
  {
   "cell_type": "code",
   "execution_count": 162,
   "metadata": {},
   "outputs": [],
   "source": [
    "df['marketing_subs'] = df['marketing_channel'] == df['subscribing_channel']"
   ]
  },
  {
   "cell_type": "markdown",
   "metadata": {},
   "source": [
    "## Análisis exploratorio de los datos"
   ]
  },
  {
   "cell_type": "code",
   "execution_count": 138,
   "metadata": {},
   "outputs": [
    {
     "data": {
      "text/plain": [
       "<Axes: xlabel='dias', ylabel='Density'>"
      ]
     },
     "execution_count": 138,
     "metadata": {},
     "output_type": "execute_result"
    },
    {
     "data": {
      "image/png": "[encoded data removed]",
      "text/plain": [
       "<Figure size 640x480 with 1 Axes>"
      ]
     },
     "metadata": {},
     "output_type": "display_data"
    }
   ],
   "source": [
    "sns.kdeplot(\n",
    "    data = df,\n",
    "    x = 'dias',\n",
    "    fill = True,\n",
    "    color = mtk.palette[0]\n",
    ")"
   ]
  },
  {
   "cell_type": "code",
   "execution_count": 145,
   "metadata": {},
   "outputs": [
    {
     "data": {
      "text/html": [
       "<div>\n",
       "<style scoped>\n",
       "    .dataframe tbody tr th:only-of-type {\n",
       "        vertical-align: middle;\n",
       "    }\n",
       "\n",
       "    .dataframe tbody tr th {\n",
       "        vertical-align: top;\n",
       "    }\n",
       "\n",
       "    .dataframe thead th {\n",
       "        text-align: right;\n",
       "    }\n",
       "</style>\n",
       "<table border=\"1\" class=\"dataframe\">\n",
       "  <thead>\n",
       "    <tr style=\"text-align: right;\">\n",
       "      <th></th>\n",
       "      <th>variable</th>\n",
       "      <th>value</th>\n",
       "    </tr>\n",
       "  </thead>\n",
       "  <tbody>\n",
       "    <tr>\n",
       "      <th>0</th>\n",
       "      <td>marketing_channel</td>\n",
       "      <td>Push</td>\n",
       "    </tr>\n",
       "    <tr>\n",
       "      <th>1</th>\n",
       "      <td>marketing_channel</td>\n",
       "      <td>Email</td>\n",
       "    </tr>\n",
       "    <tr>\n",
       "      <th>2</th>\n",
       "      <td>marketing_channel</td>\n",
       "      <td>Facebook</td>\n",
       "    </tr>\n",
       "    <tr>\n",
       "      <th>3</th>\n",
       "      <td>marketing_channel</td>\n",
       "      <td>House Ads</td>\n",
       "    </tr>\n",
       "    <tr>\n",
       "      <th>4</th>\n",
       "      <td>marketing_channel</td>\n",
       "      <td>Push</td>\n",
       "    </tr>\n",
       "    <tr>\n",
       "      <th>...</th>\n",
       "      <td>...</td>\n",
       "      <td>...</td>\n",
       "    </tr>\n",
       "    <tr>\n",
       "      <th>2629</th>\n",
       "      <td>subscribing_channel</td>\n",
       "      <td>House Ads</td>\n",
       "    </tr>\n",
       "    <tr>\n",
       "      <th>2630</th>\n",
       "      <td>subscribing_channel</td>\n",
       "      <td>House Ads</td>\n",
       "    </tr>\n",
       "    <tr>\n",
       "      <th>2631</th>\n",
       "      <td>subscribing_channel</td>\n",
       "      <td>Google</td>\n",
       "    </tr>\n",
       "    <tr>\n",
       "      <th>2632</th>\n",
       "      <td>subscribing_channel</td>\n",
       "      <td>Facebook</td>\n",
       "    </tr>\n",
       "    <tr>\n",
       "      <th>2633</th>\n",
       "      <td>subscribing_channel</td>\n",
       "      <td>Email</td>\n",
       "    </tr>\n",
       "  </tbody>\n",
       "</table>\n",
       "<p>2634 rows × 2 columns</p>\n",
       "</div>"
      ],
      "text/plain": [
       "                 variable      value\n",
       "0       marketing_channel       Push\n",
       "1       marketing_channel      Email\n",
       "2       marketing_channel   Facebook\n",
       "3       marketing_channel  House Ads\n",
       "4       marketing_channel       Push\n",
       "...                   ...        ...\n",
       "2629  subscribing_channel  House Ads\n",
       "2630  subscribing_channel  House Ads\n",
       "2631  subscribing_channel     Google\n",
       "2632  subscribing_channel   Facebook\n",
       "2633  subscribing_channel      Email\n",
       "\n",
       "[2634 rows x 2 columns]"
      ]
     },
     "execution_count": 145,
     "metadata": {},
     "output_type": "execute_result"
    }
   ],
   "source": [
    "df.select_dtypes('category').melt()"
   ]
  },
  {
   "cell_type": "code",
   "execution_count": 156,
   "metadata": {},
   "outputs": [
    {
     "data": {
      "image/png": "[encoded data removed]",
      "text/plain": [
       "<Figure size 900x600 with 6 Axes>"
      ]
     },
     "metadata": {},
     "output_type": "display_data"
    }
   ],
   "source": [
    "grid = sns.FacetGrid(df.select_dtypes('category').melt(),\n",
    "                     col = 'variable',\n",
    "                     sharex = False,\n",
    "                     sharey = False,\n",
    "                     col_wrap = 3)\n",
    "grid.map(sns.countplot,'value',**mtk.kwargs)\n",
    "grid.tick_params('x',rotation=90)\n",
    "plt.subplots_adjust(hspace = .75)"
   ]
  },
  {
   "cell_type": "markdown",
   "metadata": {},
   "source": [
    "## Probabilidades"
   ]
  },
  {
   "cell_type": "code",
   "execution_count": 164,
   "metadata": {},
   "outputs": [
    {
     "data": {
      "text/plain": [
       "uso_lenguaje_preferido\n",
       "False    0.307432\n",
       "True     0.307692\n",
       "Name: is_retained, dtype: float64"
      ]
     },
     "execution_count": 164,
     "metadata": {},
     "output_type": "execute_result"
    }
   ],
   "source": [
    "#Cálculo de la probabilidad de retención de acuerdo al uso del lenguaje que ha marcado como preferido \n",
    "(\n",
    "    df\n",
    "    .groupby('uso_lenguaje_preferido')\n",
    "    ['is_retained']\n",
    "    .mean()\n",
    ")"
   ]
  },
  {
   "cell_type": "code",
   "execution_count": 165,
   "metadata": {},
   "outputs": [
    {
     "data": {
      "text/plain": [
       "marketing_subs\n",
       "False    0.296830\n",
       "True     0.347826\n",
       "Name: is_retained, dtype: float64"
      ]
     },
     "execution_count": 165,
     "metadata": {},
     "output_type": "execute_result"
    }
   ],
   "source": [
    "#Cálculo de la probabilidad de retención de acuerdo asi la suscripción se ha realizado por la misma plataforma que el marketing\n",
    "(\n",
    "    df\n",
    "    .groupby('marketing_subs')\n",
    "    ['is_retained']\n",
    "    .mean()\n",
    ")"
   ]
  },
  {
   "cell_type": "markdown",
   "metadata": {},
   "source": [
    "**Si un usuario se suscribe por la misma plataforma por la que ha recibido la comunicación de marketing tiene mayores posibilidades de permanecer en la plataforma**"
   ]
  },
  {
   "cell_type": "markdown",
   "metadata": {},
   "source": [
    "## Conversión"
   ]
  },
  {
   "cell_type": "code",
   "execution_count": 163,
   "metadata": {},
   "outputs": [
    {
     "data": {
      "text/html": [
       "<div>\n",
       "<style scoped>\n",
       "    .dataframe tbody tr th:only-of-type {\n",
       "        vertical-align: middle;\n",
       "    }\n",
       "\n",
       "    .dataframe tbody tr th {\n",
       "        vertical-align: top;\n",
       "    }\n",
       "\n",
       "    .dataframe thead th {\n",
       "        text-align: right;\n",
       "    }\n",
       "</style>\n",
       "<table border=\"1\" class=\"dataframe\">\n",
       "  <thead>\n",
       "    <tr style=\"text-align: right;\">\n",
       "      <th></th>\n",
       "      <th>user_id</th>\n",
       "      <th>date_served</th>\n",
       "      <th>marketing_channel</th>\n",
       "      <th>variant</th>\n",
       "      <th>converted</th>\n",
       "      <th>language_displayed</th>\n",
       "      <th>language_preferred</th>\n",
       "      <th>age_group</th>\n",
       "      <th>date_subscribed</th>\n",
       "      <th>subscribing_channel</th>\n",
       "      <th>is_retained</th>\n",
       "      <th>tiempo_de_conversion</th>\n",
       "      <th>uso_lenguaje_preferido</th>\n",
       "      <th>dias</th>\n",
       "      <th>marketing_subs</th>\n",
       "    </tr>\n",
       "  </thead>\n",
       "  <tbody>\n",
       "    <tr>\n",
       "      <th>3</th>\n",
       "      <td>a10000032</td>\n",
       "      <td>2018-01-17 16:59:39</td>\n",
       "      <td>Push</td>\n",
       "      <td>personalization</td>\n",
       "      <td>True</td>\n",
       "      <td>Spanish</td>\n",
       "      <td>German</td>\n",
       "      <td>55+</td>\n",
       "      <td>2018-01-22 10:54:34</td>\n",
       "      <td>Facebook</td>\n",
       "      <td>False</td>\n",
       "      <td>4 days 17:54:55</td>\n",
       "      <td>False</td>\n",
       "      <td>4</td>\n",
       "      <td>False</td>\n",
       "    </tr>\n",
       "    <tr>\n",
       "      <th>4</th>\n",
       "      <td>a10000033</td>\n",
       "      <td>2018-01-09 03:00:25</td>\n",
       "      <td>Email</td>\n",
       "      <td>personalization</td>\n",
       "      <td>True</td>\n",
       "      <td>Spanish</td>\n",
       "      <td>Spanish</td>\n",
       "      <td>36-45</td>\n",
       "      <td>2018-01-19 18:51:04</td>\n",
       "      <td>Instagram</td>\n",
       "      <td>True</td>\n",
       "      <td>10 days 15:50:39</td>\n",
       "      <td>True</td>\n",
       "      <td>10</td>\n",
       "      <td>False</td>\n",
       "    </tr>\n",
       "    <tr>\n",
       "      <th>5</th>\n",
       "      <td>a10000034</td>\n",
       "      <td>2018-01-03 22:11:23</td>\n",
       "      <td>Facebook</td>\n",
       "      <td>control</td>\n",
       "      <td>False</td>\n",
       "      <td>English</td>\n",
       "      <td>English</td>\n",
       "      <td>19-24</td>\n",
       "      <td>2018-01-16 05:06:18</td>\n",
       "      <td>Instagram</td>\n",
       "      <td>True</td>\n",
       "      <td>12 days 06:54:55</td>\n",
       "      <td>True</td>\n",
       "      <td>12</td>\n",
       "      <td>False</td>\n",
       "    </tr>\n",
       "    <tr>\n",
       "      <th>14</th>\n",
       "      <td>a10000043</td>\n",
       "      <td>2018-01-15 04:34:39</td>\n",
       "      <td>House Ads</td>\n",
       "      <td>personalization</td>\n",
       "      <td>True</td>\n",
       "      <td>English</td>\n",
       "      <td>German</td>\n",
       "      <td>30-36</td>\n",
       "      <td>2018-01-21 03:52:01</td>\n",
       "      <td>Facebook</td>\n",
       "      <td>False</td>\n",
       "      <td>5 days 23:17:22</td>\n",
       "      <td>False</td>\n",
       "      <td>5</td>\n",
       "      <td>False</td>\n",
       "    </tr>\n",
       "    <tr>\n",
       "      <th>16</th>\n",
       "      <td>a10000045</td>\n",
       "      <td>2018-01-07 09:54:55</td>\n",
       "      <td>Push</td>\n",
       "      <td>personalization</td>\n",
       "      <td>True</td>\n",
       "      <td>German</td>\n",
       "      <td>German</td>\n",
       "      <td>55+</td>\n",
       "      <td>2018-01-10 22:43:56</td>\n",
       "      <td>House Ads</td>\n",
       "      <td>True</td>\n",
       "      <td>3 days 12:49:01</td>\n",
       "      <td>True</td>\n",
       "      <td>3</td>\n",
       "      <td>False</td>\n",
       "    </tr>\n",
       "  </tbody>\n",
       "</table>\n",
       "</div>"
      ],
      "text/plain": [
       "      user_id         date_served marketing_channel          variant  \\\n",
       "3   a10000032 2018-01-17 16:59:39              Push  personalization   \n",
       "4   a10000033 2018-01-09 03:00:25             Email  personalization   \n",
       "5   a10000034 2018-01-03 22:11:23          Facebook          control   \n",
       "14  a10000043 2018-01-15 04:34:39         House Ads  personalization   \n",
       "16  a10000045 2018-01-07 09:54:55              Push  personalization   \n",
       "\n",
       "    converted language_displayed language_preferred age_group  \\\n",
       "3        True            Spanish             German       55+   \n",
       "4        True            Spanish            Spanish     36-45   \n",
       "5       False            English            English     19-24   \n",
       "14       True            English             German     30-36   \n",
       "16       True             German             German       55+   \n",
       "\n",
       "       date_subscribed subscribing_channel  is_retained tiempo_de_conversion  \\\n",
       "3  2018-01-22 10:54:34            Facebook        False      4 days 17:54:55   \n",
       "4  2018-01-19 18:51:04           Instagram         True     10 days 15:50:39   \n",
       "5  2018-01-16 05:06:18           Instagram         True     12 days 06:54:55   \n",
       "14 2018-01-21 03:52:01            Facebook        False      5 days 23:17:22   \n",
       "16 2018-01-10 22:43:56           House Ads         True      3 days 12:49:01   \n",
       "\n",
       "    uso_lenguaje_preferido  dias  marketing_subs  \n",
       "3                    False     4           False  \n",
       "4                     True    10           False  \n",
       "5                     True    12           False  \n",
       "14                   False     5           False  \n",
       "16                    True     3           False  "
      ]
     },
     "execution_count": 163,
     "metadata": {},
     "output_type": "execute_result"
    }
   ],
   "source": [
    "df.head()"
   ]
  },
  {
   "cell_type": "code",
   "execution_count": 168,
   "metadata": {},
   "outputs": [],
   "source": [
    "crosstab = pd.crosstab(\n",
    "    df['variant'],\n",
    "    df['converted']\n",
    ")"
   ]
  },
  {
   "cell_type": "code",
   "execution_count": 169,
   "metadata": {},
   "outputs": [
    {
     "data": {
      "text/html": [
       "<div>\n",
       "<style scoped>\n",
       "    .dataframe tbody tr th:only-of-type {\n",
       "        vertical-align: middle;\n",
       "    }\n",
       "\n",
       "    .dataframe tbody tr th {\n",
       "        vertical-align: top;\n",
       "    }\n",
       "\n",
       "    .dataframe thead th {\n",
       "        text-align: right;\n",
       "    }\n",
       "</style>\n",
       "<table border=\"1\" class=\"dataframe\">\n",
       "  <thead>\n",
       "    <tr style=\"text-align: right;\">\n",
       "      <th>converted</th>\n",
       "      <th>False</th>\n",
       "      <th>True</th>\n",
       "    </tr>\n",
       "    <tr>\n",
       "      <th>variant</th>\n",
       "      <th></th>\n",
       "      <th></th>\n",
       "    </tr>\n",
       "  </thead>\n",
       "  <tbody>\n",
       "    <tr>\n",
       "      <th>control</th>\n",
       "      <td>123</td>\n",
       "      <td>89</td>\n",
       "    </tr>\n",
       "    <tr>\n",
       "      <th>personalization</th>\n",
       "      <td>83</td>\n",
       "      <td>144</td>\n",
       "    </tr>\n",
       "  </tbody>\n",
       "</table>\n",
       "</div>"
      ],
      "text/plain": [
       "converted        False  True \n",
       "variant                      \n",
       "control            123     89\n",
       "personalization     83    144"
      ]
     },
     "execution_count": 169,
     "metadata": {},
     "output_type": "execute_result"
    }
   ],
   "source": [
    "crosstab"
   ]
  },
  {
   "cell_type": "code",
   "execution_count": 171,
   "metadata": {},
   "outputs": [
    {
     "data": {
      "text/plain": [
       "1.0552814440944558e-05"
      ]
     },
     "execution_count": 171,
     "metadata": {},
     "output_type": "execute_result"
    }
   ],
   "source": [
    "chi2_contingency(crosstab).pvalue"
   ]
  },
  {
   "cell_type": "markdown",
   "metadata": {},
   "source": [
    "Hay diferencias significativas entre la tasa de conversión del grupo control y el grupo prueba, por lo tanto, personalizar los correos aumenta las probabilidades de conversión"
   ]
  },
  {
   "cell_type": "code",
   "execution_count": 173,
   "metadata": {},
   "outputs": [
    {
     "data": {
      "text/html": [
       "<div>\n",
       "<style scoped>\n",
       "    .dataframe tbody tr th:only-of-type {\n",
       "        vertical-align: middle;\n",
       "    }\n",
       "\n",
       "    .dataframe tbody tr th {\n",
       "        vertical-align: top;\n",
       "    }\n",
       "\n",
       "    .dataframe thead th {\n",
       "        text-align: right;\n",
       "    }\n",
       "</style>\n",
       "<table border=\"1\" class=\"dataframe\">\n",
       "  <thead>\n",
       "    <tr style=\"text-align: right;\">\n",
       "      <th></th>\n",
       "      <th>variant</th>\n",
       "      <th>converted</th>\n",
       "    </tr>\n",
       "  </thead>\n",
       "  <tbody>\n",
       "    <tr>\n",
       "      <th>0</th>\n",
       "      <td>control</td>\n",
       "      <td>0.419811</td>\n",
       "    </tr>\n",
       "    <tr>\n",
       "      <th>1</th>\n",
       "      <td>personalization</td>\n",
       "      <td>0.634361</td>\n",
       "    </tr>\n",
       "  </tbody>\n",
       "</table>\n",
       "</div>"
      ],
      "text/plain": [
       "           variant  converted\n",
       "0          control   0.419811\n",
       "1  personalization   0.634361"
      ]
     },
     "execution_count": 173,
     "metadata": {},
     "output_type": "execute_result"
    }
   ],
   "source": [
    "df.groupby('variant',as_index=False)['converted'].mean()"
   ]
  },
  {
   "cell_type": "code",
   "execution_count": 182,
   "metadata": {},
   "outputs": [
    {
     "data": {
      "text/html": [
       "<div>\n",
       "<style scoped>\n",
       "    .dataframe tbody tr th:only-of-type {\n",
       "        vertical-align: middle;\n",
       "    }\n",
       "\n",
       "    .dataframe tbody tr th {\n",
       "        vertical-align: top;\n",
       "    }\n",
       "\n",
       "    .dataframe thead th {\n",
       "        text-align: right;\n",
       "    }\n",
       "</style>\n",
       "<table border=\"1\" class=\"dataframe\">\n",
       "  <thead>\n",
       "    <tr style=\"text-align: right;\">\n",
       "      <th></th>\n",
       "      <th>variant</th>\n",
       "      <th>converted</th>\n",
       "    </tr>\n",
       "  </thead>\n",
       "  <tbody>\n",
       "    <tr>\n",
       "      <th>0</th>\n",
       "      <td>control</td>\n",
       "      <td>212</td>\n",
       "    </tr>\n",
       "    <tr>\n",
       "      <th>1</th>\n",
       "      <td>personalization</td>\n",
       "      <td>227</td>\n",
       "    </tr>\n",
       "  </tbody>\n",
       "</table>\n",
       "</div>"
      ],
      "text/plain": [
       "           variant  converted\n",
       "0          control        212\n",
       "1  personalization        227"
      ]
     },
     "execution_count": 182,
     "metadata": {},
     "output_type": "execute_result"
    }
   ],
   "source": [
    "df.groupby('variant',as_index=False)['converted'].count()"
   ]
  },
  {
   "cell_type": "code",
   "execution_count": 176,
   "metadata": {},
   "outputs": [
    {
     "data": {
      "text/plain": [
       "<Axes: xlabel='variant', ylabel='converted'>"
      ]
     },
     "execution_count": 176,
     "metadata": {},
     "output_type": "execute_result"
    },
    {
     "data": {
      "image/png": "[encoded data removed]",
      "text/plain": [
       "<Figure size 640x480 with 1 Axes>"
      ]
     },
     "metadata": {},
     "output_type": "display_data"
    }
   ],
   "source": [
    "sns.barplot(\n",
    "    data = df,\n",
    "    x = 'variant',\n",
    "    y = 'converted',\n",
    "    estimator = 'mean',\n",
    "    **mtk.kwargs\n",
    ")"
   ]
  }
 ],
 "metadata": {
  "kernelspec": {
   "display_name": "base",
   "language": "python",
   "name": "python3"
  },
  "language_info": {
   "codemirror_mode": {
    "name": "ipython",
    "version": 3
   },
   "file_extension": ".py",
   "mimetype": "text/x-python",
   "name": "python",
   "nbconvert_exporter": "python",
   "pygments_lexer": "ipython3",
   "version": "3.11.7"
  }
 },
 "nbformat": 4,
 "nbformat_minor": 2
}

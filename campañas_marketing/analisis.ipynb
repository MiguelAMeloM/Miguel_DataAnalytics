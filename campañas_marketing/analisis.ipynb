{
  "cells": [
    {
      "cell_type": "markdown",
      "id": "03c1ce2c",
      "metadata": {},
      "source": [
        "# Limpieza de datos, transformación e integración \n",
        "# Campañas de Marketing"
      ]
    },
    {
      "cell_type": "code",
      "execution_count": 1,
      "id": "8493322e",
      "metadata": {},
      "outputs": [],
      "source": [
        "import sys\n",
        "sys.path.append('..//utils')"
      ]
    },
    {
      "cell_type": "code",
      "execution_count": 2,
      "id": "2a77d900",
      "metadata": {},
      "outputs": [],
      "source": [
        "import pandas as pd\n",
        "import matplotlib.pyplot as plt\n",
        "import seaborn as sns\n",
        "from MiguelTK import *\n",
        "import warnings\n",
        "warnings.filterwarnings('ignore')"
      ]
    },
    {
      "cell_type": "markdown",
      "id": "d9defaf8",
      "metadata": {},
      "source": [
        "## Carga de datos"
      ]
    },
    {
      "cell_type": "markdown",
      "id": "e25470a1",
      "metadata": {},
      "source": [
        "### Datos de Marketing"
      ]
    },
    {
      "cell_type": "code",
      "execution_count": 3,
      "id": "a5c2ae8e",
      "metadata": {},
      "outputs": [
        {
          "name": "stdout",
          "output_type": "stream",
          "text": [
            "<class 'pandas.core.frame.DataFrame'>\n",
            "RangeIndex: 39955 entries, 0 to 39954\n",
            "Data columns (total 13 columns):\n",
            " #   Column               Non-Null Count  Dtype  \n",
            "---  ------               --------------  -----  \n",
            " 0   Fecha de Extracción  39955 non-null  object \n",
            " 1   customerid           39955 non-null  object \n",
            " 2   company              39955 non-null  object \n",
            " 3   campaign_type        39955 non-null  object \n",
            " 4   channel_used         39955 non-null  object \n",
            " 5   acquisition_cost     39955 non-null  object \n",
            " 6   location             39955 non-null  object \n",
            " 7   clicks               39955 non-null  int64  \n",
            " 8   impressions          39955 non-null  int64  \n",
            " 9   engagement_score     29009 non-null  float64\n",
            " 10  start_date           39955 non-null  object \n",
            " 11  end_date             39955 non-null  object \n",
            " 12  unknown              39955 non-null  object \n",
            "dtypes: float64(1), int64(2), object(10)\n",
            "memory usage: 4.0+ MB\n"
          ]
        }
      ],
      "source": [
        "df_branding = pd.read_csv('data/marketing_branding.csv')\n",
        "df_branding.info()"
      ]
    },
    {
      "cell_type": "code",
      "execution_count": 4,
      "id": "b45f7158",
      "metadata": {},
      "outputs": [
        {
          "name": "stdout",
          "output_type": "stream",
          "text": [
            "<class 'pandas.core.frame.DataFrame'>\n",
            "RangeIndex: 31780 entries, 0 to 31779\n",
            "Data columns (total 14 columns):\n",
            " #   Column            Non-Null Count  Dtype  \n",
            "---  ------            --------------  -----  \n",
            " 0   customerid        31780 non-null  object \n",
            " 1   company           31780 non-null  object \n",
            " 2   campaign_type     31780 non-null  object \n",
            " 3   target_audience   31780 non-null  object \n",
            " 4   duration          31780 non-null  object \n",
            " 5   channel_used      31780 non-null  object \n",
            " 6   conversion_rate   31780 non-null  float64\n",
            " 7   acquisition_cost  31780 non-null  int64  \n",
            " 8   location          31780 non-null  object \n",
            " 9   clicks            31780 non-null  int64  \n",
            " 10  impressions       31780 non-null  int64  \n",
            " 11  engagement_score  31780 non-null  float64\n",
            " 12  customer_segment  31780 non-null  object \n",
            " 13  date              31780 non-null  object \n",
            "dtypes: float64(2), int64(3), object(9)\n",
            "memory usage: 3.4+ MB\n"
          ]
        }
      ],
      "source": [
        "df_perfomance = pd.read_csv('data/marketing_perfomance.csv')\n",
        "df_perfomance.info()"
      ]
    },
    {
      "cell_type": "code",
      "execution_count": 5,
      "id": "23faad07",
      "metadata": {},
      "outputs": [
        {
          "name": "stdout",
          "output_type": "stream",
          "text": [
            "<class 'pandas.core.frame.DataFrame'>\n",
            "RangeIndex: 32077 entries, 0 to 32076\n",
            "Data columns (total 14 columns):\n",
            " #   Column            Non-Null Count  Dtype  \n",
            "---  ------            --------------  -----  \n",
            " 0   customerid        32077 non-null  object \n",
            " 1   company           32077 non-null  object \n",
            " 2   campaign_type     31964 non-null  object \n",
            " 3   target_audience   31964 non-null  object \n",
            " 4   duration          32077 non-null  object \n",
            " 5   channel_used      32077 non-null  object \n",
            " 6   conversion_rate   32077 non-null  float64\n",
            " 7   acquisition_cost  32077 non-null  int64  \n",
            " 8   location          32077 non-null  object \n",
            " 9   clicks            32077 non-null  int64  \n",
            " 10  impressions       32077 non-null  int64  \n",
            " 11  engagement_score  32077 non-null  float64\n",
            " 12  customer_segment  31964 non-null  object \n",
            " 13  date              32077 non-null  object \n",
            "dtypes: float64(2), int64(3), object(9)\n",
            "memory usage: 3.4+ MB\n"
          ]
        }
      ],
      "source": [
        "df_sostenibilidad = pd.read_csv('data/marketing_sostenibilidad.csv')\n",
        "df_sostenibilidad.info()"
      ]
    },
    {
      "cell_type": "code",
      "execution_count": 6,
      "id": "7e6b27ad",
      "metadata": {},
      "outputs": [],
      "source": [
        "df_marketing = pd.concat([\n",
        "    df_perfomance,\n",
        "    df_branding,\n",
        "    df_sostenibilidad\n",
        "],ignore_index=True)"
      ]
    },
    {
      "cell_type": "code",
      "execution_count": 7,
      "id": "263f8317",
      "metadata": {},
      "outputs": [],
      "source": [
        "del df_perfomance,df_branding,df_sostenibilidad"
      ]
    },
    {
      "cell_type": "code",
      "execution_count": 8,
      "id": "0c6d8490",
      "metadata": {},
      "outputs": [
        {
          "data": {
            "text/html": [
              "<div>\n",
              "<style scoped>\n",
              "    .dataframe tbody tr th:only-of-type {\n",
              "        vertical-align: middle;\n",
              "    }\n",
              "\n",
              "    .dataframe tbody tr th {\n",
              "        vertical-align: top;\n",
              "    }\n",
              "\n",
              "    .dataframe thead th {\n",
              "        text-align: right;\n",
              "    }\n",
              "</style>\n",
              "<table border=\"1\" class=\"dataframe\">\n",
              "  <thead>\n",
              "    <tr style=\"text-align: right;\">\n",
              "      <th></th>\n",
              "      <th>customerid</th>\n",
              "      <th>company</th>\n",
              "      <th>campaign_type</th>\n",
              "      <th>target_audience</th>\n",
              "      <th>duration</th>\n",
              "      <th>channel_used</th>\n",
              "      <th>conversion_rate</th>\n",
              "      <th>acquisition_cost</th>\n",
              "      <th>location</th>\n",
              "      <th>clicks</th>\n",
              "      <th>impressions</th>\n",
              "      <th>engagement_score</th>\n",
              "      <th>customer_segment</th>\n",
              "      <th>date</th>\n",
              "      <th>Fecha de Extracción</th>\n",
              "      <th>start_date</th>\n",
              "      <th>end_date</th>\n",
              "      <th>unknown</th>\n",
              "    </tr>\n",
              "  </thead>\n",
              "  <tbody>\n",
              "    <tr>\n",
              "      <th>0</th>\n",
              "      <td>12e0dd8d</td>\n",
              "      <td>retail store</td>\n",
              "      <td>performance</td>\n",
              "      <td>women 35-44</td>\n",
              "      <td>7 days</td>\n",
              "      <td>google ads</td>\n",
              "      <td>0.04</td>\n",
              "      <td>16174</td>\n",
              "      <td>comunidad de madrid</td>\n",
              "      <td>506</td>\n",
              "      <td>1922</td>\n",
              "      <td>6.000000</td>\n",
              "      <td>fashionistas</td>\n",
              "      <td>2020-01-01</td>\n",
              "      <td>NaN</td>\n",
              "      <td>NaN</td>\n",
              "      <td>NaN</td>\n",
              "      <td>NaN</td>\n",
              "    </tr>\n",
              "    <tr>\n",
              "      <th>1</th>\n",
              "      <td>b1333e0f</td>\n",
              "      <td>retail store</td>\n",
              "      <td>performance</td>\n",
              "      <td>men 25-34</td>\n",
              "      <td>30 days</td>\n",
              "      <td>facebook</td>\n",
              "      <td>0.04</td>\n",
              "      <td>17608</td>\n",
              "      <td>comunidad de madrid</td>\n",
              "      <td>764</td>\n",
              "      <td>2157</td>\n",
              "      <td>8.000000</td>\n",
              "      <td>fashionistas</td>\n",
              "      <td>2020-01-05</td>\n",
              "      <td>NaN</td>\n",
              "      <td>NaN</td>\n",
              "      <td>NaN</td>\n",
              "      <td>NaN</td>\n",
              "    </tr>\n",
              "    <tr>\n",
              "      <th>2</th>\n",
              "      <td>d6be7e37</td>\n",
              "      <td>retail store</td>\n",
              "      <td>performance</td>\n",
              "      <td>non_define</td>\n",
              "      <td>2 days</td>\n",
              "      <td>e-mail</td>\n",
              "      <td>0.06</td>\n",
              "      <td>17305</td>\n",
              "      <td>comunidad de madrid</td>\n",
              "      <td>569</td>\n",
              "      <td>1850</td>\n",
              "      <td>5.487703</td>\n",
              "      <td>fashionistas</td>\n",
              "      <td>2020-01-13</td>\n",
              "      <td>NaN</td>\n",
              "      <td>NaN</td>\n",
              "      <td>NaN</td>\n",
              "      <td>NaN</td>\n",
              "    </tr>\n",
              "    <tr>\n",
              "      <th>3</th>\n",
              "      <td>0fb8482e</td>\n",
              "      <td>retail store</td>\n",
              "      <td>performance</td>\n",
              "      <td>women 25-34</td>\n",
              "      <td>5 days</td>\n",
              "      <td>facebook</td>\n",
              "      <td>0.10</td>\n",
              "      <td>1741400</td>\n",
              "      <td>comunidad de madrid</td>\n",
              "      <td>694</td>\n",
              "      <td>2836</td>\n",
              "      <td>2.000000</td>\n",
              "      <td>health &amp; wellness</td>\n",
              "      <td>2020-01-16</td>\n",
              "      <td>NaN</td>\n",
              "      <td>NaN</td>\n",
              "      <td>NaN</td>\n",
              "      <td>NaN</td>\n",
              "    </tr>\n",
              "    <tr>\n",
              "      <th>4</th>\n",
              "      <td>b1333e0f</td>\n",
              "      <td>retail store</td>\n",
              "      <td>performance</td>\n",
              "      <td>men 18-24</td>\n",
              "      <td>30 days</td>\n",
              "      <td>instagram</td>\n",
              "      <td>0.14</td>\n",
              "      <td>18799</td>\n",
              "      <td>comunidad de madrid</td>\n",
              "      <td>395</td>\n",
              "      <td>6079</td>\n",
              "      <td>8.000000</td>\n",
              "      <td>foodies</td>\n",
              "      <td>2020-01-23</td>\n",
              "      <td>NaN</td>\n",
              "      <td>NaN</td>\n",
              "      <td>NaN</td>\n",
              "      <td>NaN</td>\n",
              "    </tr>\n",
              "    <tr>\n",
              "      <th>...</th>\n",
              "      <td>...</td>\n",
              "      <td>...</td>\n",
              "      <td>...</td>\n",
              "      <td>...</td>\n",
              "      <td>...</td>\n",
              "      <td>...</td>\n",
              "      <td>...</td>\n",
              "      <td>...</td>\n",
              "      <td>...</td>\n",
              "      <td>...</td>\n",
              "      <td>...</td>\n",
              "      <td>...</td>\n",
              "      <td>...</td>\n",
              "      <td>...</td>\n",
              "      <td>...</td>\n",
              "      <td>...</td>\n",
              "      <td>...</td>\n",
              "      <td>...</td>\n",
              "    </tr>\n",
              "    <tr>\n",
              "      <th>103807</th>\n",
              "      <td>5a39a8aa</td>\n",
              "      <td>retail store</td>\n",
              "      <td>NaN</td>\n",
              "      <td>NaN</td>\n",
              "      <td>7 days</td>\n",
              "      <td>instagram</td>\n",
              "      <td>0.05</td>\n",
              "      <td>17917</td>\n",
              "      <td>principado de asturias</td>\n",
              "      <td>848</td>\n",
              "      <td>3629</td>\n",
              "      <td>5.491013</td>\n",
              "      <td>NaN</td>\n",
              "      <td>2023-07-15</td>\n",
              "      <td>NaN</td>\n",
              "      <td>NaN</td>\n",
              "      <td>NaN</td>\n",
              "      <td>NaN</td>\n",
              "    </tr>\n",
              "    <tr>\n",
              "      <th>103808</th>\n",
              "      <td>f45b5a9f</td>\n",
              "      <td>retail store</td>\n",
              "      <td>NaN</td>\n",
              "      <td>NaN</td>\n",
              "      <td>30 days</td>\n",
              "      <td>web</td>\n",
              "      <td>0.01</td>\n",
              "      <td>17476</td>\n",
              "      <td>principado de asturias</td>\n",
              "      <td>312</td>\n",
              "      <td>8342</td>\n",
              "      <td>9.000000</td>\n",
              "      <td>NaN</td>\n",
              "      <td>2023-07-17</td>\n",
              "      <td>NaN</td>\n",
              "      <td>NaN</td>\n",
              "      <td>NaN</td>\n",
              "      <td>NaN</td>\n",
              "    </tr>\n",
              "    <tr>\n",
              "      <th>103809</th>\n",
              "      <td>2ebf5ba8</td>\n",
              "      <td>retail store</td>\n",
              "      <td>NaN</td>\n",
              "      <td>NaN</td>\n",
              "      <td>30 days</td>\n",
              "      <td>youtube</td>\n",
              "      <td>0.03</td>\n",
              "      <td>6278</td>\n",
              "      <td>principado de asturias</td>\n",
              "      <td>116</td>\n",
              "      <td>4758</td>\n",
              "      <td>4.000000</td>\n",
              "      <td>NaN</td>\n",
              "      <td>2023-07-19</td>\n",
              "      <td>NaN</td>\n",
              "      <td>NaN</td>\n",
              "      <td>NaN</td>\n",
              "      <td>NaN</td>\n",
              "    </tr>\n",
              "    <tr>\n",
              "      <th>103810</th>\n",
              "      <td>97f5ee93</td>\n",
              "      <td>retail store</td>\n",
              "      <td>NaN</td>\n",
              "      <td>NaN</td>\n",
              "      <td>7 days</td>\n",
              "      <td>instagram</td>\n",
              "      <td>0.04</td>\n",
              "      <td>11875</td>\n",
              "      <td>principado de asturias</td>\n",
              "      <td>280</td>\n",
              "      <td>7313</td>\n",
              "      <td>10.000000</td>\n",
              "      <td>NaN</td>\n",
              "      <td>2023-08-02</td>\n",
              "      <td>NaN</td>\n",
              "      <td>NaN</td>\n",
              "      <td>NaN</td>\n",
              "      <td>NaN</td>\n",
              "    </tr>\n",
              "    <tr>\n",
              "      <th>103811</th>\n",
              "      <td>f3f42ff0</td>\n",
              "      <td>retail store</td>\n",
              "      <td>NaN</td>\n",
              "      <td>NaN</td>\n",
              "      <td>7 days</td>\n",
              "      <td>website</td>\n",
              "      <td>0.13</td>\n",
              "      <td>5665</td>\n",
              "      <td>principado de asturias</td>\n",
              "      <td>460</td>\n",
              "      <td>2397</td>\n",
              "      <td>7.000000</td>\n",
              "      <td>NaN</td>\n",
              "      <td>2023-08-09</td>\n",
              "      <td>NaN</td>\n",
              "      <td>NaN</td>\n",
              "      <td>NaN</td>\n",
              "      <td>NaN</td>\n",
              "    </tr>\n",
              "  </tbody>\n",
              "</table>\n",
              "<p>103812 rows × 18 columns</p>\n",
              "</div>"
            ],
            "text/plain": [
              "       customerid       company campaign_type target_audience duration  \\\n",
              "0        12e0dd8d  retail store   performance     women 35-44   7 days   \n",
              "1        b1333e0f  retail store   performance       men 25-34  30 days   \n",
              "2        d6be7e37  retail store   performance      non_define   2 days   \n",
              "3        0fb8482e  retail store   performance     women 25-34   5 days   \n",
              "4        b1333e0f  retail store   performance       men 18-24  30 days   \n",
              "...           ...           ...           ...             ...      ...   \n",
              "103807   5a39a8aa  retail store           NaN             NaN   7 days   \n",
              "103808   f45b5a9f  retail store           NaN             NaN  30 days   \n",
              "103809   2ebf5ba8  retail store           NaN             NaN  30 days   \n",
              "103810   97f5ee93  retail store           NaN             NaN   7 days   \n",
              "103811   f3f42ff0  retail store           NaN             NaN   7 days   \n",
              "\n",
              "       channel_used  conversion_rate acquisition_cost                location  \\\n",
              "0        google ads             0.04            16174     comunidad de madrid   \n",
              "1          facebook             0.04            17608     comunidad de madrid   \n",
              "2            e-mail             0.06            17305     comunidad de madrid   \n",
              "3          facebook             0.10          1741400     comunidad de madrid   \n",
              "4         instagram             0.14            18799     comunidad de madrid   \n",
              "...             ...              ...              ...                     ...   \n",
              "103807    instagram             0.05            17917  principado de asturias   \n",
              "103808          web             0.01            17476  principado de asturias   \n",
              "103809      youtube             0.03             6278  principado de asturias   \n",
              "103810    instagram             0.04            11875  principado de asturias   \n",
              "103811      website             0.13             5665  principado de asturias   \n",
              "\n",
              "        clicks  impressions  engagement_score   customer_segment        date  \\\n",
              "0          506         1922          6.000000       fashionistas  2020-01-01   \n",
              "1          764         2157          8.000000       fashionistas  2020-01-05   \n",
              "2          569         1850          5.487703       fashionistas  2020-01-13   \n",
              "3          694         2836          2.000000  health & wellness  2020-01-16   \n",
              "4          395         6079          8.000000            foodies  2020-01-23   \n",
              "...        ...          ...               ...                ...         ...   \n",
              "103807     848         3629          5.491013                NaN  2023-07-15   \n",
              "103808     312         8342          9.000000                NaN  2023-07-17   \n",
              "103809     116         4758          4.000000                NaN  2023-07-19   \n",
              "103810     280         7313         10.000000                NaN  2023-08-02   \n",
              "103811     460         2397          7.000000                NaN  2023-08-09   \n",
              "\n",
              "       Fecha de Extracción start_date end_date unknown  \n",
              "0                      NaN        NaN      NaN     NaN  \n",
              "1                      NaN        NaN      NaN     NaN  \n",
              "2                      NaN        NaN      NaN     NaN  \n",
              "3                      NaN        NaN      NaN     NaN  \n",
              "4                      NaN        NaN      NaN     NaN  \n",
              "...                    ...        ...      ...     ...  \n",
              "103807                 NaN        NaN      NaN     NaN  \n",
              "103808                 NaN        NaN      NaN     NaN  \n",
              "103809                 NaN        NaN      NaN     NaN  \n",
              "103810                 NaN        NaN      NaN     NaN  \n",
              "103811                 NaN        NaN      NaN     NaN  \n",
              "\n",
              "[103812 rows x 18 columns]"
            ]
          },
          "execution_count": 8,
          "metadata": {},
          "output_type": "execute_result"
        }
      ],
      "source": [
        "df_marketing"
      ]
    },
    {
      "cell_type": "markdown",
      "id": "6848e7f5",
      "metadata": {},
      "source": [
        "#### Limpieza de los datos"
      ]
    },
    {
      "cell_type": "code",
      "execution_count": 9,
      "id": "eb00fa7c",
      "metadata": {},
      "outputs": [],
      "source": [
        "(\n",
        "    df_marketing\n",
        "    .drop(columns=['company','Fecha de Extracción','end_date'],inplace=True)\n",
        ")"
      ]
    },
    {
      "cell_type": "code",
      "execution_count": 10,
      "id": "85aaacbb",
      "metadata": {},
      "outputs": [],
      "source": [
        "df_marketing['campaign_type'] = pd.Categorical(\n",
        "    df_marketing['campaign_type']\n",
        "    .fillna('sin_categoria')\n",
        ")"
      ]
    },
    {
      "cell_type": "code",
      "execution_count": 11,
      "id": "2957d89e",
      "metadata": {},
      "outputs": [
        {
          "data": {
            "text/plain": [
              "genero\n",
              "WOMEN              43978\n",
              "MEN                31670\n",
              "no_especificado    28164\n",
              "Name: count, dtype: int64"
            ]
          },
          "execution_count": 11,
          "metadata": {},
          "output_type": "execute_result"
        }
      ],
      "source": [
        "gen1 = df_marketing['target_audience'].str.upper().str.extract(r'(WOMEN|MEN)',expand=False)\n",
        "df_marketing['genero'] = (\n",
        "    df_marketing\n",
        "    ['unknown']\n",
        "    .str\n",
        "    .upper()\n",
        "    .str\n",
        "    .extract(r'(WOMEN|MEN)',expand=False)\n",
        "    .fillna(gen1)\n",
        "    .fillna('no_especificado')\n",
        "    .astype('category')\n",
        ")\n",
        "df_marketing['genero'].value_counts()"
      ]
    },
    {
      "cell_type": "code",
      "execution_count": 12,
      "id": "30901252",
      "metadata": {},
      "outputs": [],
      "source": [
        "del gen1"
      ]
    },
    {
      "cell_type": "code",
      "execution_count": 13,
      "id": "8fab09e7",
      "metadata": {},
      "outputs": [
        {
          "data": {
            "text/plain": [
              "90915                               NaN\n",
              "20820                               NaN\n",
              "98864                               NaN\n",
              "21876                               NaN\n",
              "91898                               NaN\n",
              "23116                               NaN\n",
              "2092                                NaN\n",
              "81688                               NaN\n",
              "38259        Men 18-244, Healt & Welnes\n",
              "43361     All Ages, Outdoor Adventurers\n",
              "21798                               NaN\n",
              "4812                                NaN\n",
              "61859       Hombre 25-, Tech Enthusiats\n",
              "33340                Men 18-24, Foodies\n",
              "80860                               NaN\n",
              "24616                               NaN\n",
              "58078         Non_define,  adventuerers\n",
              "101006                              NaN\n",
              "55870          Mujer 35-44, Fashonistas\n",
              "13590                               NaN\n",
              "Name: unknown, dtype: object"
            ]
          },
          "execution_count": 13,
          "metadata": {},
          "output_type": "execute_result"
        }
      ],
      "source": [
        "df_marketing['unknown'].sample(20)"
      ]
    },
    {
      "cell_type": "code",
      "execution_count": 14,
      "id": "50c201a8",
      "metadata": {},
      "outputs": [],
      "source": [
        "edad = df_marketing['target_audience'].str.extract(r'(\\d*\\-\\d*)',expand=False)\n",
        "df_marketing['edad'] = (\n",
        "    df_marketing\n",
        "    ['unknown']\n",
        "    .str\n",
        "    .extract(r'(\\d*\\-\\d*)',expand=False)\n",
        "    .fillna(edad)\n",
        "    .fillna('no_especificado')\n",
        "    .str\n",
        "    .replace('18-244','18-24')\n",
        "    .str\n",
        "    .replace(r'^25-$', '25-34',regex=True)\n",
        "    .astype('category')\n",
        ")"
      ]
    },
    {
      "cell_type": "code",
      "execution_count": 15,
      "id": "d11b7983",
      "metadata": {},
      "outputs": [
        {
          "data": {
            "text/plain": [
              "edad\n",
              "25-34              41496\n",
              "18-24              21040\n",
              "35-44              20713\n",
              "no_especificado    20563\n",
              "Name: count, dtype: int64"
            ]
          },
          "execution_count": 15,
          "metadata": {},
          "output_type": "execute_result"
        }
      ],
      "source": [
        "del edad\n",
        "df_marketing['edad'].value_counts()"
      ]
    },
    {
      "cell_type": "code",
      "execution_count": 16,
      "id": "7860b9a5",
      "metadata": {},
      "outputs": [
        {
          "data": {
            "text/plain": [
              "0          7.0\n",
              "1         30.0\n",
              "2          2.0\n",
              "3          5.0\n",
              "4         30.0\n",
              "          ... \n",
              "103807     7.0\n",
              "103808    30.0\n",
              "103809    30.0\n",
              "103810     7.0\n",
              "103811     7.0\n",
              "Name: duration, Length: 103812, dtype: float64"
            ]
          },
          "execution_count": 16,
          "metadata": {},
          "output_type": "execute_result"
        }
      ],
      "source": [
        "df_marketing['duration'] = df_marketing['duration'].str.extract(r'(\\d+)').astype(float)\n",
        "df_marketing['duration']"
      ]
    },
    {
      "cell_type": "code",
      "execution_count": 17,
      "id": "f887d92f",
      "metadata": {},
      "outputs": [],
      "source": [
        "df_marketing['channel_used'] = (\n",
        "    df_marketing\n",
        "    ['channel_used']\n",
        "    .str.upper()\n",
        "    .str.replace('GOGLE ADS','GOOGLE ADS')\n",
        "    .str.replace('EMAIL','E-MAIL')\n",
        "    .str.replace('WEBSITE','WEB')\n",
        "    .str.replace(' YOUTUBE ','YOUTUBE')\n",
        "    .str.replace('FACEBOOK ','FACEBOOK')\n",
        "    .astype('category')\n",
        ")"
      ]
    },
    {
      "cell_type": "code",
      "execution_count": 18,
      "id": "bc29b2f1",
      "metadata": {},
      "outputs": [
        {
          "data": {
            "text/plain": [
              "channel_used\n",
              "E-MAIL        17432\n",
              "WEB           17411\n",
              "INSTAGRAM     17334\n",
              "YOUTUBE       17306\n",
              "GOOGLE ADS    17208\n",
              "FACEBOOK      17121\n",
              "Name: count, dtype: int64"
            ]
          },
          "execution_count": 18,
          "metadata": {},
          "output_type": "execute_result"
        }
      ],
      "source": [
        "df_marketing['channel_used'].value_counts()"
      ]
    },
    {
      "cell_type": "code",
      "execution_count": 19,
      "id": "e39b52e6",
      "metadata": {},
      "outputs": [],
      "source": [
        "df_marketing['customer_segment'] = (\n",
        "    df_marketing\n",
        "    ['customer_segment']\n",
        "    .fillna(df_marketing['unknown'].str.extract(r'\\,\\s([\\w\\s\\&]+)',expand=False))\n",
        "    .str.upper()\n",
        "    .str.lstrip()\n",
        "    .fillna('sin_segmento')\n",
        "    .astype('category')    \n",
        ")"
      ]
    },
    {
      "cell_type": "code",
      "execution_count": 20,
      "id": "fe87d21a",
      "metadata": {},
      "outputs": [
        {
          "data": {
            "text/plain": [
              "customer_segment\n",
              "FOODIES                18507\n",
              "HEALTH & WELLNESS      17961\n",
              "OUTDOOR ADVENTURERS    17866\n",
              "TECH ENTHUSIASTS       17779\n",
              "FASHIONISTAS           17676\n",
              "FODIES                  2832\n",
              "ADVENTUERERS            2811\n",
              "HEALT & WELNES          2779\n",
              "TECH ENTHUSIATS         2770\n",
              "FASHONISTAS             2718\n",
              "sin_segmento             113\n",
              "Name: count, dtype: int64"
            ]
          },
          "execution_count": 20,
          "metadata": {},
          "output_type": "execute_result"
        }
      ],
      "source": [
        "df_marketing['customer_segment'].value_counts()"
      ]
    },
    {
      "cell_type": "code",
      "execution_count": 21,
      "id": "d48ee93a",
      "metadata": {},
      "outputs": [],
      "source": [
        "df_marketing['acquisition_cost'] = df_marketing['acquisition_cost'].replace(r'[€\\,\\s]','',regex=True).astype(float)"
      ]
    },
    {
      "cell_type": "code",
      "execution_count": 22,
      "id": "89da0cda",
      "metadata": {},
      "outputs": [],
      "source": [
        "df_marketing['location'] = (\n",
        "    df_marketing\n",
        "    ['location']\n",
        "    .str.lstrip()\n",
        "    .str.rstrip()\n",
        "    .str.upper()\n",
        "    .astype('category')\n",
        ")"
      ]
    },
    {
      "cell_type": "code",
      "execution_count": 23,
      "id": "da1efca1",
      "metadata": {},
      "outputs": [
        {
          "data": {
            "text/plain": [
              "location\n",
              "CATALUÑA                  26027\n",
              "PRINCIPADO DE ASTURIAS    26021\n",
              "COMUNIDAD VALENCIANA      25975\n",
              "COMUNIDAD DE MADRID       25789\n",
              "Name: count, dtype: int64"
            ]
          },
          "execution_count": 23,
          "metadata": {},
          "output_type": "execute_result"
        }
      ],
      "source": [
        "df_marketing['location'].value_counts()"
      ]
    },
    {
      "cell_type": "code",
      "execution_count": 24,
      "id": "6f39d676",
      "metadata": {},
      "outputs": [],
      "source": [
        "df_marketing['date'].fillna(df_marketing['start_date'],inplace=True)"
      ]
    },
    {
      "cell_type": "code",
      "execution_count": 25,
      "id": "527a5d1b",
      "metadata": {},
      "outputs": [],
      "source": [
        "df_marketing.drop(columns=['target_audience','unknown','start_date'],inplace=True)"
      ]
    },
    {
      "cell_type": "code",
      "execution_count": 26,
      "id": "dddddfc2",
      "metadata": {},
      "outputs": [
        {
          "data": {
            "text/html": [
              "<div>\n",
              "<style scoped>\n",
              "    .dataframe tbody tr th:only-of-type {\n",
              "        vertical-align: middle;\n",
              "    }\n",
              "\n",
              "    .dataframe tbody tr th {\n",
              "        vertical-align: top;\n",
              "    }\n",
              "\n",
              "    .dataframe thead th {\n",
              "        text-align: right;\n",
              "    }\n",
              "</style>\n",
              "<table border=\"1\" class=\"dataframe\">\n",
              "  <thead>\n",
              "    <tr style=\"text-align: right;\">\n",
              "      <th></th>\n",
              "      <th>customerid</th>\n",
              "      <th>campaign_type</th>\n",
              "      <th>duration</th>\n",
              "      <th>channel_used</th>\n",
              "      <th>conversion_rate</th>\n",
              "      <th>acquisition_cost</th>\n",
              "      <th>location</th>\n",
              "      <th>clicks</th>\n",
              "      <th>impressions</th>\n",
              "      <th>engagement_score</th>\n",
              "      <th>customer_segment</th>\n",
              "      <th>date</th>\n",
              "      <th>genero</th>\n",
              "      <th>edad</th>\n",
              "    </tr>\n",
              "  </thead>\n",
              "  <tbody>\n",
              "    <tr>\n",
              "      <th>88452</th>\n",
              "      <td>1673e0a3</td>\n",
              "      <td>sostenibilidad</td>\n",
              "      <td>10.0</td>\n",
              "      <td>YOUTUBE</td>\n",
              "      <td>0.15</td>\n",
              "      <td>1030600.0</td>\n",
              "      <td>COMUNIDAD VALENCIANA</td>\n",
              "      <td>566</td>\n",
              "      <td>2615</td>\n",
              "      <td>10.0</td>\n",
              "      <td>FOODIES</td>\n",
              "      <td>2022-07-01</td>\n",
              "      <td>WOMEN</td>\n",
              "      <td>25-34</td>\n",
              "    </tr>\n",
              "    <tr>\n",
              "      <th>13179</th>\n",
              "      <td>af23abbd</td>\n",
              "      <td>performance</td>\n",
              "      <td>2.0</td>\n",
              "      <td>GOOGLE ADS</td>\n",
              "      <td>0.10</td>\n",
              "      <td>9668.0</td>\n",
              "      <td>CATALUÑA</td>\n",
              "      <td>509</td>\n",
              "      <td>5108</td>\n",
              "      <td>10.0</td>\n",
              "      <td>TECH ENTHUSIASTS</td>\n",
              "      <td>2021-04-12</td>\n",
              "      <td>WOMEN</td>\n",
              "      <td>25-34</td>\n",
              "    </tr>\n",
              "    <tr>\n",
              "      <th>83995</th>\n",
              "      <td>6b751342</td>\n",
              "      <td>sostenibilidad</td>\n",
              "      <td>10.0</td>\n",
              "      <td>FACEBOOK</td>\n",
              "      <td>0.12</td>\n",
              "      <td>17902.0</td>\n",
              "      <td>CATALUÑA</td>\n",
              "      <td>955</td>\n",
              "      <td>3567</td>\n",
              "      <td>8.0</td>\n",
              "      <td>TECH ENTHUSIASTS</td>\n",
              "      <td>2021-01-25</td>\n",
              "      <td>WOMEN</td>\n",
              "      <td>35-44</td>\n",
              "    </tr>\n",
              "    <tr>\n",
              "      <th>97397</th>\n",
              "      <td>00f50e76</td>\n",
              "      <td>sostenibilidad</td>\n",
              "      <td>30.0</td>\n",
              "      <td>E-MAIL</td>\n",
              "      <td>0.05</td>\n",
              "      <td>8180.0</td>\n",
              "      <td>PRINCIPADO DE ASTURIAS</td>\n",
              "      <td>291</td>\n",
              "      <td>2876</td>\n",
              "      <td>8.0</td>\n",
              "      <td>FOODIES</td>\n",
              "      <td>2023-10-11</td>\n",
              "      <td>MEN</td>\n",
              "      <td>18-24</td>\n",
              "    </tr>\n",
              "    <tr>\n",
              "      <th>102951</th>\n",
              "      <td>ed9f811e</td>\n",
              "      <td>sostenibilidad</td>\n",
              "      <td>7.0</td>\n",
              "      <td>E-MAIL</td>\n",
              "      <td>0.14</td>\n",
              "      <td>11377.0</td>\n",
              "      <td>PRINCIPADO DE ASTURIAS</td>\n",
              "      <td>653</td>\n",
              "      <td>8377</td>\n",
              "      <td>5.0</td>\n",
              "      <td>OUTDOOR ADVENTURERS</td>\n",
              "      <td>2023-03-02</td>\n",
              "      <td>WOMEN</td>\n",
              "      <td>35-44</td>\n",
              "    </tr>\n",
              "  </tbody>\n",
              "</table>\n",
              "</div>"
            ],
            "text/plain": [
              "       customerid   campaign_type  duration channel_used  conversion_rate  \\\n",
              "88452    1673e0a3  sostenibilidad      10.0      YOUTUBE             0.15   \n",
              "13179    af23abbd     performance       2.0   GOOGLE ADS             0.10   \n",
              "83995    6b751342  sostenibilidad      10.0     FACEBOOK             0.12   \n",
              "97397    00f50e76  sostenibilidad      30.0       E-MAIL             0.05   \n",
              "102951   ed9f811e  sostenibilidad       7.0       E-MAIL             0.14   \n",
              "\n",
              "        acquisition_cost                location  clicks  impressions  \\\n",
              "88452          1030600.0    COMUNIDAD VALENCIANA     566         2615   \n",
              "13179             9668.0                CATALUÑA     509         5108   \n",
              "83995            17902.0                CATALUÑA     955         3567   \n",
              "97397             8180.0  PRINCIPADO DE ASTURIAS     291         2876   \n",
              "102951           11377.0  PRINCIPADO DE ASTURIAS     653         8377   \n",
              "\n",
              "        engagement_score     customer_segment        date genero   edad  \n",
              "88452               10.0              FOODIES  2022-07-01  WOMEN  25-34  \n",
              "13179               10.0     TECH ENTHUSIASTS  2021-04-12  WOMEN  25-34  \n",
              "83995                8.0     TECH ENTHUSIASTS  2021-01-25  WOMEN  35-44  \n",
              "97397                8.0              FOODIES  2023-10-11    MEN  18-24  \n",
              "102951               5.0  OUTDOOR ADVENTURERS  2023-03-02  WOMEN  35-44  "
            ]
          },
          "execution_count": 26,
          "metadata": {},
          "output_type": "execute_result"
        }
      ],
      "source": [
        "df_marketing.sample(5)"
      ]
    },
    {
      "cell_type": "code",
      "execution_count": 27,
      "id": "54db01a0",
      "metadata": {},
      "outputs": [],
      "source": [
        "df_marketing['date'] = pd.to_datetime(df_marketing['date'])"
      ]
    },
    {
      "cell_type": "code",
      "execution_count": 28,
      "id": "11ffde64",
      "metadata": {},
      "outputs": [
        {
          "data": {
            "text/plain": [
              "1516"
            ]
          },
          "execution_count": 28,
          "metadata": {},
          "output_type": "execute_result"
        }
      ],
      "source": [
        "df_marketing.duplicated().sum()"
      ]
    },
    {
      "cell_type": "code",
      "execution_count": 29,
      "id": "03416861",
      "metadata": {},
      "outputs": [],
      "source": [
        "df_marketing.drop_duplicates(inplace=True)"
      ]
    },
    {
      "cell_type": "code",
      "execution_count": 30,
      "id": "3c465375",
      "metadata": {},
      "outputs": [
        {
          "data": {
            "text/plain": [
              "customerid          False\n",
              "campaign_type       False\n",
              "duration             True\n",
              "channel_used        False\n",
              "conversion_rate      True\n",
              "acquisition_cost    False\n",
              "location            False\n",
              "clicks              False\n",
              "impressions         False\n",
              "engagement_score     True\n",
              "customer_segment    False\n",
              "date                False\n",
              "genero              False\n",
              "edad                False\n",
              "dtype: bool"
            ]
          },
          "execution_count": 30,
          "metadata": {},
          "output_type": "execute_result"
        }
      ],
      "source": [
        "df_marketing.isna().any()"
      ]
    },
    {
      "cell_type": "code",
      "execution_count": 31,
      "id": "17925087",
      "metadata": {},
      "outputs": [],
      "source": [
        "na_vars  = [\n",
        "    'duration',\n",
        "    'conversion_rate',\n",
        "    'engagement_score'\n",
        "]\n",
        "for var in na_vars:\n",
        "    df_marketing[var].ffill(inplace=True)"
      ]
    },
    {
      "cell_type": "code",
      "execution_count": 32,
      "id": "537634b5",
      "metadata": {},
      "outputs": [
        {
          "data": {
            "text/plain": [
              "customerid          False\n",
              "campaign_type       False\n",
              "duration            False\n",
              "channel_used        False\n",
              "conversion_rate     False\n",
              "acquisition_cost    False\n",
              "location            False\n",
              "clicks              False\n",
              "impressions         False\n",
              "engagement_score    False\n",
              "customer_segment    False\n",
              "date                False\n",
              "genero              False\n",
              "edad                False\n",
              "dtype: bool"
            ]
          },
          "execution_count": 32,
          "metadata": {},
          "output_type": "execute_result"
        }
      ],
      "source": [
        "df_marketing.isna().any()"
      ]
    },
    {
      "cell_type": "code",
      "execution_count": 33,
      "id": "33f7d8b9",
      "metadata": {},
      "outputs": [
        {
          "data": {
            "text/plain": [
              "<seaborn.axisgrid.FacetGrid at 0x2904c9ef190>"
            ]
          },
          "execution_count": 33,
          "metadata": {},
          "output_type": "execute_result"
        },
        {
          "data": {
            "image/png": "[encoded data removed]",
            "text/plain": [
              "<Figure size 1800x300 with 6 Axes>"
            ]
          },
          "metadata": {},
          "output_type": "display_data"
        }
      ],
      "source": [
        "df_ = df_marketing.select_dtypes('number').melt()\n",
        "grid = sns.FacetGrid(df_,col='variable',sharex=False)\n",
        "grid.map(sns.boxplot,'value',palette=palette)"
      ]
    },
    {
      "cell_type": "code",
      "execution_count": 34,
      "id": "3647ffd1",
      "metadata": {},
      "outputs": [],
      "source": [
        "for col in df_marketing.select_dtypes('number').columns:\n",
        "    Q1 = df_marketing[col].quantile(0.25)\n",
        "    Q3 = df_marketing[col].quantile(0.75)\n",
        "    r = Q3-Q1\n",
        "    vmin = Q1 - 1.5*r\n",
        "    vmax = Q3 + 1.5*r\n",
        "    media = df_marketing[col].mean()\n",
        "    mask = (df_marketing[col] < vmin) | (df_marketing[col] > vmax)\n",
        "    df_marketing[col] = df_marketing[col].mask(mask).fillna(media)"
      ]
    },
    {
      "cell_type": "code",
      "execution_count": 35,
      "id": "fec889b2",
      "metadata": {},
      "outputs": [
        {
          "data": {
            "text/plain": [
              "<seaborn.axisgrid.FacetGrid at 0x2904c9b7850>"
            ]
          },
          "execution_count": 35,
          "metadata": {},
          "output_type": "execute_result"
        },
        {
          "data": {
            "image/png": "[encoded data removed]",
            "text/plain": [
              "<Figure size 1800x300 with 6 Axes>"
            ]
          },
          "metadata": {},
          "output_type": "display_data"
        }
      ],
      "source": [
        "df_ = df_marketing.select_dtypes('number').melt()\n",
        "grid = sns.FacetGrid(df_,col='variable',sharex=False)\n",
        "grid.map(sns.boxplot,'value',palette=palette)"
      ]
    },
    {
      "cell_type": "markdown",
      "id": "b44c4969",
      "metadata": {},
      "source": [
        "#### EDA"
      ]
    },
    {
      "cell_type": "code",
      "execution_count": 36,
      "id": "267f0c61",
      "metadata": {},
      "outputs": [
        {
          "data": {
            "text/html": [
              "<div>\n",
              "<style scoped>\n",
              "    .dataframe tbody tr th:only-of-type {\n",
              "        vertical-align: middle;\n",
              "    }\n",
              "\n",
              "    .dataframe tbody tr th {\n",
              "        vertical-align: top;\n",
              "    }\n",
              "\n",
              "    .dataframe thead th {\n",
              "        text-align: right;\n",
              "    }\n",
              "</style>\n",
              "<table border=\"1\" class=\"dataframe\">\n",
              "  <thead>\n",
              "    <tr style=\"text-align: right;\">\n",
              "      <th></th>\n",
              "      <th>customerid</th>\n",
              "      <th>campaign_type</th>\n",
              "      <th>duration</th>\n",
              "      <th>channel_used</th>\n",
              "      <th>conversion_rate</th>\n",
              "      <th>acquisition_cost</th>\n",
              "      <th>location</th>\n",
              "      <th>clicks</th>\n",
              "      <th>impressions</th>\n",
              "      <th>engagement_score</th>\n",
              "      <th>customer_segment</th>\n",
              "      <th>date</th>\n",
              "      <th>genero</th>\n",
              "      <th>edad</th>\n",
              "    </tr>\n",
              "  </thead>\n",
              "  <tbody>\n",
              "    <tr>\n",
              "      <th>76168</th>\n",
              "      <td>7a39c2c5</td>\n",
              "      <td>sostenibilidad</td>\n",
              "      <td>10.0</td>\n",
              "      <td>FACEBOOK</td>\n",
              "      <td>0.14</td>\n",
              "      <td>19832.000000</td>\n",
              "      <td>COMUNIDAD DE MADRID</td>\n",
              "      <td>454</td>\n",
              "      <td>5255.0</td>\n",
              "      <td>7.0</td>\n",
              "      <td>HEALTH &amp; WELLNESS</td>\n",
              "      <td>2020-05-11</td>\n",
              "      <td>MEN</td>\n",
              "      <td>25-34</td>\n",
              "    </tr>\n",
              "    <tr>\n",
              "      <th>47842</th>\n",
              "      <td>57964862</td>\n",
              "      <td>Branding</td>\n",
              "      <td>2.0</td>\n",
              "      <td>INSTAGRAM</td>\n",
              "      <td>0.02</td>\n",
              "      <td>5106.000000</td>\n",
              "      <td>COMUNIDAD VALENCIANA</td>\n",
              "      <td>603</td>\n",
              "      <td>3439.0</td>\n",
              "      <td>3.0</td>\n",
              "      <td>FOODIES</td>\n",
              "      <td>2022-01-07</td>\n",
              "      <td>WOMEN</td>\n",
              "      <td>25-34</td>\n",
              "    </tr>\n",
              "    <tr>\n",
              "      <th>96294</th>\n",
              "      <td>6ab94e45</td>\n",
              "      <td>sostenibilidad</td>\n",
              "      <td>7.0</td>\n",
              "      <td>YOUTUBE</td>\n",
              "      <td>0.09</td>\n",
              "      <td>19954.000000</td>\n",
              "      <td>PRINCIPADO DE ASTURIAS</td>\n",
              "      <td>627</td>\n",
              "      <td>1681.0</td>\n",
              "      <td>9.0</td>\n",
              "      <td>FOODIES</td>\n",
              "      <td>2023-12-07</td>\n",
              "      <td>MEN</td>\n",
              "      <td>18-24</td>\n",
              "    </tr>\n",
              "    <tr>\n",
              "      <th>7750</th>\n",
              "      <td>205daae5</td>\n",
              "      <td>performance</td>\n",
              "      <td>2.0</td>\n",
              "      <td>FACEBOOK</td>\n",
              "      <td>0.04</td>\n",
              "      <td>13280.000000</td>\n",
              "      <td>COMUNIDAD DE MADRID</td>\n",
              "      <td>674</td>\n",
              "      <td>6943.0</td>\n",
              "      <td>7.0</td>\n",
              "      <td>TECH ENTHUSIASTS</td>\n",
              "      <td>2020-04-12</td>\n",
              "      <td>no_especificado</td>\n",
              "      <td>no_especificado</td>\n",
              "    </tr>\n",
              "    <tr>\n",
              "      <th>56067</th>\n",
              "      <td>50737d39</td>\n",
              "      <td>Branding</td>\n",
              "      <td>2.0</td>\n",
              "      <td>WEB</td>\n",
              "      <td>0.02</td>\n",
              "      <td>236764.555914</td>\n",
              "      <td>PRINCIPADO DE ASTURIAS</td>\n",
              "      <td>909</td>\n",
              "      <td>7606.0</td>\n",
              "      <td>4.0</td>\n",
              "      <td>ADVENTUERERS</td>\n",
              "      <td>2023-11-23</td>\n",
              "      <td>no_especificado</td>\n",
              "      <td>no_especificado</td>\n",
              "    </tr>\n",
              "  </tbody>\n",
              "</table>\n",
              "</div>"
            ],
            "text/plain": [
              "      customerid   campaign_type  duration channel_used  conversion_rate  \\\n",
              "76168   7a39c2c5  sostenibilidad      10.0     FACEBOOK             0.14   \n",
              "47842   57964862        Branding       2.0    INSTAGRAM             0.02   \n",
              "96294   6ab94e45  sostenibilidad       7.0      YOUTUBE             0.09   \n",
              "7750    205daae5     performance       2.0     FACEBOOK             0.04   \n",
              "56067   50737d39        Branding       2.0          WEB             0.02   \n",
              "\n",
              "       acquisition_cost                location  clicks  impressions  \\\n",
              "76168      19832.000000     COMUNIDAD DE MADRID     454       5255.0   \n",
              "47842       5106.000000    COMUNIDAD VALENCIANA     603       3439.0   \n",
              "96294      19954.000000  PRINCIPADO DE ASTURIAS     627       1681.0   \n",
              "7750       13280.000000     COMUNIDAD DE MADRID     674       6943.0   \n",
              "56067     236764.555914  PRINCIPADO DE ASTURIAS     909       7606.0   \n",
              "\n",
              "       engagement_score   customer_segment       date           genero  \\\n",
              "76168               7.0  HEALTH & WELLNESS 2020-05-11              MEN   \n",
              "47842               3.0            FOODIES 2022-01-07            WOMEN   \n",
              "96294               9.0            FOODIES 2023-12-07              MEN   \n",
              "7750                7.0   TECH ENTHUSIASTS 2020-04-12  no_especificado   \n",
              "56067               4.0       ADVENTUERERS 2023-11-23  no_especificado   \n",
              "\n",
              "                  edad  \n",
              "76168            25-34  \n",
              "47842            25-34  \n",
              "96294            18-24  \n",
              "7750   no_especificado  \n",
              "56067  no_especificado  "
            ]
          },
          "execution_count": 36,
          "metadata": {},
          "output_type": "execute_result"
        }
      ],
      "source": [
        "df_marketing.sample(5)"
      ]
    },
    {
      "cell_type": "code",
      "execution_count": 37,
      "id": "437626d2",
      "metadata": {},
      "outputs": [
        {
          "data": {
            "text/plain": [
              "<seaborn.axisgrid.FacetGrid at 0x2904e45c450>"
            ]
          },
          "execution_count": 37,
          "metadata": {},
          "output_type": "execute_result"
        },
        {
          "data": {
            "image/png": "[encoded data removed]",
            "text/plain": [
              "<Figure size 1800x300 with 6 Axes>"
            ]
          },
          "metadata": {},
          "output_type": "display_data"
        }
      ],
      "source": [
        "df_ = df_marketing.select_dtypes('category').melt()\n",
        "\n",
        "grid = sns.FacetGrid(df_,col='variable',sharex=False,sharey=False)\n",
        "grid.map(sns.countplot,'value',**kwargs)\n",
        "grid.set_xticklabels(rotation=90)"
      ]
    },
    {
      "cell_type": "code",
      "execution_count": 38,
      "id": "d1dbae19",
      "metadata": {},
      "outputs": [
        {
          "data": {
            "text/plain": [
              "<seaborn.axisgrid.FacetGrid at 0x2904f0ba590>"
            ]
          },
          "execution_count": 38,
          "metadata": {},
          "output_type": "execute_result"
        },
        {
          "data": {
            "image/png": "[encoded data removed]",
            "text/plain": [
              "<Figure size 1800x300 with 6 Axes>"
            ]
          },
          "metadata": {},
          "output_type": "display_data"
        }
      ],
      "source": [
        "df_ = df_marketing.select_dtypes('number').melt()\n",
        "grid = sns.FacetGrid(df_,col='variable',sharex=False,sharey=False)\n",
        "grid.map(sns.boxplot,'value',fill=True,color=palette[0])"
      ]
    },
    {
      "cell_type": "markdown",
      "id": "6ea5f2c4",
      "metadata": {},
      "source": [
        "### Datos de facturación"
      ]
    },
    {
      "cell_type": "code",
      "execution_count": 39,
      "id": "492d53d7",
      "metadata": {},
      "outputs": [
        {
          "data": {
            "text/html": [
              "<div>\n",
              "<style scoped>\n",
              "    .dataframe tbody tr th:only-of-type {\n",
              "        vertical-align: middle;\n",
              "    }\n",
              "\n",
              "    .dataframe tbody tr th {\n",
              "        vertical-align: top;\n",
              "    }\n",
              "\n",
              "    .dataframe thead th {\n",
              "        text-align: right;\n",
              "    }\n",
              "</style>\n",
              "<table border=\"1\" class=\"dataframe\">\n",
              "  <thead>\n",
              "    <tr style=\"text-align: right;\">\n",
              "      <th></th>\n",
              "      <th>fecha_de_factura</th>\n",
              "      <th>factura</th>\n",
              "      <th>codigo_de_stock</th>\n",
              "      <th>producto</th>\n",
              "      <th>cantidad</th>\n",
              "      <th>precio</th>\n",
              "      <th>id_del_cliente</th>\n",
              "      <th>ciudad</th>\n",
              "    </tr>\n",
              "  </thead>\n",
              "  <tbody>\n",
              "    <tr>\n",
              "      <th>0</th>\n",
              "      <td>2021-12-05</td>\n",
              "      <td>537196</td>\n",
              "      <td>21811</td>\n",
              "      <td>CHRISTMAS HANGING HEART WITH BELL</td>\n",
              "      <td>1.0</td>\n",
              "      <td>1.25</td>\n",
              "      <td>c8a66fe3</td>\n",
              "      <td>Lleida</td>\n",
              "    </tr>\n",
              "    <tr>\n",
              "      <th>1</th>\n",
              "      <td>2020-12-16</td>\n",
              "      <td>539294</td>\n",
              "      <td>47574A</td>\n",
              "      <td>ENGLISH ROSE SCENTED HANGING FLOWER</td>\n",
              "      <td>1.0</td>\n",
              "      <td>4.25</td>\n",
              "      <td>7d08cdc9</td>\n",
              "      <td>Madrid</td>\n",
              "    </tr>\n",
              "    <tr>\n",
              "      <th>2</th>\n",
              "      <td>2020-10-18</td>\n",
              "      <td>571714</td>\n",
              "      <td>84951A</td>\n",
              "      <td>SET OF 4 PISTACHIO LOVEBIRD COASTER</td>\n",
              "      <td>NaN</td>\n",
              "      <td>NaN</td>\n",
              "      <td>df301f04</td>\n",
              "      <td>Oviedo</td>\n",
              "    </tr>\n",
              "    <tr>\n",
              "      <th>3</th>\n",
              "      <td>2022-09-08</td>\n",
              "      <td>566060</td>\n",
              "      <td>82484</td>\n",
              "      <td>WOOD BLACK BOARD ANT WHITE FINISH</td>\n",
              "      <td>2.0</td>\n",
              "      <td>16.63</td>\n",
              "      <td>a70cf1ee</td>\n",
              "      <td>Valencia</td>\n",
              "    </tr>\n",
              "    <tr>\n",
              "      <th>4</th>\n",
              "      <td>2022-12-06</td>\n",
              "      <td>537237</td>\n",
              "      <td>22208</td>\n",
              "      <td>WOOD STAMP SET THANK YOU</td>\n",
              "      <td>3.0</td>\n",
              "      <td>3.36</td>\n",
              "      <td>b0e56ea7</td>\n",
              "      <td>Alicante</td>\n",
              "    </tr>\n",
              "  </tbody>\n",
              "</table>\n",
              "</div>"
            ],
            "text/plain": [
              "  fecha_de_factura factura codigo_de_stock  \\\n",
              "0       2021-12-05  537196           21811   \n",
              "1       2020-12-16  539294          47574A   \n",
              "2       2020-10-18  571714          84951A   \n",
              "3       2022-09-08  566060           82484   \n",
              "4       2022-12-06  537237           22208   \n",
              "\n",
              "                              producto  cantidad  precio id_del_cliente  \\\n",
              "0    CHRISTMAS HANGING HEART WITH BELL       1.0    1.25       c8a66fe3   \n",
              "1  ENGLISH ROSE SCENTED HANGING FLOWER       1.0    4.25       7d08cdc9   \n",
              "2  SET OF 4 PISTACHIO LOVEBIRD COASTER       NaN     NaN       df301f04   \n",
              "3    WOOD BLACK BOARD ANT WHITE FINISH       2.0   16.63       a70cf1ee   \n",
              "4             WOOD STAMP SET THANK YOU       3.0    3.36       b0e56ea7   \n",
              "\n",
              "     ciudad  \n",
              "0    Lleida  \n",
              "1    Madrid  \n",
              "2    Oviedo  \n",
              "3  Valencia  \n",
              "4  Alicante  "
            ]
          },
          "execution_count": 39,
          "metadata": {},
          "output_type": "execute_result"
        }
      ],
      "source": [
        "df_fact = pd.read_csv('data/facturacion.csv')\n",
        "df_fact.head()"
      ]
    },
    {
      "cell_type": "code",
      "execution_count": 40,
      "id": "fefc10f6",
      "metadata": {},
      "outputs": [
        {
          "data": {
            "text/plain": [
              "fecha_de_factura    False\n",
              "factura             False\n",
              "codigo_de_stock      True\n",
              "producto             True\n",
              "cantidad             True\n",
              "precio               True\n",
              "id_del_cliente       True\n",
              "ciudad              False\n",
              "dtype: bool"
            ]
          },
          "execution_count": 40,
          "metadata": {},
          "output_type": "execute_result"
        }
      ],
      "source": [
        "df_fact.isna().any()"
      ]
    },
    {
      "cell_type": "code",
      "execution_count": 41,
      "id": "19855c69",
      "metadata": {},
      "outputs": [
        {
          "data": {
            "text/plain": [
              "fecha_de_factura    0.000000\n",
              "factura             0.000000\n",
              "codigo_de_stock     0.040607\n",
              "producto            0.002697\n",
              "cantidad            0.050001\n",
              "precio              0.050001\n",
              "id_del_cliente      0.049954\n",
              "ciudad              0.000000\n",
              "dtype: float64"
            ]
          },
          "execution_count": 41,
          "metadata": {},
          "output_type": "execute_result"
        }
      ],
      "source": [
        "df_fact.isna().sum() / len(df_fact)"
      ]
    },
    {
      "cell_type": "code",
      "execution_count": 42,
      "id": "d39457cd",
      "metadata": {},
      "outputs": [],
      "source": [
        "df_fact.dropna(inplace=True)"
      ]
    },
    {
      "cell_type": "code",
      "execution_count": 43,
      "id": "fb56fb81",
      "metadata": {},
      "outputs": [],
      "source": [
        "df_fact['fecha_de_factura'] = pd.to_datetime(df_fact['fecha_de_factura'])"
      ]
    },
    {
      "cell_type": "code",
      "execution_count": 44,
      "id": "0eb22e76",
      "metadata": {},
      "outputs": [
        {
          "data": {
            "text/html": [
              "<div>\n",
              "<style scoped>\n",
              "    .dataframe tbody tr th:only-of-type {\n",
              "        vertical-align: middle;\n",
              "    }\n",
              "\n",
              "    .dataframe tbody tr th {\n",
              "        vertical-align: top;\n",
              "    }\n",
              "\n",
              "    .dataframe thead th {\n",
              "        text-align: right;\n",
              "    }\n",
              "</style>\n",
              "<table border=\"1\" class=\"dataframe\">\n",
              "  <thead>\n",
              "    <tr style=\"text-align: right;\">\n",
              "      <th></th>\n",
              "      <th>fecha_de_factura</th>\n",
              "      <th>factura</th>\n",
              "      <th>codigo_de_stock</th>\n",
              "      <th>producto</th>\n",
              "      <th>cantidad</th>\n",
              "      <th>precio</th>\n",
              "      <th>id_del_cliente</th>\n",
              "      <th>ciudad</th>\n",
              "    </tr>\n",
              "  </thead>\n",
              "  <tbody>\n",
              "    <tr>\n",
              "      <th>0</th>\n",
              "      <td>2021-12-05</td>\n",
              "      <td>537196</td>\n",
              "      <td>21811</td>\n",
              "      <td>CHRISTMAS HANGING HEART WITH BELL</td>\n",
              "      <td>1.0</td>\n",
              "      <td>1.25</td>\n",
              "      <td>c8a66fe3</td>\n",
              "      <td>Lleida</td>\n",
              "    </tr>\n",
              "    <tr>\n",
              "      <th>1</th>\n",
              "      <td>2020-12-16</td>\n",
              "      <td>539294</td>\n",
              "      <td>47574A</td>\n",
              "      <td>ENGLISH ROSE SCENTED HANGING FLOWER</td>\n",
              "      <td>1.0</td>\n",
              "      <td>4.25</td>\n",
              "      <td>7d08cdc9</td>\n",
              "      <td>Madrid</td>\n",
              "    </tr>\n",
              "    <tr>\n",
              "      <th>3</th>\n",
              "      <td>2022-09-08</td>\n",
              "      <td>566060</td>\n",
              "      <td>82484</td>\n",
              "      <td>WOOD BLACK BOARD ANT WHITE FINISH</td>\n",
              "      <td>2.0</td>\n",
              "      <td>16.63</td>\n",
              "      <td>a70cf1ee</td>\n",
              "      <td>Valencia</td>\n",
              "    </tr>\n",
              "    <tr>\n",
              "      <th>4</th>\n",
              "      <td>2022-12-06</td>\n",
              "      <td>537237</td>\n",
              "      <td>22208</td>\n",
              "      <td>WOOD STAMP SET THANK YOU</td>\n",
              "      <td>3.0</td>\n",
              "      <td>3.36</td>\n",
              "      <td>b0e56ea7</td>\n",
              "      <td>Alicante</td>\n",
              "    </tr>\n",
              "    <tr>\n",
              "      <th>5</th>\n",
              "      <td>2021-05-08</td>\n",
              "      <td>552309</td>\n",
              "      <td>21094</td>\n",
              "      <td>SET/6 RED SPOTTY PAPER PLATES</td>\n",
              "      <td>12.0</td>\n",
              "      <td>0.85</td>\n",
              "      <td>4f289506</td>\n",
              "      <td>Alicante</td>\n",
              "    </tr>\n",
              "  </tbody>\n",
              "</table>\n",
              "</div>"
            ],
            "text/plain": [
              "  fecha_de_factura factura codigo_de_stock  \\\n",
              "0       2021-12-05  537196           21811   \n",
              "1       2020-12-16  539294          47574A   \n",
              "3       2022-09-08  566060           82484   \n",
              "4       2022-12-06  537237           22208   \n",
              "5       2021-05-08  552309           21094   \n",
              "\n",
              "                              producto  cantidad  precio id_del_cliente  \\\n",
              "0    CHRISTMAS HANGING HEART WITH BELL       1.0    1.25       c8a66fe3   \n",
              "1  ENGLISH ROSE SCENTED HANGING FLOWER       1.0    4.25       7d08cdc9   \n",
              "3    WOOD BLACK BOARD ANT WHITE FINISH       2.0   16.63       a70cf1ee   \n",
              "4             WOOD STAMP SET THANK YOU       3.0    3.36       b0e56ea7   \n",
              "5        SET/6 RED SPOTTY PAPER PLATES      12.0    0.85       4f289506   \n",
              "\n",
              "     ciudad  \n",
              "0    Lleida  \n",
              "1    Madrid  \n",
              "3  Valencia  \n",
              "4  Alicante  \n",
              "5  Alicante  "
            ]
          },
          "execution_count": 44,
          "metadata": {},
          "output_type": "execute_result"
        }
      ],
      "source": [
        "df_fact.head()"
      ]
    },
    {
      "cell_type": "code",
      "execution_count": 45,
      "id": "7b7b6a6b",
      "metadata": {},
      "outputs": [],
      "source": [
        "df_fact['ciudad'] = (\n",
        "    df_fact['ciudad']\n",
        "    .str.lstrip()\n",
        "    .str.rstrip()\n",
        "    .str.upper()\n",
        "    .astype('category')\n",
        ")"
      ]
    },
    {
      "cell_type": "code",
      "execution_count": 46,
      "id": "ce3c711f",
      "metadata": {},
      "outputs": [
        {
          "data": {
            "text/plain": [
              "14910"
            ]
          },
          "execution_count": 46,
          "metadata": {},
          "output_type": "execute_result"
        }
      ],
      "source": [
        "df_fact.duplicated().sum()"
      ]
    },
    {
      "cell_type": "code",
      "execution_count": 47,
      "id": "4601bccd",
      "metadata": {},
      "outputs": [],
      "source": [
        "df_fact.drop_duplicates(inplace=True)"
      ]
    },
    {
      "cell_type": "code",
      "execution_count": 48,
      "id": "b699a46c",
      "metadata": {},
      "outputs": [
        {
          "data": {
            "text/plain": [
              "<seaborn.axisgrid.FacetGrid at 0x29050851750>"
            ]
          },
          "execution_count": 48,
          "metadata": {},
          "output_type": "execute_result"
        },
        {
          "data": {
            "image/png": "[encoded data removed]",
            "text/plain": [
              "<Figure size 600x300 with 2 Axes>"
            ]
          },
          "metadata": {},
          "output_type": "display_data"
        }
      ],
      "source": [
        "df_ = df_fact.select_dtypes('number').melt()\n",
        "grid = sns.FacetGrid(df_,col='variable',sharex=False)\n",
        "grid.map(sns.boxplot,'value',palette=palette)"
      ]
    },
    {
      "cell_type": "code",
      "execution_count": 49,
      "id": "ce91b3a6",
      "metadata": {},
      "outputs": [],
      "source": [
        "for col in df_fact.select_dtypes('number').columns:\n",
        "    Q1 = df_fact[col].quantile(0.25)\n",
        "    Q3 = df_fact[col].quantile(0.75)\n",
        "    r = Q3-Q1\n",
        "    vmin = Q1 - 1.5*r\n",
        "    vmax = Q3 + 1.5*r\n",
        "    mask = (df_fact[col] < vmin) | (df_fact[col] > vmax)\n",
        "    df_fact[col] = df_fact[col].mask(mask).fillna(media)"
      ]
    },
    {
      "cell_type": "code",
      "execution_count": 50,
      "id": "1283ae2d",
      "metadata": {},
      "outputs": [],
      "source": [
        "df_fact['cantidad'].where(df_fact['cantidad'] > 0,inplace=True)\n",
        "df_fact.dropna(subset='cantidad',inplace=True)"
      ]
    },
    {
      "cell_type": "code",
      "execution_count": 51,
      "id": "cdbe60db",
      "metadata": {},
      "outputs": [
        {
          "data": {
            "text/plain": [
              "<seaborn.axisgrid.FacetGrid at 0x2904e473490>"
            ]
          },
          "execution_count": 51,
          "metadata": {},
          "output_type": "execute_result"
        },
        {
          "data": {
            "image/png": "[encoded data removed]",
            "text/plain": [
              "<Figure size 600x300 with 2 Axes>"
            ]
          },
          "metadata": {},
          "output_type": "display_data"
        }
      ],
      "source": [
        "df_ = df_fact.select_dtypes('number').melt()\n",
        "grid = sns.FacetGrid(df_,col='variable',sharex=False)\n",
        "grid.map(sns.boxplot,'value',palette=palette)"
      ]
    },
    {
      "cell_type": "markdown",
      "id": "361bab35",
      "metadata": {},
      "source": [
        "#### EDA"
      ]
    },
    {
      "cell_type": "code",
      "execution_count": 52,
      "id": "8ea63cd5",
      "metadata": {},
      "outputs": [
        {
          "data": {
            "image/png": "[encoded data removed]",
            "text/plain": [
              "<Figure size 640x480 with 1 Axes>"
            ]
          },
          "metadata": {},
          "output_type": "display_data"
        }
      ],
      "source": [
        "sns.countplot(\n",
        "    data = df_fact,\n",
        "    x = 'ciudad',\n",
        "    **kwargs\n",
        ")\n",
        "rot_show()"
      ]
    },
    {
      "cell_type": "code",
      "execution_count": 53,
      "id": "1e882cbb",
      "metadata": {},
      "outputs": [
        {
          "data": {
            "text/plain": [
              "<seaborn.axisgrid.FacetGrid at 0x2904e5bc090>"
            ]
          },
          "execution_count": 53,
          "metadata": {},
          "output_type": "execute_result"
        },
        {
          "data": {
            "image/png": "[encoded data removed]",
            "text/plain": [
              "<Figure size 600x300 with 2 Axes>"
            ]
          },
          "metadata": {},
          "output_type": "display_data"
        }
      ],
      "source": [
        "dF_ = (\n",
        "    df_fact\n",
        "    .select_dtypes('number')\n",
        "    .melt()\n",
        ")\n",
        "grid = sns.FacetGrid(df_,col='variable',sharex=False,sharey=False)\n",
        "grid.map(sns.violinplot,'value',color=palette[0])"
      ]
    },
    {
      "cell_type": "markdown",
      "id": "737f38f5",
      "metadata": {},
      "source": [
        "## Cruce de datos de ventas con campañas"
      ]
    },
    {
      "cell_type": "code",
      "execution_count": 54,
      "id": "6990720b",
      "metadata": {},
      "outputs": [
        {
          "data": {
            "text/html": [
              "<div>\n",
              "<style scoped>\n",
              "    .dataframe tbody tr th:only-of-type {\n",
              "        vertical-align: middle;\n",
              "    }\n",
              "\n",
              "    .dataframe tbody tr th {\n",
              "        vertical-align: top;\n",
              "    }\n",
              "\n",
              "    .dataframe thead th {\n",
              "        text-align: right;\n",
              "    }\n",
              "</style>\n",
              "<table border=\"1\" class=\"dataframe\">\n",
              "  <thead>\n",
              "    <tr style=\"text-align: right;\">\n",
              "      <th></th>\n",
              "      <th>customerid</th>\n",
              "      <th>date</th>\n",
              "      <th>campaign_type</th>\n",
              "      <th>clicks</th>\n",
              "      <th>impressions</th>\n",
              "    </tr>\n",
              "  </thead>\n",
              "  <tbody>\n",
              "    <tr>\n",
              "      <th>37</th>\n",
              "      <td>0024e298</td>\n",
              "      <td>2020-01-10</td>\n",
              "      <td>performance</td>\n",
              "      <td>635</td>\n",
              "      <td>3195.0</td>\n",
              "    </tr>\n",
              "    <tr>\n",
              "      <th>68</th>\n",
              "      <td>0024e298</td>\n",
              "      <td>2020-01-18</td>\n",
              "      <td>Branding</td>\n",
              "      <td>736</td>\n",
              "      <td>7848.0</td>\n",
              "    </tr>\n",
              "    <tr>\n",
              "      <th>73</th>\n",
              "      <td>0024e298</td>\n",
              "      <td>2020-01-19</td>\n",
              "      <td>performance</td>\n",
              "      <td>894</td>\n",
              "      <td>3429.0</td>\n",
              "    </tr>\n",
              "    <tr>\n",
              "      <th>101</th>\n",
              "      <td>0024e298</td>\n",
              "      <td>2020-01-26</td>\n",
              "      <td>performance</td>\n",
              "      <td>302</td>\n",
              "      <td>9734.0</td>\n",
              "    </tr>\n",
              "    <tr>\n",
              "      <th>109</th>\n",
              "      <td>0024e298</td>\n",
              "      <td>2020-01-28</td>\n",
              "      <td>performance</td>\n",
              "      <td>132</td>\n",
              "      <td>1480.0</td>\n",
              "    </tr>\n",
              "  </tbody>\n",
              "</table>\n",
              "</div>"
            ],
            "text/plain": [
              "    customerid       date campaign_type  clicks  impressions\n",
              "37    0024e298 2020-01-10   performance     635       3195.0\n",
              "68    0024e298 2020-01-18      Branding     736       7848.0\n",
              "73    0024e298 2020-01-19   performance     894       3429.0\n",
              "101   0024e298 2020-01-26   performance     302       9734.0\n",
              "109   0024e298 2020-01-28   performance     132       1480.0"
            ]
          },
          "execution_count": 54,
          "metadata": {},
          "output_type": "execute_result"
        }
      ],
      "source": [
        "df1 = (\n",
        "    df_marketing\n",
        "    .groupby(['customerid','date','campaign_type'],as_index=False)\n",
        "    [['clicks','impressions']]\n",
        "    .sum()\n",
        "    .query('impressions != 0')\n",
        ")\n",
        "df1.head()"
      ]
    },
    {
      "cell_type": "code",
      "execution_count": 55,
      "id": "9ed3bf7a",
      "metadata": {},
      "outputs": [],
      "source": [
        "df_fact['total'] = df_fact['cantidad'] * df_fact['precio']"
      ]
    },
    {
      "cell_type": "code",
      "execution_count": 56,
      "id": "9f55cc61",
      "metadata": {},
      "outputs": [
        {
          "data": {
            "text/html": [
              "<div>\n",
              "<style scoped>\n",
              "    .dataframe tbody tr th:only-of-type {\n",
              "        vertical-align: middle;\n",
              "    }\n",
              "\n",
              "    .dataframe tbody tr th {\n",
              "        vertical-align: top;\n",
              "    }\n",
              "\n",
              "    .dataframe thead th {\n",
              "        text-align: right;\n",
              "    }\n",
              "</style>\n",
              "<table border=\"1\" class=\"dataframe\">\n",
              "  <thead>\n",
              "    <tr style=\"text-align: right;\">\n",
              "      <th></th>\n",
              "      <th>id_del_cliente</th>\n",
              "      <th>fecha_de_factura</th>\n",
              "      <th>total</th>\n",
              "    </tr>\n",
              "  </thead>\n",
              "  <tbody>\n",
              "    <tr>\n",
              "      <th>0</th>\n",
              "      <td>0024e298</td>\n",
              "      <td>2020-02-23</td>\n",
              "      <td>540.161336</td>\n",
              "    </tr>\n",
              "    <tr>\n",
              "      <th>1</th>\n",
              "      <td>0024e298</td>\n",
              "      <td>2020-03-01</td>\n",
              "      <td>10.768853</td>\n",
              "    </tr>\n",
              "    <tr>\n",
              "      <th>2</th>\n",
              "      <td>0024e298</td>\n",
              "      <td>2020-03-11</td>\n",
              "      <td>4.558853</td>\n",
              "    </tr>\n",
              "    <tr>\n",
              "      <th>3</th>\n",
              "      <td>0024e298</td>\n",
              "      <td>2020-03-25</td>\n",
              "      <td>18.800000</td>\n",
              "    </tr>\n",
              "    <tr>\n",
              "      <th>4</th>\n",
              "      <td>0024e298</td>\n",
              "      <td>2020-03-30</td>\n",
              "      <td>70.914718</td>\n",
              "    </tr>\n",
              "  </tbody>\n",
              "</table>\n",
              "</div>"
            ],
            "text/plain": [
              "  id_del_cliente fecha_de_factura       total\n",
              "0       0024e298       2020-02-23  540.161336\n",
              "1       0024e298       2020-03-01   10.768853\n",
              "2       0024e298       2020-03-11    4.558853\n",
              "3       0024e298       2020-03-25   18.800000\n",
              "4       0024e298       2020-03-30   70.914718"
            ]
          },
          "execution_count": 56,
          "metadata": {},
          "output_type": "execute_result"
        }
      ],
      "source": [
        "df2 = (\n",
        "    df_fact\n",
        "    .groupby(['id_del_cliente','fecha_de_factura'],as_index=False)\n",
        "    ['total']\n",
        "    .sum()\n",
        ")\n",
        "df2.head()"
      ]
    },
    {
      "cell_type": "code",
      "execution_count": 57,
      "id": "018ce26c",
      "metadata": {},
      "outputs": [
        {
          "data": {
            "text/html": [
              "<div>\n",
              "<style scoped>\n",
              "    .dataframe tbody tr th:only-of-type {\n",
              "        vertical-align: middle;\n",
              "    }\n",
              "\n",
              "    .dataframe tbody tr th {\n",
              "        vertical-align: top;\n",
              "    }\n",
              "\n",
              "    .dataframe thead th {\n",
              "        text-align: right;\n",
              "    }\n",
              "</style>\n",
              "<table border=\"1\" class=\"dataframe\">\n",
              "  <thead>\n",
              "    <tr style=\"text-align: right;\">\n",
              "      <th></th>\n",
              "      <th>customerid</th>\n",
              "      <th>date</th>\n",
              "      <th>campaign_type</th>\n",
              "      <th>clicks</th>\n",
              "      <th>impressions</th>\n",
              "      <th>total</th>\n",
              "    </tr>\n",
              "  </thead>\n",
              "  <tbody>\n",
              "    <tr>\n",
              "      <th>0</th>\n",
              "      <td>0024e298</td>\n",
              "      <td>2020-02-23</td>\n",
              "      <td>Branding</td>\n",
              "      <td>706</td>\n",
              "      <td>2540.0</td>\n",
              "      <td>540.161336</td>\n",
              "    </tr>\n",
              "    <tr>\n",
              "      <th>1</th>\n",
              "      <td>0024e298</td>\n",
              "      <td>2020-03-11</td>\n",
              "      <td>Branding</td>\n",
              "      <td>445</td>\n",
              "      <td>9625.0</td>\n",
              "      <td>4.558853</td>\n",
              "    </tr>\n",
              "    <tr>\n",
              "      <th>2</th>\n",
              "      <td>0024e298</td>\n",
              "      <td>2020-05-04</td>\n",
              "      <td>Branding</td>\n",
              "      <td>752</td>\n",
              "      <td>12301.0</td>\n",
              "      <td>34.625174</td>\n",
              "    </tr>\n",
              "    <tr>\n",
              "      <th>3</th>\n",
              "      <td>0024e298</td>\n",
              "      <td>2020-06-17</td>\n",
              "      <td>performance</td>\n",
              "      <td>465</td>\n",
              "      <td>5974.0</td>\n",
              "      <td>197.719824</td>\n",
              "    </tr>\n",
              "    <tr>\n",
              "      <th>4</th>\n",
              "      <td>0024e298</td>\n",
              "      <td>2020-08-11</td>\n",
              "      <td>Branding</td>\n",
              "      <td>1082</td>\n",
              "      <td>24301.0</td>\n",
              "      <td>143.131583</td>\n",
              "    </tr>\n",
              "  </tbody>\n",
              "</table>\n",
              "</div>"
            ],
            "text/plain": [
              "  customerid       date campaign_type  clicks  impressions       total\n",
              "0   0024e298 2020-02-23      Branding     706       2540.0  540.161336\n",
              "1   0024e298 2020-03-11      Branding     445       9625.0    4.558853\n",
              "2   0024e298 2020-05-04      Branding     752      12301.0   34.625174\n",
              "3   0024e298 2020-06-17   performance     465       5974.0  197.719824\n",
              "4   0024e298 2020-08-11      Branding    1082      24301.0  143.131583"
            ]
          },
          "execution_count": 57,
          "metadata": {},
          "output_type": "execute_result"
        }
      ],
      "source": [
        "df = pd.merge(\n",
        "    df1,\n",
        "    df2,\n",
        "    how = 'inner',\n",
        "    left_on = ['customerid','date'],\n",
        "    right_on = ['id_del_cliente','fecha_de_factura']\n",
        ").drop(columns=['id_del_cliente','fecha_de_factura'])\n",
        "df.head()"
      ]
    },
    {
      "cell_type": "code",
      "execution_count": 58,
      "id": "381cf137",
      "metadata": {},
      "outputs": [
        {
          "name": "stdout",
          "output_type": "stream",
          "text": [
            "<class 'pandas.core.frame.DataFrame'>\n",
            "RangeIndex: 4043 entries, 0 to 4042\n",
            "Data columns (total 6 columns):\n",
            " #   Column         Non-Null Count  Dtype         \n",
            "---  ------         --------------  -----         \n",
            " 0   customerid     4043 non-null   object        \n",
            " 1   date           4043 non-null   datetime64[ns]\n",
            " 2   campaign_type  4043 non-null   category      \n",
            " 3   clicks         4043 non-null   int64         \n",
            " 4   impressions    4043 non-null   float64       \n",
            " 5   total          4043 non-null   float64       \n",
            "dtypes: category(1), datetime64[ns](1), float64(2), int64(1), object(1)\n",
            "memory usage: 162.2+ KB\n"
          ]
        }
      ],
      "source": [
        "df.info()"
      ]
    },
    {
      "cell_type": "code",
      "execution_count": 59,
      "id": "0e26ebb9",
      "metadata": {},
      "outputs": [],
      "source": [
        "df_customer = pd.read_csv('data/customer.csv')\n",
        "df_profile = pd.read_csv('data/customer_profile.csv')"
      ]
    },
    {
      "cell_type": "code",
      "execution_count": 60,
      "id": "094f4f07",
      "metadata": {},
      "outputs": [
        {
          "data": {
            "text/html": [
              "<div>\n",
              "<style scoped>\n",
              "    .dataframe tbody tr th:only-of-type {\n",
              "        vertical-align: middle;\n",
              "    }\n",
              "\n",
              "    .dataframe tbody tr th {\n",
              "        vertical-align: top;\n",
              "    }\n",
              "\n",
              "    .dataframe thead th {\n",
              "        text-align: right;\n",
              "    }\n",
              "</style>\n",
              "<table border=\"1\" class=\"dataframe\">\n",
              "  <thead>\n",
              "    <tr style=\"text-align: right;\">\n",
              "      <th></th>\n",
              "      <th>Customer ID</th>\n",
              "      <th>Age</th>\n",
              "      <th>Gender</th>\n",
              "      <th>Location</th>\n",
              "      <th>Review Rating</th>\n",
              "      <th>Subscription Status</th>\n",
              "      <th>Preferred Payment Method</th>\n",
              "      <th>customerid</th>\n",
              "      <th>annual_income_($)</th>\n",
              "      <th>profession</th>\n",
              "      <th>work_experience</th>\n",
              "      <th>family_size</th>\n",
              "      <th>age</th>\n",
              "      <th>gender</th>\n",
              "    </tr>\n",
              "  </thead>\n",
              "  <tbody>\n",
              "    <tr>\n",
              "      <th>0</th>\n",
              "      <td>c8a66fe3</td>\n",
              "      <td>48</td>\n",
              "      <td>Male</td>\n",
              "      <td>Lleida</td>\n",
              "      <td>2.6</td>\n",
              "      <td>Yes</td>\n",
              "      <td>Debit Card</td>\n",
              "      <td>c8a66fe3</td>\n",
              "      <td>189091.0</td>\n",
              "      <td>Artist</td>\n",
              "      <td>0.0</td>\n",
              "      <td>6.0</td>\n",
              "      <td>48</td>\n",
              "      <td>Male</td>\n",
              "    </tr>\n",
              "    <tr>\n",
              "      <th>1</th>\n",
              "      <td>7d08cdc9</td>\n",
              "      <td>29</td>\n",
              "      <td>Male</td>\n",
              "      <td>Madrid</td>\n",
              "      <td>2.9</td>\n",
              "      <td>No</td>\n",
              "      <td>Debit Card</td>\n",
              "      <td>7d08cdc9</td>\n",
              "      <td>38000.0</td>\n",
              "      <td>Executive</td>\n",
              "      <td>10.0</td>\n",
              "      <td>1.0</td>\n",
              "      <td>29</td>\n",
              "      <td>Male</td>\n",
              "    </tr>\n",
              "    <tr>\n",
              "      <th>2</th>\n",
              "      <td>df301f04</td>\n",
              "      <td>41</td>\n",
              "      <td>Male</td>\n",
              "      <td>Oviedo</td>\n",
              "      <td>4.7</td>\n",
              "      <td>Yes</td>\n",
              "      <td>Debit Card</td>\n",
              "      <td>df301f04</td>\n",
              "      <td>85000.0</td>\n",
              "      <td>Lawyer</td>\n",
              "      <td>1.0</td>\n",
              "      <td>2.0</td>\n",
              "      <td>41</td>\n",
              "      <td>Male</td>\n",
              "    </tr>\n",
              "    <tr>\n",
              "      <th>3</th>\n",
              "      <td>a70cf1ee</td>\n",
              "      <td>67</td>\n",
              "      <td>Female</td>\n",
              "      <td>Valencia</td>\n",
              "      <td>3.2</td>\n",
              "      <td>No</td>\n",
              "      <td>Debit Card</td>\n",
              "      <td>a70cf1ee</td>\n",
              "      <td>79000.0</td>\n",
              "      <td>Homemaker</td>\n",
              "      <td>9.0</td>\n",
              "      <td>3.0</td>\n",
              "      <td>67</td>\n",
              "      <td>Female</td>\n",
              "    </tr>\n",
              "    <tr>\n",
              "      <th>4</th>\n",
              "      <td>b0e56ea7</td>\n",
              "      <td>49</td>\n",
              "      <td>Male</td>\n",
              "      <td>Alicante</td>\n",
              "      <td>4.4</td>\n",
              "      <td>No</td>\n",
              "      <td>Credit Card</td>\n",
              "      <td>b0e56ea7</td>\n",
              "      <td>99000.0</td>\n",
              "      <td>Artist</td>\n",
              "      <td>4.0</td>\n",
              "      <td>3.0</td>\n",
              "      <td>49</td>\n",
              "      <td>Male</td>\n",
              "    </tr>\n",
              "  </tbody>\n",
              "</table>\n",
              "</div>"
            ],
            "text/plain": [
              "  Customer ID  Age  Gender  Location  Review Rating Subscription Status  \\\n",
              "0    c8a66fe3   48    Male    Lleida            2.6                 Yes   \n",
              "1    7d08cdc9   29    Male    Madrid            2.9                  No   \n",
              "2    df301f04   41    Male    Oviedo            4.7                 Yes   \n",
              "3    a70cf1ee   67  Female  Valencia            3.2                  No   \n",
              "4    b0e56ea7   49    Male  Alicante            4.4                  No   \n",
              "\n",
              "  Preferred Payment Method customerid  annual_income_($) profession  \\\n",
              "0               Debit Card   c8a66fe3           189091.0     Artist   \n",
              "1               Debit Card   7d08cdc9            38000.0  Executive   \n",
              "2               Debit Card   df301f04            85000.0     Lawyer   \n",
              "3               Debit Card   a70cf1ee            79000.0  Homemaker   \n",
              "4              Credit Card   b0e56ea7            99000.0     Artist   \n",
              "\n",
              "   work_experience  family_size  age  gender  \n",
              "0              0.0          6.0   48    Male  \n",
              "1             10.0          1.0   29    Male  \n",
              "2              1.0          2.0   41    Male  \n",
              "3              9.0          3.0   67  Female  \n",
              "4              4.0          3.0   49    Male  "
            ]
          },
          "execution_count": 60,
          "metadata": {},
          "output_type": "execute_result"
        }
      ],
      "source": [
        "df_customers = pd.merge(\n",
        "    df_customer,\n",
        "    df_profile,\n",
        "    how = 'inner',\n",
        "    left_on = 'Customer ID',\n",
        "    right_on = 'customerid'\n",
        ")\n",
        "df_customers.head()"
      ]
    },
    {
      "cell_type": "code",
      "execution_count": 61,
      "id": "e69862b0",
      "metadata": {},
      "outputs": [],
      "source": [
        "df_customers.drop(columns='Customer ID',inplace=True)"
      ]
    },
    {
      "cell_type": "code",
      "execution_count": 62,
      "id": "910ba908",
      "metadata": {},
      "outputs": [
        {
          "data": {
            "text/html": [
              "<div>\n",
              "<style scoped>\n",
              "    .dataframe tbody tr th:only-of-type {\n",
              "        vertical-align: middle;\n",
              "    }\n",
              "\n",
              "    .dataframe tbody tr th {\n",
              "        vertical-align: top;\n",
              "    }\n",
              "\n",
              "    .dataframe thead th {\n",
              "        text-align: right;\n",
              "    }\n",
              "</style>\n",
              "<table border=\"1\" class=\"dataframe\">\n",
              "  <thead>\n",
              "    <tr style=\"text-align: right;\">\n",
              "      <th></th>\n",
              "      <th>customerid</th>\n",
              "      <th>date</th>\n",
              "      <th>campaign_type</th>\n",
              "      <th>clicks</th>\n",
              "      <th>impressions</th>\n",
              "      <th>total</th>\n",
              "      <th>Age</th>\n",
              "      <th>Gender</th>\n",
              "      <th>Location</th>\n",
              "      <th>Review Rating</th>\n",
              "      <th>Subscription Status</th>\n",
              "      <th>Preferred Payment Method</th>\n",
              "      <th>annual_income_($)</th>\n",
              "      <th>profession</th>\n",
              "      <th>work_experience</th>\n",
              "      <th>family_size</th>\n",
              "      <th>age</th>\n",
              "      <th>gender</th>\n",
              "    </tr>\n",
              "  </thead>\n",
              "  <tbody>\n",
              "    <tr>\n",
              "      <th>0</th>\n",
              "      <td>0024e298</td>\n",
              "      <td>2020-02-23</td>\n",
              "      <td>Branding</td>\n",
              "      <td>706</td>\n",
              "      <td>2540.0</td>\n",
              "      <td>540.161336</td>\n",
              "      <td>54.0</td>\n",
              "      <td>Male</td>\n",
              "      <td>Móstoles</td>\n",
              "      <td>3.4</td>\n",
              "      <td>No</td>\n",
              "      <td>PayPal</td>\n",
              "      <td>0.0</td>\n",
              "      <td>Artist</td>\n",
              "      <td>2.0</td>\n",
              "      <td>2.0</td>\n",
              "      <td>54.0</td>\n",
              "      <td>Male</td>\n",
              "    </tr>\n",
              "    <tr>\n",
              "      <th>1</th>\n",
              "      <td>0024e298</td>\n",
              "      <td>2020-03-11</td>\n",
              "      <td>Branding</td>\n",
              "      <td>445</td>\n",
              "      <td>9625.0</td>\n",
              "      <td>4.558853</td>\n",
              "      <td>54.0</td>\n",
              "      <td>Male</td>\n",
              "      <td>Móstoles</td>\n",
              "      <td>3.4</td>\n",
              "      <td>No</td>\n",
              "      <td>PayPal</td>\n",
              "      <td>0.0</td>\n",
              "      <td>Artist</td>\n",
              "      <td>2.0</td>\n",
              "      <td>2.0</td>\n",
              "      <td>54.0</td>\n",
              "      <td>Male</td>\n",
              "    </tr>\n",
              "    <tr>\n",
              "      <th>2</th>\n",
              "      <td>0024e298</td>\n",
              "      <td>2020-05-04</td>\n",
              "      <td>Branding</td>\n",
              "      <td>752</td>\n",
              "      <td>12301.0</td>\n",
              "      <td>34.625174</td>\n",
              "      <td>54.0</td>\n",
              "      <td>Male</td>\n",
              "      <td>Móstoles</td>\n",
              "      <td>3.4</td>\n",
              "      <td>No</td>\n",
              "      <td>PayPal</td>\n",
              "      <td>0.0</td>\n",
              "      <td>Artist</td>\n",
              "      <td>2.0</td>\n",
              "      <td>2.0</td>\n",
              "      <td>54.0</td>\n",
              "      <td>Male</td>\n",
              "    </tr>\n",
              "    <tr>\n",
              "      <th>3</th>\n",
              "      <td>0024e298</td>\n",
              "      <td>2020-06-17</td>\n",
              "      <td>performance</td>\n",
              "      <td>465</td>\n",
              "      <td>5974.0</td>\n",
              "      <td>197.719824</td>\n",
              "      <td>54.0</td>\n",
              "      <td>Male</td>\n",
              "      <td>Móstoles</td>\n",
              "      <td>3.4</td>\n",
              "      <td>No</td>\n",
              "      <td>PayPal</td>\n",
              "      <td>0.0</td>\n",
              "      <td>Artist</td>\n",
              "      <td>2.0</td>\n",
              "      <td>2.0</td>\n",
              "      <td>54.0</td>\n",
              "      <td>Male</td>\n",
              "    </tr>\n",
              "    <tr>\n",
              "      <th>4</th>\n",
              "      <td>0024e298</td>\n",
              "      <td>2020-08-11</td>\n",
              "      <td>Branding</td>\n",
              "      <td>1082</td>\n",
              "      <td>24301.0</td>\n",
              "      <td>143.131583</td>\n",
              "      <td>54.0</td>\n",
              "      <td>Male</td>\n",
              "      <td>Móstoles</td>\n",
              "      <td>3.4</td>\n",
              "      <td>No</td>\n",
              "      <td>PayPal</td>\n",
              "      <td>0.0</td>\n",
              "      <td>Artist</td>\n",
              "      <td>2.0</td>\n",
              "      <td>2.0</td>\n",
              "      <td>54.0</td>\n",
              "      <td>Male</td>\n",
              "    </tr>\n",
              "  </tbody>\n",
              "</table>\n",
              "</div>"
            ],
            "text/plain": [
              "  customerid       date campaign_type  clicks  impressions       total   Age  \\\n",
              "0   0024e298 2020-02-23      Branding     706       2540.0  540.161336  54.0   \n",
              "1   0024e298 2020-03-11      Branding     445       9625.0    4.558853  54.0   \n",
              "2   0024e298 2020-05-04      Branding     752      12301.0   34.625174  54.0   \n",
              "3   0024e298 2020-06-17   performance     465       5974.0  197.719824  54.0   \n",
              "4   0024e298 2020-08-11      Branding    1082      24301.0  143.131583  54.0   \n",
              "\n",
              "  Gender  Location  Review Rating Subscription Status  \\\n",
              "0   Male  Móstoles            3.4                  No   \n",
              "1   Male  Móstoles            3.4                  No   \n",
              "2   Male  Móstoles            3.4                  No   \n",
              "3   Male  Móstoles            3.4                  No   \n",
              "4   Male  Móstoles            3.4                  No   \n",
              "\n",
              "  Preferred Payment Method  annual_income_($) profession  work_experience  \\\n",
              "0                   PayPal                0.0     Artist              2.0   \n",
              "1                   PayPal                0.0     Artist              2.0   \n",
              "2                   PayPal                0.0     Artist              2.0   \n",
              "3                   PayPal                0.0     Artist              2.0   \n",
              "4                   PayPal                0.0     Artist              2.0   \n",
              "\n",
              "   family_size   age gender  \n",
              "0          2.0  54.0   Male  \n",
              "1          2.0  54.0   Male  \n",
              "2          2.0  54.0   Male  \n",
              "3          2.0  54.0   Male  \n",
              "4          2.0  54.0   Male  "
            ]
          },
          "execution_count": 62,
          "metadata": {},
          "output_type": "execute_result"
        }
      ],
      "source": [
        "df = pd.merge(\n",
        "    df,\n",
        "    df_customers,\n",
        "    how = 'left',\n",
        "    on = 'customerid'\n",
        ")\n",
        "df.head()"
      ]
    },
    {
      "cell_type": "code",
      "execution_count": 72,
      "id": "b2ac07ef",
      "metadata": {},
      "outputs": [],
      "source": [
        "df.drop(columns=['Age','Gender'],inplace=True)\n",
        "df.rename(columns={\n",
        "    'Location':'location',\n",
        "    'Review Rating':'review_ratin',\n",
        "    'Subscription Status':'subscription_status',\n",
        "    'Preferred Payment Method':'payment',\n",
        "    'annual_income_($)':'annual_income'\n",
        "},inplace=True)"
      ]
    },
    {
      "cell_type": "code",
      "execution_count": 70,
      "id": "3b465a02",
      "metadata": {},
      "outputs": [
        {
          "data": {
            "text/plain": [
              "<Axes: ylabel='profession'>"
            ]
          },
          "execution_count": 70,
          "metadata": {},
          "output_type": "execute_result"
        },
        {
          "data": {
            "image/png": "[encoded data removed]",
            "text/plain": [
              "<Figure size 640x480 with 2 Axes>"
            ]
          },
          "metadata": {},
          "output_type": "display_data"
        }
      ],
      "source": [
        "corr = group_corr(\n",
        "    df,\n",
        "    'profession',\n",
        "    df.select_dtypes('number').columns,\n",
        "    'total'\n",
        ")\n",
        "sns.heatmap(\n",
        "    data = corr,\n",
        "    annot = True,\n",
        "    linewidths = 0.5,\n",
        "    cmap = cmap,\n",
        "    center = 0,\n",
        "    fmt = '.2f'\n",
        ")"
      ]
    },
    {
      "cell_type": "code",
      "execution_count": null,
      "id": "c07f2eac",
      "metadata": {},
      "outputs": [],
      "source": [
        "pd.pivot_table"
      ]
    }
  ],
  "metadata": {
    "colab": {
      "provenance": []
    },
    "kernelspec": {
      "display_name": "Python 3",
      "name": "python3"
    },
    "language_info": {
      "codemirror_mode": {
        "name": "ipython",
        "version": 3
      },
      "file_extension": ".py",
      "mimetype": "text/x-python",
      "name": "python",
      "nbconvert_exporter": "python",
      "pygments_lexer": "ipython3",
      "version": "3.11.7"
    }
  },
  "nbformat": 4,
  "nbformat_minor": 5
}

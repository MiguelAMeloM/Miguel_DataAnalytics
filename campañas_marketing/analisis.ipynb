{
  "cells": [
    {
      "cell_type": "markdown",
      "id": "03c1ce2c",
      "metadata": {},
      "source": [
        "# Limpieza de datos, transformación e integración \n",
        "# Campañas de Marketing"
      ]
    },
    {
      "cell_type": "code",
      "execution_count": 1,
      "id": "8493322e",
      "metadata": {},
      "outputs": [],
      "source": [
        "import sys\n",
        "sys.path.append('..//utils')"
      ]
    },
    {
      "cell_type": "code",
      "execution_count": 2,
      "id": "2a77d900",
      "metadata": {},
      "outputs": [],
      "source": [
        "import pandas as pd\n",
        "import matplotlib.pyplot as plt\n",
        "import seaborn as sns\n",
        "from MiguelTK import *\n",
        "import warnings\n",
        "warnings.filterwarnings('ignore')"
      ]
    },
    {
      "cell_type": "markdown",
      "id": "d9defaf8",
      "metadata": {},
      "source": [
        "## Carga de datos"
      ]
    },
    {
      "cell_type": "markdown",
      "id": "e25470a1",
      "metadata": {},
      "source": [
        "### Datos de Marketing"
      ]
    },
    {
      "cell_type": "code",
      "execution_count": 3,
      "id": "a5c2ae8e",
      "metadata": {},
      "outputs": [
        {
          "name": "stdout",
          "output_type": "stream",
          "text": [
            "<class 'pandas.core.frame.DataFrame'>\n",
            "RangeIndex: 39955 entries, 0 to 39954\n",
            "Data columns (total 13 columns):\n",
            " #   Column               Non-Null Count  Dtype  \n",
            "---  ------               --------------  -----  \n",
            " 0   Fecha de Extracción  39955 non-null  object \n",
            " 1   customerid           39955 non-null  object \n",
            " 2   company              39955 non-null  object \n",
            " 3   campaign_type        39955 non-null  object \n",
            " 4   channel_used         39955 non-null  object \n",
            " 5   acquisition_cost     39955 non-null  object \n",
            " 6   location             39955 non-null  object \n",
            " 7   clicks               39955 non-null  int64  \n",
            " 8   impressions          39955 non-null  int64  \n",
            " 9   engagement_score     29009 non-null  float64\n",
            " 10  start_date           39955 non-null  object \n",
            " 11  end_date             39955 non-null  object \n",
            " 12  unknown              39955 non-null  object \n",
            "dtypes: float64(1), int64(2), object(10)\n",
            "memory usage: 4.0+ MB\n"
          ]
        }
      ],
      "source": [
        "df_branding = pd.read_csv('data/marketing_branding.csv')\n",
        "df_branding.info()"
      ]
    },
    {
      "cell_type": "code",
      "execution_count": 4,
      "id": "b45f7158",
      "metadata": {},
      "outputs": [
        {
          "name": "stdout",
          "output_type": "stream",
          "text": [
            "<class 'pandas.core.frame.DataFrame'>\n",
            "RangeIndex: 31780 entries, 0 to 31779\n",
            "Data columns (total 14 columns):\n",
            " #   Column            Non-Null Count  Dtype  \n",
            "---  ------            --------------  -----  \n",
            " 0   customerid        31780 non-null  object \n",
            " 1   company           31780 non-null  object \n",
            " 2   campaign_type     31780 non-null  object \n",
            " 3   target_audience   31780 non-null  object \n",
            " 4   duration          31780 non-null  object \n",
            " 5   channel_used      31780 non-null  object \n",
            " 6   conversion_rate   31780 non-null  float64\n",
            " 7   acquisition_cost  31780 non-null  int64  \n",
            " 8   location          31780 non-null  object \n",
            " 9   clicks            31780 non-null  int64  \n",
            " 10  impressions       31780 non-null  int64  \n",
            " 11  engagement_score  31780 non-null  float64\n",
            " 12  customer_segment  31780 non-null  object \n",
            " 13  date              31780 non-null  object \n",
            "dtypes: float64(2), int64(3), object(9)\n",
            "memory usage: 3.4+ MB\n"
          ]
        }
      ],
      "source": [
        "df_perfomance = pd.read_csv('data/marketing_perfomance.csv')\n",
        "df_perfomance.info()"
      ]
    },
    {
      "cell_type": "code",
      "execution_count": 5,
      "id": "23faad07",
      "metadata": {},
      "outputs": [
        {
          "name": "stdout",
          "output_type": "stream",
          "text": [
            "<class 'pandas.core.frame.DataFrame'>\n",
            "RangeIndex: 32077 entries, 0 to 32076\n",
            "Data columns (total 14 columns):\n",
            " #   Column            Non-Null Count  Dtype  \n",
            "---  ------            --------------  -----  \n",
            " 0   customerid        32077 non-null  object \n",
            " 1   company           32077 non-null  object \n",
            " 2   campaign_type     31964 non-null  object \n",
            " 3   target_audience   31964 non-null  object \n",
            " 4   duration          32077 non-null  object \n",
            " 5   channel_used      32077 non-null  object \n",
            " 6   conversion_rate   32077 non-null  float64\n",
            " 7   acquisition_cost  32077 non-null  int64  \n",
            " 8   location          32077 non-null  object \n",
            " 9   clicks            32077 non-null  int64  \n",
            " 10  impressions       32077 non-null  int64  \n",
            " 11  engagement_score  32077 non-null  float64\n",
            " 12  customer_segment  31964 non-null  object \n",
            " 13  date              32077 non-null  object \n",
            "dtypes: float64(2), int64(3), object(9)\n",
            "memory usage: 3.4+ MB\n"
          ]
        }
      ],
      "source": [
        "df_sostenibilidad = pd.read_csv('data/marketing_sostenibilidad.csv')\n",
        "df_sostenibilidad.info()"
      ]
    },
    {
      "cell_type": "code",
      "execution_count": 6,
      "id": "7e6b27ad",
      "metadata": {},
      "outputs": [],
      "source": [
        "df_marketing = pd.concat([\n",
        "    df_perfomance,\n",
        "    df_branding,\n",
        "    df_sostenibilidad\n",
        "],ignore_index=True)"
      ]
    },
    {
      "cell_type": "code",
      "execution_count": 7,
      "id": "263f8317",
      "metadata": {},
      "outputs": [],
      "source": [
        "del df_perfomance,df_branding,df_sostenibilidad"
      ]
    },
    {
      "cell_type": "code",
      "execution_count": 8,
      "id": "0c6d8490",
      "metadata": {},
      "outputs": [
        {
          "data": {
            "text/html": [
              "<div>\n",
              "<style scoped>\n",
              "    .dataframe tbody tr th:only-of-type {\n",
              "        vertical-align: middle;\n",
              "    }\n",
              "\n",
              "    .dataframe tbody tr th {\n",
              "        vertical-align: top;\n",
              "    }\n",
              "\n",
              "    .dataframe thead th {\n",
              "        text-align: right;\n",
              "    }\n",
              "</style>\n",
              "<table border=\"1\" class=\"dataframe\">\n",
              "  <thead>\n",
              "    <tr style=\"text-align: right;\">\n",
              "      <th></th>\n",
              "      <th>customerid</th>\n",
              "      <th>company</th>\n",
              "      <th>campaign_type</th>\n",
              "      <th>target_audience</th>\n",
              "      <th>duration</th>\n",
              "      <th>channel_used</th>\n",
              "      <th>conversion_rate</th>\n",
              "      <th>acquisition_cost</th>\n",
              "      <th>location</th>\n",
              "      <th>clicks</th>\n",
              "      <th>impressions</th>\n",
              "      <th>engagement_score</th>\n",
              "      <th>customer_segment</th>\n",
              "      <th>date</th>\n",
              "      <th>Fecha de Extracción</th>\n",
              "      <th>start_date</th>\n",
              "      <th>end_date</th>\n",
              "      <th>unknown</th>\n",
              "    </tr>\n",
              "  </thead>\n",
              "  <tbody>\n",
              "    <tr>\n",
              "      <th>0</th>\n",
              "      <td>12e0dd8d</td>\n",
              "      <td>retail store</td>\n",
              "      <td>performance</td>\n",
              "      <td>women 35-44</td>\n",
              "      <td>7 days</td>\n",
              "      <td>google ads</td>\n",
              "      <td>0.04</td>\n",
              "      <td>16174</td>\n",
              "      <td>comunidad de madrid</td>\n",
              "      <td>506</td>\n",
              "      <td>1922</td>\n",
              "      <td>6.000000</td>\n",
              "      <td>fashionistas</td>\n",
              "      <td>2020-01-01</td>\n",
              "      <td>NaN</td>\n",
              "      <td>NaN</td>\n",
              "      <td>NaN</td>\n",
              "      <td>NaN</td>\n",
              "    </tr>\n",
              "    <tr>\n",
              "      <th>1</th>\n",
              "      <td>b1333e0f</td>\n",
              "      <td>retail store</td>\n",
              "      <td>performance</td>\n",
              "      <td>men 25-34</td>\n",
              "      <td>30 days</td>\n",
              "      <td>facebook</td>\n",
              "      <td>0.04</td>\n",
              "      <td>17608</td>\n",
              "      <td>comunidad de madrid</td>\n",
              "      <td>764</td>\n",
              "      <td>2157</td>\n",
              "      <td>8.000000</td>\n",
              "      <td>fashionistas</td>\n",
              "      <td>2020-01-05</td>\n",
              "      <td>NaN</td>\n",
              "      <td>NaN</td>\n",
              "      <td>NaN</td>\n",
              "      <td>NaN</td>\n",
              "    </tr>\n",
              "    <tr>\n",
              "      <th>2</th>\n",
              "      <td>d6be7e37</td>\n",
              "      <td>retail store</td>\n",
              "      <td>performance</td>\n",
              "      <td>non_define</td>\n",
              "      <td>2 days</td>\n",
              "      <td>e-mail</td>\n",
              "      <td>0.06</td>\n",
              "      <td>17305</td>\n",
              "      <td>comunidad de madrid</td>\n",
              "      <td>569</td>\n",
              "      <td>1850</td>\n",
              "      <td>5.487703</td>\n",
              "      <td>fashionistas</td>\n",
              "      <td>2020-01-13</td>\n",
              "      <td>NaN</td>\n",
              "      <td>NaN</td>\n",
              "      <td>NaN</td>\n",
              "      <td>NaN</td>\n",
              "    </tr>\n",
              "    <tr>\n",
              "      <th>3</th>\n",
              "      <td>0fb8482e</td>\n",
              "      <td>retail store</td>\n",
              "      <td>performance</td>\n",
              "      <td>women 25-34</td>\n",
              "      <td>5 days</td>\n",
              "      <td>facebook</td>\n",
              "      <td>0.10</td>\n",
              "      <td>1741400</td>\n",
              "      <td>comunidad de madrid</td>\n",
              "      <td>694</td>\n",
              "      <td>2836</td>\n",
              "      <td>2.000000</td>\n",
              "      <td>health &amp; wellness</td>\n",
              "      <td>2020-01-16</td>\n",
              "      <td>NaN</td>\n",
              "      <td>NaN</td>\n",
              "      <td>NaN</td>\n",
              "      <td>NaN</td>\n",
              "    </tr>\n",
              "    <tr>\n",
              "      <th>4</th>\n",
              "      <td>b1333e0f</td>\n",
              "      <td>retail store</td>\n",
              "      <td>performance</td>\n",
              "      <td>men 18-24</td>\n",
              "      <td>30 days</td>\n",
              "      <td>instagram</td>\n",
              "      <td>0.14</td>\n",
              "      <td>18799</td>\n",
              "      <td>comunidad de madrid</td>\n",
              "      <td>395</td>\n",
              "      <td>6079</td>\n",
              "      <td>8.000000</td>\n",
              "      <td>foodies</td>\n",
              "      <td>2020-01-23</td>\n",
              "      <td>NaN</td>\n",
              "      <td>NaN</td>\n",
              "      <td>NaN</td>\n",
              "      <td>NaN</td>\n",
              "    </tr>\n",
              "    <tr>\n",
              "      <th>...</th>\n",
              "      <td>...</td>\n",
              "      <td>...</td>\n",
              "      <td>...</td>\n",
              "      <td>...</td>\n",
              "      <td>...</td>\n",
              "      <td>...</td>\n",
              "      <td>...</td>\n",
              "      <td>...</td>\n",
              "      <td>...</td>\n",
              "      <td>...</td>\n",
              "      <td>...</td>\n",
              "      <td>...</td>\n",
              "      <td>...</td>\n",
              "      <td>...</td>\n",
              "      <td>...</td>\n",
              "      <td>...</td>\n",
              "      <td>...</td>\n",
              "      <td>...</td>\n",
              "    </tr>\n",
              "    <tr>\n",
              "      <th>103807</th>\n",
              "      <td>5a39a8aa</td>\n",
              "      <td>retail store</td>\n",
              "      <td>NaN</td>\n",
              "      <td>NaN</td>\n",
              "      <td>7 days</td>\n",
              "      <td>instagram</td>\n",
              "      <td>0.05</td>\n",
              "      <td>17917</td>\n",
              "      <td>principado de asturias</td>\n",
              "      <td>848</td>\n",
              "      <td>3629</td>\n",
              "      <td>5.491013</td>\n",
              "      <td>NaN</td>\n",
              "      <td>2023-07-15</td>\n",
              "      <td>NaN</td>\n",
              "      <td>NaN</td>\n",
              "      <td>NaN</td>\n",
              "      <td>NaN</td>\n",
              "    </tr>\n",
              "    <tr>\n",
              "      <th>103808</th>\n",
              "      <td>f45b5a9f</td>\n",
              "      <td>retail store</td>\n",
              "      <td>NaN</td>\n",
              "      <td>NaN</td>\n",
              "      <td>30 days</td>\n",
              "      <td>web</td>\n",
              "      <td>0.01</td>\n",
              "      <td>17476</td>\n",
              "      <td>principado de asturias</td>\n",
              "      <td>312</td>\n",
              "      <td>8342</td>\n",
              "      <td>9.000000</td>\n",
              "      <td>NaN</td>\n",
              "      <td>2023-07-17</td>\n",
              "      <td>NaN</td>\n",
              "      <td>NaN</td>\n",
              "      <td>NaN</td>\n",
              "      <td>NaN</td>\n",
              "    </tr>\n",
              "    <tr>\n",
              "      <th>103809</th>\n",
              "      <td>2ebf5ba8</td>\n",
              "      <td>retail store</td>\n",
              "      <td>NaN</td>\n",
              "      <td>NaN</td>\n",
              "      <td>30 days</td>\n",
              "      <td>youtube</td>\n",
              "      <td>0.03</td>\n",
              "      <td>6278</td>\n",
              "      <td>principado de asturias</td>\n",
              "      <td>116</td>\n",
              "      <td>4758</td>\n",
              "      <td>4.000000</td>\n",
              "      <td>NaN</td>\n",
              "      <td>2023-07-19</td>\n",
              "      <td>NaN</td>\n",
              "      <td>NaN</td>\n",
              "      <td>NaN</td>\n",
              "      <td>NaN</td>\n",
              "    </tr>\n",
              "    <tr>\n",
              "      <th>103810</th>\n",
              "      <td>97f5ee93</td>\n",
              "      <td>retail store</td>\n",
              "      <td>NaN</td>\n",
              "      <td>NaN</td>\n",
              "      <td>7 days</td>\n",
              "      <td>instagram</td>\n",
              "      <td>0.04</td>\n",
              "      <td>11875</td>\n",
              "      <td>principado de asturias</td>\n",
              "      <td>280</td>\n",
              "      <td>7313</td>\n",
              "      <td>10.000000</td>\n",
              "      <td>NaN</td>\n",
              "      <td>2023-08-02</td>\n",
              "      <td>NaN</td>\n",
              "      <td>NaN</td>\n",
              "      <td>NaN</td>\n",
              "      <td>NaN</td>\n",
              "    </tr>\n",
              "    <tr>\n",
              "      <th>103811</th>\n",
              "      <td>f3f42ff0</td>\n",
              "      <td>retail store</td>\n",
              "      <td>NaN</td>\n",
              "      <td>NaN</td>\n",
              "      <td>7 days</td>\n",
              "      <td>website</td>\n",
              "      <td>0.13</td>\n",
              "      <td>5665</td>\n",
              "      <td>principado de asturias</td>\n",
              "      <td>460</td>\n",
              "      <td>2397</td>\n",
              "      <td>7.000000</td>\n",
              "      <td>NaN</td>\n",
              "      <td>2023-08-09</td>\n",
              "      <td>NaN</td>\n",
              "      <td>NaN</td>\n",
              "      <td>NaN</td>\n",
              "      <td>NaN</td>\n",
              "    </tr>\n",
              "  </tbody>\n",
              "</table>\n",
              "<p>103812 rows × 18 columns</p>\n",
              "</div>"
            ],
            "text/plain": [
              "       customerid       company campaign_type target_audience duration  \\\n",
              "0        12e0dd8d  retail store   performance     women 35-44   7 days   \n",
              "1        b1333e0f  retail store   performance       men 25-34  30 days   \n",
              "2        d6be7e37  retail store   performance      non_define   2 days   \n",
              "3        0fb8482e  retail store   performance     women 25-34   5 days   \n",
              "4        b1333e0f  retail store   performance       men 18-24  30 days   \n",
              "...           ...           ...           ...             ...      ...   \n",
              "103807   5a39a8aa  retail store           NaN             NaN   7 days   \n",
              "103808   f45b5a9f  retail store           NaN             NaN  30 days   \n",
              "103809   2ebf5ba8  retail store           NaN             NaN  30 days   \n",
              "103810   97f5ee93  retail store           NaN             NaN   7 days   \n",
              "103811   f3f42ff0  retail store           NaN             NaN   7 days   \n",
              "\n",
              "       channel_used  conversion_rate acquisition_cost                location  \\\n",
              "0        google ads             0.04            16174     comunidad de madrid   \n",
              "1          facebook             0.04            17608     comunidad de madrid   \n",
              "2            e-mail             0.06            17305     comunidad de madrid   \n",
              "3          facebook             0.10          1741400     comunidad de madrid   \n",
              "4         instagram             0.14            18799     comunidad de madrid   \n",
              "...             ...              ...              ...                     ...   \n",
              "103807    instagram             0.05            17917  principado de asturias   \n",
              "103808          web             0.01            17476  principado de asturias   \n",
              "103809      youtube             0.03             6278  principado de asturias   \n",
              "103810    instagram             0.04            11875  principado de asturias   \n",
              "103811      website             0.13             5665  principado de asturias   \n",
              "\n",
              "        clicks  impressions  engagement_score   customer_segment        date  \\\n",
              "0          506         1922          6.000000       fashionistas  2020-01-01   \n",
              "1          764         2157          8.000000       fashionistas  2020-01-05   \n",
              "2          569         1850          5.487703       fashionistas  2020-01-13   \n",
              "3          694         2836          2.000000  health & wellness  2020-01-16   \n",
              "4          395         6079          8.000000            foodies  2020-01-23   \n",
              "...        ...          ...               ...                ...         ...   \n",
              "103807     848         3629          5.491013                NaN  2023-07-15   \n",
              "103808     312         8342          9.000000                NaN  2023-07-17   \n",
              "103809     116         4758          4.000000                NaN  2023-07-19   \n",
              "103810     280         7313         10.000000                NaN  2023-08-02   \n",
              "103811     460         2397          7.000000                NaN  2023-08-09   \n",
              "\n",
              "       Fecha de Extracción start_date end_date unknown  \n",
              "0                      NaN        NaN      NaN     NaN  \n",
              "1                      NaN        NaN      NaN     NaN  \n",
              "2                      NaN        NaN      NaN     NaN  \n",
              "3                      NaN        NaN      NaN     NaN  \n",
              "4                      NaN        NaN      NaN     NaN  \n",
              "...                    ...        ...      ...     ...  \n",
              "103807                 NaN        NaN      NaN     NaN  \n",
              "103808                 NaN        NaN      NaN     NaN  \n",
              "103809                 NaN        NaN      NaN     NaN  \n",
              "103810                 NaN        NaN      NaN     NaN  \n",
              "103811                 NaN        NaN      NaN     NaN  \n",
              "\n",
              "[103812 rows x 18 columns]"
            ]
          },
          "execution_count": 8,
          "metadata": {},
          "output_type": "execute_result"
        }
      ],
      "source": [
        "df_marketing"
      ]
    },
    {
      "cell_type": "markdown",
      "id": "6848e7f5",
      "metadata": {},
      "source": [
        "#### Limpieza de los datos"
      ]
    },
    {
      "cell_type": "code",
      "execution_count": 9,
      "id": "eb00fa7c",
      "metadata": {},
      "outputs": [],
      "source": [
        "(\n",
        "    df_marketing\n",
        "    .drop(columns=['company','Fecha de Extracción','end_date'],inplace=True)\n",
        ")"
      ]
    },
    {
      "cell_type": "code",
      "execution_count": 10,
      "id": "85aaacbb",
      "metadata": {},
      "outputs": [],
      "source": [
        "df_marketing['campaign_type'] = pd.Categorical(\n",
        "    df_marketing['campaign_type']\n",
        "    .fillna('sin_categoria')\n",
        ")"
      ]
    },
    {
      "cell_type": "code",
      "execution_count": 11,
      "id": "2957d89e",
      "metadata": {},
      "outputs": [
        {
          "data": {
            "text/plain": [
              "genero\n",
              "WOMEN              43978\n",
              "MEN                31670\n",
              "no_especificado    28164\n",
              "Name: count, dtype: int64"
            ]
          },
          "execution_count": 11,
          "metadata": {},
          "output_type": "execute_result"
        }
      ],
      "source": [
        "gen1 = df_marketing['target_audience'].str.upper().str.extract(r'(WOMEN|MEN)',expand=False)\n",
        "df_marketing['genero'] = (\n",
        "    df_marketing\n",
        "    ['unknown']\n",
        "    .str\n",
        "    .upper()\n",
        "    .str\n",
        "    .extract(r'(WOMEN|MEN)',expand=False)\n",
        "    .fillna(gen1)\n",
        "    .fillna('no_especificado')\n",
        "    .astype('category')\n",
        ")\n",
        "df_marketing['genero'].value_counts()"
      ]
    },
    {
      "cell_type": "code",
      "execution_count": 12,
      "id": "30901252",
      "metadata": {},
      "outputs": [],
      "source": [
        "del gen1"
      ]
    },
    {
      "cell_type": "code",
      "execution_count": 13,
      "id": "8fab09e7",
      "metadata": {},
      "outputs": [
        {
          "data": {
            "text/plain": [
              "807                                NaN\n",
              "60250               Men 18-24, Foodies\n",
              "71315             Mujer 35-44, Foodies\n",
              "77618                              NaN\n",
              "52965             Women 25-34, Foodies\n",
              "10882                              NaN\n",
              "6728                               NaN\n",
              "100060                             NaN\n",
              "93434                              NaN\n",
              "14814                              NaN\n",
              "96518                              NaN\n",
              "101438                             NaN\n",
              "53114     Men 25-34, Health & Wellness\n",
              "85371                              NaN\n",
              "99020                              NaN\n",
              "51049        Women 25-34, Fashionistas\n",
              "61113      Men 18-244, Tech Enthusiats\n",
              "16442                              NaN\n",
              "102372                             NaN\n",
              "74270                              NaN\n",
              "Name: unknown, dtype: object"
            ]
          },
          "execution_count": 13,
          "metadata": {},
          "output_type": "execute_result"
        }
      ],
      "source": [
        "df_marketing['unknown'].sample(20)"
      ]
    },
    {
      "cell_type": "code",
      "execution_count": 14,
      "id": "50c201a8",
      "metadata": {},
      "outputs": [],
      "source": [
        "edad = df_marketing['target_audience'].str.extract(r'(\\d*\\-\\d*)',expand=False)\n",
        "df_marketing['edad'] = (\n",
        "    df_marketing\n",
        "    ['unknown']\n",
        "    .str\n",
        "    .extract(r'(\\d*\\-\\d*)',expand=False)\n",
        "    .fillna(edad)\n",
        "    .fillna('no_especificado')\n",
        "    .str\n",
        "    .replace('18-244','18-24')\n",
        "    .str\n",
        "    .replace(r'^25-$', '25-34',regex=True)\n",
        "    .astype('category')\n",
        ")"
      ]
    },
    {
      "cell_type": "code",
      "execution_count": 15,
      "id": "d11b7983",
      "metadata": {},
      "outputs": [
        {
          "data": {
            "text/plain": [
              "edad\n",
              "25-34              41496\n",
              "18-24              21040\n",
              "35-44              20713\n",
              "no_especificado    20563\n",
              "Name: count, dtype: int64"
            ]
          },
          "execution_count": 15,
          "metadata": {},
          "output_type": "execute_result"
        }
      ],
      "source": [
        "del edad\n",
        "df_marketing['edad'].value_counts()"
      ]
    },
    {
      "cell_type": "code",
      "execution_count": 16,
      "id": "7860b9a5",
      "metadata": {},
      "outputs": [
        {
          "data": {
            "text/plain": [
              "0          7.0\n",
              "1         30.0\n",
              "2          2.0\n",
              "3          5.0\n",
              "4         30.0\n",
              "          ... \n",
              "103807     7.0\n",
              "103808    30.0\n",
              "103809    30.0\n",
              "103810     7.0\n",
              "103811     7.0\n",
              "Name: duration, Length: 103812, dtype: float64"
            ]
          },
          "execution_count": 16,
          "metadata": {},
          "output_type": "execute_result"
        }
      ],
      "source": [
        "df_marketing['duration'] = df_marketing['duration'].str.extract(r'(\\d+)').astype(float)\n",
        "df_marketing['duration']"
      ]
    },
    {
      "cell_type": "code",
      "execution_count": 17,
      "id": "f887d92f",
      "metadata": {},
      "outputs": [],
      "source": [
        "df_marketing['channel_used'] = (\n",
        "    df_marketing\n",
        "    ['channel_used']\n",
        "    .str.upper()\n",
        "    .str.replace('GOGLE ADS','GOOGLE ADS')\n",
        "    .str.replace('EMAIL','E-MAIL')\n",
        "    .str.replace('WEBSITE','WEB')\n",
        "    .str.replace(' YOUTUBE ','YOUTUBE')\n",
        "    .str.replace('FACEBOOK ','FACEBOOK')\n",
        "    .astype('category')\n",
        ")"
      ]
    },
    {
      "cell_type": "code",
      "execution_count": 18,
      "id": "bc29b2f1",
      "metadata": {},
      "outputs": [
        {
          "data": {
            "text/plain": [
              "channel_used\n",
              "E-MAIL        17432\n",
              "WEB           17411\n",
              "INSTAGRAM     17334\n",
              "YOUTUBE       17306\n",
              "GOOGLE ADS    17208\n",
              "FACEBOOK      17121\n",
              "Name: count, dtype: int64"
            ]
          },
          "execution_count": 18,
          "metadata": {},
          "output_type": "execute_result"
        }
      ],
      "source": [
        "df_marketing['channel_used'].value_counts()"
      ]
    },
    {
      "cell_type": "code",
      "execution_count": 19,
      "id": "e39b52e6",
      "metadata": {},
      "outputs": [],
      "source": [
        "df_marketing['customer_segment'] = (\n",
        "    df_marketing\n",
        "    ['customer_segment']\n",
        "    .fillna(df_marketing['unknown'].str.extract(r'\\,\\s([\\w\\s\\&]+)',expand=False))\n",
        "    .str.upper()\n",
        "    .str.lstrip()\n",
        "    .fillna('sin_segmento')\n",
        "    .astype('category')    \n",
        ")"
      ]
    },
    {
      "cell_type": "code",
      "execution_count": 20,
      "id": "fe87d21a",
      "metadata": {},
      "outputs": [
        {
          "data": {
            "text/plain": [
              "customer_segment\n",
              "FOODIES                18507\n",
              "HEALTH & WELLNESS      17961\n",
              "OUTDOOR ADVENTURERS    17866\n",
              "TECH ENTHUSIASTS       17779\n",
              "FASHIONISTAS           17676\n",
              "FODIES                  2832\n",
              "ADVENTUERERS            2811\n",
              "HEALT & WELNES          2779\n",
              "TECH ENTHUSIATS         2770\n",
              "FASHONISTAS             2718\n",
              "sin_segmento             113\n",
              "Name: count, dtype: int64"
            ]
          },
          "execution_count": 20,
          "metadata": {},
          "output_type": "execute_result"
        }
      ],
      "source": [
        "df_marketing['customer_segment'].value_counts()"
      ]
    },
    {
      "cell_type": "code",
      "execution_count": 21,
      "id": "d48ee93a",
      "metadata": {},
      "outputs": [],
      "source": [
        "df_marketing['acquisition_cost'] = df_marketing['acquisition_cost'].replace(r'[€\\,\\s]','',regex=True).astype(float)"
      ]
    },
    {
      "cell_type": "code",
      "execution_count": 22,
      "id": "89da0cda",
      "metadata": {},
      "outputs": [],
      "source": [
        "df_marketing['location'] = (\n",
        "    df_marketing\n",
        "    ['location']\n",
        "    .str.lstrip()\n",
        "    .str.rstrip()\n",
        "    .str.upper()\n",
        "    .astype('category')\n",
        ")"
      ]
    },
    {
      "cell_type": "code",
      "execution_count": 23,
      "id": "da1efca1",
      "metadata": {},
      "outputs": [
        {
          "data": {
            "text/plain": [
              "location\n",
              "CATALUÑA                  26027\n",
              "PRINCIPADO DE ASTURIAS    26021\n",
              "COMUNIDAD VALENCIANA      25975\n",
              "COMUNIDAD DE MADRID       25789\n",
              "Name: count, dtype: int64"
            ]
          },
          "execution_count": 23,
          "metadata": {},
          "output_type": "execute_result"
        }
      ],
      "source": [
        "df_marketing['location'].value_counts()"
      ]
    },
    {
      "cell_type": "code",
      "execution_count": 24,
      "id": "6f39d676",
      "metadata": {},
      "outputs": [],
      "source": [
        "df_marketing['date'].fillna(df_marketing['start_date'],inplace=True)"
      ]
    },
    {
      "cell_type": "code",
      "execution_count": 25,
      "id": "527a5d1b",
      "metadata": {},
      "outputs": [],
      "source": [
        "df_marketing.drop(columns=['target_audience','unknown','start_date'],inplace=True)"
      ]
    },
    {
      "cell_type": "code",
      "execution_count": 26,
      "id": "dddddfc2",
      "metadata": {},
      "outputs": [
        {
          "data": {
            "text/html": [
              "<div>\n",
              "<style scoped>\n",
              "    .dataframe tbody tr th:only-of-type {\n",
              "        vertical-align: middle;\n",
              "    }\n",
              "\n",
              "    .dataframe tbody tr th {\n",
              "        vertical-align: top;\n",
              "    }\n",
              "\n",
              "    .dataframe thead th {\n",
              "        text-align: right;\n",
              "    }\n",
              "</style>\n",
              "<table border=\"1\" class=\"dataframe\">\n",
              "  <thead>\n",
              "    <tr style=\"text-align: right;\">\n",
              "      <th></th>\n",
              "      <th>customerid</th>\n",
              "      <th>campaign_type</th>\n",
              "      <th>duration</th>\n",
              "      <th>channel_used</th>\n",
              "      <th>conversion_rate</th>\n",
              "      <th>acquisition_cost</th>\n",
              "      <th>location</th>\n",
              "      <th>clicks</th>\n",
              "      <th>impressions</th>\n",
              "      <th>engagement_score</th>\n",
              "      <th>customer_segment</th>\n",
              "      <th>date</th>\n",
              "      <th>genero</th>\n",
              "      <th>edad</th>\n",
              "    </tr>\n",
              "  </thead>\n",
              "  <tbody>\n",
              "    <tr>\n",
              "      <th>98039</th>\n",
              "      <td>50cf5aa1</td>\n",
              "      <td>sostenibilidad</td>\n",
              "      <td>15.0</td>\n",
              "      <td>WEB</td>\n",
              "      <td>0.11</td>\n",
              "      <td>17117.0</td>\n",
              "      <td>PRINCIPADO DE ASTURIAS</td>\n",
              "      <td>755</td>\n",
              "      <td>4176</td>\n",
              "      <td>5.491013</td>\n",
              "      <td>OUTDOOR ADVENTURERS</td>\n",
              "      <td>2023-06-08</td>\n",
              "      <td>MEN</td>\n",
              "      <td>25-34</td>\n",
              "    </tr>\n",
              "    <tr>\n",
              "      <th>64975</th>\n",
              "      <td>23fafb45</td>\n",
              "      <td>Branding</td>\n",
              "      <td>NaN</td>\n",
              "      <td>E-MAIL</td>\n",
              "      <td>NaN</td>\n",
              "      <td>19888.0</td>\n",
              "      <td>COMUNIDAD DE MADRID</td>\n",
              "      <td>503</td>\n",
              "      <td>8427</td>\n",
              "      <td>2.000000</td>\n",
              "      <td>FASHIONISTAS</td>\n",
              "      <td>2020-04-25</td>\n",
              "      <td>MEN</td>\n",
              "      <td>18-24</td>\n",
              "    </tr>\n",
              "    <tr>\n",
              "      <th>22019</th>\n",
              "      <td>e2935894</td>\n",
              "      <td>performance</td>\n",
              "      <td>10.0</td>\n",
              "      <td>INSTAGRAM</td>\n",
              "      <td>0.11</td>\n",
              "      <td>11154.0</td>\n",
              "      <td>COMUNIDAD VALENCIANA</td>\n",
              "      <td>946</td>\n",
              "      <td>2219</td>\n",
              "      <td>7.000000</td>\n",
              "      <td>TECH ENTHUSIASTS</td>\n",
              "      <td>2022-04-02</td>\n",
              "      <td>MEN</td>\n",
              "      <td>18-24</td>\n",
              "    </tr>\n",
              "    <tr>\n",
              "      <th>35292</th>\n",
              "      <td>3dbb7697</td>\n",
              "      <td>Branding</td>\n",
              "      <td>NaN</td>\n",
              "      <td>INSTAGRAM</td>\n",
              "      <td>NaN</td>\n",
              "      <td>10638.0</td>\n",
              "      <td>COMUNIDAD DE MADRID</td>\n",
              "      <td>249</td>\n",
              "      <td>6965</td>\n",
              "      <td>NaN</td>\n",
              "      <td>HEALT &amp; WELNES</td>\n",
              "      <td>2020-09-22</td>\n",
              "      <td>WOMEN</td>\n",
              "      <td>25-34</td>\n",
              "    </tr>\n",
              "    <tr>\n",
              "      <th>55268</th>\n",
              "      <td>83391637</td>\n",
              "      <td>Branding</td>\n",
              "      <td>NaN</td>\n",
              "      <td>YOUTUBE</td>\n",
              "      <td>NaN</td>\n",
              "      <td>13901.0</td>\n",
              "      <td>COMUNIDAD VALENCIANA</td>\n",
              "      <td>589</td>\n",
              "      <td>9616</td>\n",
              "      <td>1.000000</td>\n",
              "      <td>FASHIONISTAS</td>\n",
              "      <td>2022-10-09</td>\n",
              "      <td>MEN</td>\n",
              "      <td>18-24</td>\n",
              "    </tr>\n",
              "  </tbody>\n",
              "</table>\n",
              "</div>"
            ],
            "text/plain": [
              "      customerid   campaign_type  duration channel_used  conversion_rate  \\\n",
              "98039   50cf5aa1  sostenibilidad      15.0          WEB             0.11   \n",
              "64975   23fafb45        Branding       NaN       E-MAIL              NaN   \n",
              "22019   e2935894     performance      10.0    INSTAGRAM             0.11   \n",
              "35292   3dbb7697        Branding       NaN    INSTAGRAM              NaN   \n",
              "55268   83391637        Branding       NaN      YOUTUBE              NaN   \n",
              "\n",
              "       acquisition_cost                location  clicks  impressions  \\\n",
              "98039           17117.0  PRINCIPADO DE ASTURIAS     755         4176   \n",
              "64975           19888.0     COMUNIDAD DE MADRID     503         8427   \n",
              "22019           11154.0    COMUNIDAD VALENCIANA     946         2219   \n",
              "35292           10638.0     COMUNIDAD DE MADRID     249         6965   \n",
              "55268           13901.0    COMUNIDAD VALENCIANA     589         9616   \n",
              "\n",
              "       engagement_score     customer_segment        date genero   edad  \n",
              "98039          5.491013  OUTDOOR ADVENTURERS  2023-06-08    MEN  25-34  \n",
              "64975          2.000000         FASHIONISTAS  2020-04-25    MEN  18-24  \n",
              "22019          7.000000     TECH ENTHUSIASTS  2022-04-02    MEN  18-24  \n",
              "35292               NaN       HEALT & WELNES  2020-09-22  WOMEN  25-34  \n",
              "55268          1.000000         FASHIONISTAS  2022-10-09    MEN  18-24  "
            ]
          },
          "execution_count": 26,
          "metadata": {},
          "output_type": "execute_result"
        }
      ],
      "source": [
        "df_marketing.sample(5)"
      ]
    },
    {
      "cell_type": "code",
      "execution_count": 27,
      "id": "54db01a0",
      "metadata": {},
      "outputs": [],
      "source": [
        "df_marketing['date'] = pd.to_datetime(df_marketing['date'])"
      ]
    },
    {
      "cell_type": "code",
      "execution_count": 28,
      "id": "11ffde64",
      "metadata": {},
      "outputs": [
        {
          "data": {
            "text/plain": [
              "1516"
            ]
          },
          "execution_count": 28,
          "metadata": {},
          "output_type": "execute_result"
        }
      ],
      "source": [
        "df_marketing.duplicated().sum()"
      ]
    },
    {
      "cell_type": "code",
      "execution_count": 29,
      "id": "03416861",
      "metadata": {},
      "outputs": [],
      "source": [
        "df_marketing.drop_duplicates(inplace=True)"
      ]
    },
    {
      "cell_type": "code",
      "execution_count": 30,
      "id": "3c465375",
      "metadata": {},
      "outputs": [
        {
          "data": {
            "text/plain": [
              "customerid          False\n",
              "campaign_type       False\n",
              "duration             True\n",
              "channel_used        False\n",
              "conversion_rate      True\n",
              "acquisition_cost    False\n",
              "location            False\n",
              "clicks              False\n",
              "impressions         False\n",
              "engagement_score     True\n",
              "customer_segment    False\n",
              "date                False\n",
              "genero              False\n",
              "edad                False\n",
              "dtype: bool"
            ]
          },
          "execution_count": 30,
          "metadata": {},
          "output_type": "execute_result"
        }
      ],
      "source": [
        "df_marketing.isna().any()"
      ]
    },
    {
      "cell_type": "code",
      "execution_count": 31,
      "id": "17925087",
      "metadata": {},
      "outputs": [],
      "source": [
        "na_vars  = [\n",
        "    'duration',\n",
        "    'conversion_rate',\n",
        "    'engagement_score'\n",
        "]\n",
        "for var in na_vars:\n",
        "    df_marketing[var].ffill(inplace=True)"
      ]
    },
    {
      "cell_type": "code",
      "execution_count": 32,
      "id": "537634b5",
      "metadata": {},
      "outputs": [
        {
          "data": {
            "text/plain": [
              "customerid          False\n",
              "campaign_type       False\n",
              "duration            False\n",
              "channel_used        False\n",
              "conversion_rate     False\n",
              "acquisition_cost    False\n",
              "location            False\n",
              "clicks              False\n",
              "impressions         False\n",
              "engagement_score    False\n",
              "customer_segment    False\n",
              "date                False\n",
              "genero              False\n",
              "edad                False\n",
              "dtype: bool"
            ]
          },
          "execution_count": 32,
          "metadata": {},
          "output_type": "execute_result"
        }
      ],
      "source": [
        "df_marketing.isna().any()"
      ]
    },
    {
      "cell_type": "code",
      "execution_count": 33,
      "id": "33f7d8b9",
      "metadata": {},
      "outputs": [
        {
          "data": {
            "text/plain": [
              "<seaborn.axisgrid.FacetGrid at 0x1c62bf7ebd0>"
            ]
          },
          "execution_count": 33,
          "metadata": {},
          "output_type": "execute_result"
        },
        {
          "data": {
            "image/png": "[encoded data removed]",
            "text/plain": [
              "<Figure size 1800x300 with 6 Axes>"
            ]
          },
          "metadata": {},
          "output_type": "display_data"
        }
      ],
      "source": [
        "df_ = df_marketing.select_dtypes('number').melt()\n",
        "grid = sns.FacetGrid(df_,col='variable',sharex=False)\n",
        "grid.map(sns.boxplot,'value',palette=palette)"
      ]
    },
    {
      "cell_type": "code",
      "execution_count": 34,
      "id": "3647ffd1",
      "metadata": {},
      "outputs": [],
      "source": [
        "for col in df_marketing.select_dtypes('number').columns:\n",
        "    Q1 = df_marketing[col].quantile(0.25)\n",
        "    Q3 = df_marketing[col].quantile(0.75)\n",
        "    r = Q3-Q1\n",
        "    vmin = Q1 - 1.5*r\n",
        "    vmax = Q3 + 1.5*r\n",
        "    df_marketing[col].clip(vmin,vmax,inplace=True)"
      ]
    },
    {
      "cell_type": "code",
      "execution_count": 35,
      "id": "fec889b2",
      "metadata": {},
      "outputs": [
        {
          "data": {
            "text/plain": [
              "<seaborn.axisgrid.FacetGrid at 0x1c62cb1add0>"
            ]
          },
          "execution_count": 35,
          "metadata": {},
          "output_type": "execute_result"
        },
        {
          "data": {
            "image/png": "[encoded data removed]",
            "text/plain": [
              "<Figure size 1800x300 with 6 Axes>"
            ]
          },
          "metadata": {},
          "output_type": "display_data"
        }
      ],
      "source": [
        "df_ = df_marketing.select_dtypes('number').melt()\n",
        "grid = sns.FacetGrid(df_,col='variable',sharex=False)\n",
        "grid.map(sns.boxplot,'value',palette=palette)"
      ]
    },
    {
      "cell_type": "markdown",
      "id": "b44c4969",
      "metadata": {},
      "source": [
        "#### EDA"
      ]
    },
    {
      "cell_type": "code",
      "execution_count": 37,
      "id": "267f0c61",
      "metadata": {},
      "outputs": [
        {
          "data": {
            "text/html": [
              "<div>\n",
              "<style scoped>\n",
              "    .dataframe tbody tr th:only-of-type {\n",
              "        vertical-align: middle;\n",
              "    }\n",
              "\n",
              "    .dataframe tbody tr th {\n",
              "        vertical-align: top;\n",
              "    }\n",
              "\n",
              "    .dataframe thead th {\n",
              "        text-align: right;\n",
              "    }\n",
              "</style>\n",
              "<table border=\"1\" class=\"dataframe\">\n",
              "  <thead>\n",
              "    <tr style=\"text-align: right;\">\n",
              "      <th></th>\n",
              "      <th>customerid</th>\n",
              "      <th>campaign_type</th>\n",
              "      <th>duration</th>\n",
              "      <th>channel_used</th>\n",
              "      <th>conversion_rate</th>\n",
              "      <th>acquisition_cost</th>\n",
              "      <th>location</th>\n",
              "      <th>clicks</th>\n",
              "      <th>impressions</th>\n",
              "      <th>engagement_score</th>\n",
              "      <th>customer_segment</th>\n",
              "      <th>date</th>\n",
              "      <th>genero</th>\n",
              "      <th>edad</th>\n",
              "    </tr>\n",
              "  </thead>\n",
              "  <tbody>\n",
              "    <tr>\n",
              "      <th>69137</th>\n",
              "      <td>fea53d51</td>\n",
              "      <td>Branding</td>\n",
              "      <td>2.0</td>\n",
              "      <td>YOUTUBE</td>\n",
              "      <td>0.02</td>\n",
              "      <td>17906.0</td>\n",
              "      <td>COMUNIDAD VALENCIANA</td>\n",
              "      <td>546</td>\n",
              "      <td>3864</td>\n",
              "      <td>2.000000</td>\n",
              "      <td>HEALTH &amp; WELLNESS</td>\n",
              "      <td>2022-04-13</td>\n",
              "      <td>MEN</td>\n",
              "      <td>25-34</td>\n",
              "    </tr>\n",
              "    <tr>\n",
              "      <th>29437</th>\n",
              "      <td>db07b818</td>\n",
              "      <td>performance</td>\n",
              "      <td>5.0</td>\n",
              "      <td>FACEBOOK</td>\n",
              "      <td>0.02</td>\n",
              "      <td>5529.0</td>\n",
              "      <td>PRINCIPADO DE ASTURIAS</td>\n",
              "      <td>783</td>\n",
              "      <td>3391</td>\n",
              "      <td>8.000000</td>\n",
              "      <td>FOODIES</td>\n",
              "      <td>2023-10-29</td>\n",
              "      <td>MEN</td>\n",
              "      <td>25-34</td>\n",
              "    </tr>\n",
              "    <tr>\n",
              "      <th>94748</th>\n",
              "      <td>1673e0a3</td>\n",
              "      <td>sostenibilidad</td>\n",
              "      <td>7.0</td>\n",
              "      <td>FACEBOOK</td>\n",
              "      <td>0.13</td>\n",
              "      <td>5438.0</td>\n",
              "      <td>COMUNIDAD VALENCIANA</td>\n",
              "      <td>411</td>\n",
              "      <td>1135</td>\n",
              "      <td>9.227532</td>\n",
              "      <td>OUTDOOR ADVENTURERS</td>\n",
              "      <td>2022-02-12</td>\n",
              "      <td>no_especificado</td>\n",
              "      <td>no_especificado</td>\n",
              "    </tr>\n",
              "    <tr>\n",
              "      <th>60127</th>\n",
              "      <td>44a38cbb</td>\n",
              "      <td>Branding</td>\n",
              "      <td>2.0</td>\n",
              "      <td>E-MAIL</td>\n",
              "      <td>0.02</td>\n",
              "      <td>8571.0</td>\n",
              "      <td>PRINCIPADO DE ASTURIAS</td>\n",
              "      <td>829</td>\n",
              "      <td>4365</td>\n",
              "      <td>5.000000</td>\n",
              "      <td>ADVENTUERERS</td>\n",
              "      <td>2023-07-03</td>\n",
              "      <td>no_especificado</td>\n",
              "      <td>no_especificado</td>\n",
              "    </tr>\n",
              "    <tr>\n",
              "      <th>17736</th>\n",
              "      <td>f3519393</td>\n",
              "      <td>performance</td>\n",
              "      <td>22.0</td>\n",
              "      <td>E-MAIL</td>\n",
              "      <td>0.07</td>\n",
              "      <td>6375.0</td>\n",
              "      <td>COMUNIDAD VALENCIANA</td>\n",
              "      <td>774</td>\n",
              "      <td>9946</td>\n",
              "      <td>5.487703</td>\n",
              "      <td>HEALTH &amp; WELLNESS</td>\n",
              "      <td>2022-03-02</td>\n",
              "      <td>WOMEN</td>\n",
              "      <td>25-34</td>\n",
              "    </tr>\n",
              "  </tbody>\n",
              "</table>\n",
              "</div>"
            ],
            "text/plain": [
              "      customerid   campaign_type  duration channel_used  conversion_rate  \\\n",
              "69137   fea53d51        Branding       2.0      YOUTUBE             0.02   \n",
              "29437   db07b818     performance       5.0     FACEBOOK             0.02   \n",
              "94748   1673e0a3  sostenibilidad       7.0     FACEBOOK             0.13   \n",
              "60127   44a38cbb        Branding       2.0       E-MAIL             0.02   \n",
              "17736   f3519393     performance      22.0       E-MAIL             0.07   \n",
              "\n",
              "       acquisition_cost                location  clicks  impressions  \\\n",
              "69137           17906.0    COMUNIDAD VALENCIANA     546         3864   \n",
              "29437            5529.0  PRINCIPADO DE ASTURIAS     783         3391   \n",
              "94748            5438.0    COMUNIDAD VALENCIANA     411         1135   \n",
              "60127            8571.0  PRINCIPADO DE ASTURIAS     829         4365   \n",
              "17736            6375.0    COMUNIDAD VALENCIANA     774         9946   \n",
              "\n",
              "       engagement_score     customer_segment       date           genero  \\\n",
              "69137          2.000000    HEALTH & WELLNESS 2022-04-13              MEN   \n",
              "29437          8.000000              FOODIES 2023-10-29              MEN   \n",
              "94748          9.227532  OUTDOOR ADVENTURERS 2022-02-12  no_especificado   \n",
              "60127          5.000000         ADVENTUERERS 2023-07-03  no_especificado   \n",
              "17736          5.487703    HEALTH & WELLNESS 2022-03-02            WOMEN   \n",
              "\n",
              "                  edad  \n",
              "69137            25-34  \n",
              "29437            25-34  \n",
              "94748  no_especificado  \n",
              "60127  no_especificado  \n",
              "17736            25-34  "
            ]
          },
          "execution_count": 37,
          "metadata": {},
          "output_type": "execute_result"
        }
      ],
      "source": [
        "df_marketing.sample(5)"
      ]
    },
    {
      "cell_type": "code",
      "execution_count": 69,
      "id": "437626d2",
      "metadata": {},
      "outputs": [
        {
          "data": {
            "text/plain": [
              "<seaborn.axisgrid.FacetGrid at 0x1c65681ddd0>"
            ]
          },
          "execution_count": 69,
          "metadata": {},
          "output_type": "execute_result"
        },
        {
          "data": {
            "image/png": "[encoded data removed]",
            "text/plain": [
              "<Figure size 1800x300 with 6 Axes>"
            ]
          },
          "metadata": {},
          "output_type": "display_data"
        }
      ],
      "source": [
        "df_ = df_marketing.select_dtypes('category').melt()\n",
        "\n",
        "grid = sns.FacetGrid(df_,col='variable',sharex=False,sharey=False)\n",
        "grid.map(sns.countplot,'value',**kwargs)\n",
        "grid.set_xticklabels(rotation=90)"
      ]
    },
    {
      "cell_type": "code",
      "execution_count": 86,
      "id": "d1dbae19",
      "metadata": {},
      "outputs": [
        {
          "data": {
            "text/plain": [
              "<seaborn.axisgrid.FacetGrid at 0x1c660777a10>"
            ]
          },
          "execution_count": 86,
          "metadata": {},
          "output_type": "execute_result"
        },
        {
          "data": {
            "image/png": "[encoded data removed]",
            "text/plain": [
              "<Figure size 1800x300 with 6 Axes>"
            ]
          },
          "metadata": {},
          "output_type": "display_data"
        }
      ],
      "source": [
        "df_ = df_marketing.select_dtypes('number').melt()\n",
        "grid = sns.FacetGrid(df_,col='variable',sharex=False,sharey=False)\n",
        "grid.map(sns.boxplot,'value',fill=True,color=palette[0])"
      ]
    },
    {
      "cell_type": "markdown",
      "id": "6ea5f2c4",
      "metadata": {},
      "source": [
        "### Datos de facturación"
      ]
    },
    {
      "cell_type": "code",
      "execution_count": 38,
      "id": "492d53d7",
      "metadata": {},
      "outputs": [
        {
          "data": {
            "text/html": [
              "<div>\n",
              "<style scoped>\n",
              "    .dataframe tbody tr th:only-of-type {\n",
              "        vertical-align: middle;\n",
              "    }\n",
              "\n",
              "    .dataframe tbody tr th {\n",
              "        vertical-align: top;\n",
              "    }\n",
              "\n",
              "    .dataframe thead th {\n",
              "        text-align: right;\n",
              "    }\n",
              "</style>\n",
              "<table border=\"1\" class=\"dataframe\">\n",
              "  <thead>\n",
              "    <tr style=\"text-align: right;\">\n",
              "      <th></th>\n",
              "      <th>fecha_de_factura</th>\n",
              "      <th>factura</th>\n",
              "      <th>codigo_de_stock</th>\n",
              "      <th>producto</th>\n",
              "      <th>cantidad</th>\n",
              "      <th>precio</th>\n",
              "      <th>id_del_cliente</th>\n",
              "      <th>ciudad</th>\n",
              "    </tr>\n",
              "  </thead>\n",
              "  <tbody>\n",
              "    <tr>\n",
              "      <th>0</th>\n",
              "      <td>2021-12-05</td>\n",
              "      <td>537196</td>\n",
              "      <td>21811</td>\n",
              "      <td>CHRISTMAS HANGING HEART WITH BELL</td>\n",
              "      <td>1.0</td>\n",
              "      <td>1.25</td>\n",
              "      <td>c8a66fe3</td>\n",
              "      <td>Lleida</td>\n",
              "    </tr>\n",
              "    <tr>\n",
              "      <th>1</th>\n",
              "      <td>2020-12-16</td>\n",
              "      <td>539294</td>\n",
              "      <td>47574A</td>\n",
              "      <td>ENGLISH ROSE SCENTED HANGING FLOWER</td>\n",
              "      <td>1.0</td>\n",
              "      <td>4.25</td>\n",
              "      <td>7d08cdc9</td>\n",
              "      <td>Madrid</td>\n",
              "    </tr>\n",
              "    <tr>\n",
              "      <th>2</th>\n",
              "      <td>2020-10-18</td>\n",
              "      <td>571714</td>\n",
              "      <td>84951A</td>\n",
              "      <td>SET OF 4 PISTACHIO LOVEBIRD COASTER</td>\n",
              "      <td>NaN</td>\n",
              "      <td>NaN</td>\n",
              "      <td>df301f04</td>\n",
              "      <td>Oviedo</td>\n",
              "    </tr>\n",
              "    <tr>\n",
              "      <th>3</th>\n",
              "      <td>2022-09-08</td>\n",
              "      <td>566060</td>\n",
              "      <td>82484</td>\n",
              "      <td>WOOD BLACK BOARD ANT WHITE FINISH</td>\n",
              "      <td>2.0</td>\n",
              "      <td>16.63</td>\n",
              "      <td>a70cf1ee</td>\n",
              "      <td>Valencia</td>\n",
              "    </tr>\n",
              "    <tr>\n",
              "      <th>4</th>\n",
              "      <td>2022-12-06</td>\n",
              "      <td>537237</td>\n",
              "      <td>22208</td>\n",
              "      <td>WOOD STAMP SET THANK YOU</td>\n",
              "      <td>3.0</td>\n",
              "      <td>3.36</td>\n",
              "      <td>b0e56ea7</td>\n",
              "      <td>Alicante</td>\n",
              "    </tr>\n",
              "  </tbody>\n",
              "</table>\n",
              "</div>"
            ],
            "text/plain": [
              "  fecha_de_factura factura codigo_de_stock  \\\n",
              "0       2021-12-05  537196           21811   \n",
              "1       2020-12-16  539294          47574A   \n",
              "2       2020-10-18  571714          84951A   \n",
              "3       2022-09-08  566060           82484   \n",
              "4       2022-12-06  537237           22208   \n",
              "\n",
              "                              producto  cantidad  precio id_del_cliente  \\\n",
              "0    CHRISTMAS HANGING HEART WITH BELL       1.0    1.25       c8a66fe3   \n",
              "1  ENGLISH ROSE SCENTED HANGING FLOWER       1.0    4.25       7d08cdc9   \n",
              "2  SET OF 4 PISTACHIO LOVEBIRD COASTER       NaN     NaN       df301f04   \n",
              "3    WOOD BLACK BOARD ANT WHITE FINISH       2.0   16.63       a70cf1ee   \n",
              "4             WOOD STAMP SET THANK YOU       3.0    3.36       b0e56ea7   \n",
              "\n",
              "     ciudad  \n",
              "0    Lleida  \n",
              "1    Madrid  \n",
              "2    Oviedo  \n",
              "3  Valencia  \n",
              "4  Alicante  "
            ]
          },
          "execution_count": 38,
          "metadata": {},
          "output_type": "execute_result"
        }
      ],
      "source": [
        "df_fact = pd.read_csv('data/facturacion.csv')\n",
        "df_fact.head()"
      ]
    },
    {
      "cell_type": "code",
      "execution_count": 39,
      "id": "fefc10f6",
      "metadata": {},
      "outputs": [
        {
          "data": {
            "text/plain": [
              "fecha_de_factura    False\n",
              "factura             False\n",
              "codigo_de_stock      True\n",
              "producto             True\n",
              "cantidad             True\n",
              "precio               True\n",
              "id_del_cliente       True\n",
              "ciudad              False\n",
              "dtype: bool"
            ]
          },
          "execution_count": 39,
          "metadata": {},
          "output_type": "execute_result"
        }
      ],
      "source": [
        "df_fact.isna().any()"
      ]
    },
    {
      "cell_type": "code",
      "execution_count": 40,
      "id": "19855c69",
      "metadata": {},
      "outputs": [
        {
          "data": {
            "text/plain": [
              "fecha_de_factura    0.000000\n",
              "factura             0.000000\n",
              "codigo_de_stock     0.040607\n",
              "producto            0.002697\n",
              "cantidad            0.050001\n",
              "precio              0.050001\n",
              "id_del_cliente      0.049954\n",
              "ciudad              0.000000\n",
              "dtype: float64"
            ]
          },
          "execution_count": 40,
          "metadata": {},
          "output_type": "execute_result"
        }
      ],
      "source": [
        "df_fact.isna().sum() / len(df_fact)"
      ]
    },
    {
      "cell_type": "code",
      "execution_count": 41,
      "id": "d39457cd",
      "metadata": {},
      "outputs": [],
      "source": [
        "df_fact.dropna(inplace=True)"
      ]
    },
    {
      "cell_type": "code",
      "execution_count": 42,
      "id": "fb56fb81",
      "metadata": {},
      "outputs": [],
      "source": [
        "df_fact['fecha_de_factura'] = pd.to_datetime(df_fact['fecha_de_factura'])"
      ]
    },
    {
      "cell_type": "code",
      "execution_count": 43,
      "id": "0eb22e76",
      "metadata": {},
      "outputs": [
        {
          "data": {
            "text/html": [
              "<div>\n",
              "<style scoped>\n",
              "    .dataframe tbody tr th:only-of-type {\n",
              "        vertical-align: middle;\n",
              "    }\n",
              "\n",
              "    .dataframe tbody tr th {\n",
              "        vertical-align: top;\n",
              "    }\n",
              "\n",
              "    .dataframe thead th {\n",
              "        text-align: right;\n",
              "    }\n",
              "</style>\n",
              "<table border=\"1\" class=\"dataframe\">\n",
              "  <thead>\n",
              "    <tr style=\"text-align: right;\">\n",
              "      <th></th>\n",
              "      <th>fecha_de_factura</th>\n",
              "      <th>factura</th>\n",
              "      <th>codigo_de_stock</th>\n",
              "      <th>producto</th>\n",
              "      <th>cantidad</th>\n",
              "      <th>precio</th>\n",
              "      <th>id_del_cliente</th>\n",
              "      <th>ciudad</th>\n",
              "    </tr>\n",
              "  </thead>\n",
              "  <tbody>\n",
              "    <tr>\n",
              "      <th>0</th>\n",
              "      <td>2021-12-05</td>\n",
              "      <td>537196</td>\n",
              "      <td>21811</td>\n",
              "      <td>CHRISTMAS HANGING HEART WITH BELL</td>\n",
              "      <td>1.0</td>\n",
              "      <td>1.25</td>\n",
              "      <td>c8a66fe3</td>\n",
              "      <td>Lleida</td>\n",
              "    </tr>\n",
              "    <tr>\n",
              "      <th>1</th>\n",
              "      <td>2020-12-16</td>\n",
              "      <td>539294</td>\n",
              "      <td>47574A</td>\n",
              "      <td>ENGLISH ROSE SCENTED HANGING FLOWER</td>\n",
              "      <td>1.0</td>\n",
              "      <td>4.25</td>\n",
              "      <td>7d08cdc9</td>\n",
              "      <td>Madrid</td>\n",
              "    </tr>\n",
              "    <tr>\n",
              "      <th>3</th>\n",
              "      <td>2022-09-08</td>\n",
              "      <td>566060</td>\n",
              "      <td>82484</td>\n",
              "      <td>WOOD BLACK BOARD ANT WHITE FINISH</td>\n",
              "      <td>2.0</td>\n",
              "      <td>16.63</td>\n",
              "      <td>a70cf1ee</td>\n",
              "      <td>Valencia</td>\n",
              "    </tr>\n",
              "    <tr>\n",
              "      <th>4</th>\n",
              "      <td>2022-12-06</td>\n",
              "      <td>537237</td>\n",
              "      <td>22208</td>\n",
              "      <td>WOOD STAMP SET THANK YOU</td>\n",
              "      <td>3.0</td>\n",
              "      <td>3.36</td>\n",
              "      <td>b0e56ea7</td>\n",
              "      <td>Alicante</td>\n",
              "    </tr>\n",
              "    <tr>\n",
              "      <th>5</th>\n",
              "      <td>2021-05-08</td>\n",
              "      <td>552309</td>\n",
              "      <td>21094</td>\n",
              "      <td>SET/6 RED SPOTTY PAPER PLATES</td>\n",
              "      <td>12.0</td>\n",
              "      <td>0.85</td>\n",
              "      <td>4f289506</td>\n",
              "      <td>Alicante</td>\n",
              "    </tr>\n",
              "  </tbody>\n",
              "</table>\n",
              "</div>"
            ],
            "text/plain": [
              "  fecha_de_factura factura codigo_de_stock  \\\n",
              "0       2021-12-05  537196           21811   \n",
              "1       2020-12-16  539294          47574A   \n",
              "3       2022-09-08  566060           82484   \n",
              "4       2022-12-06  537237           22208   \n",
              "5       2021-05-08  552309           21094   \n",
              "\n",
              "                              producto  cantidad  precio id_del_cliente  \\\n",
              "0    CHRISTMAS HANGING HEART WITH BELL       1.0    1.25       c8a66fe3   \n",
              "1  ENGLISH ROSE SCENTED HANGING FLOWER       1.0    4.25       7d08cdc9   \n",
              "3    WOOD BLACK BOARD ANT WHITE FINISH       2.0   16.63       a70cf1ee   \n",
              "4             WOOD STAMP SET THANK YOU       3.0    3.36       b0e56ea7   \n",
              "5        SET/6 RED SPOTTY PAPER PLATES      12.0    0.85       4f289506   \n",
              "\n",
              "     ciudad  \n",
              "0    Lleida  \n",
              "1    Madrid  \n",
              "3  Valencia  \n",
              "4  Alicante  \n",
              "5  Alicante  "
            ]
          },
          "execution_count": 43,
          "metadata": {},
          "output_type": "execute_result"
        }
      ],
      "source": [
        "df_fact.head()"
      ]
    },
    {
      "cell_type": "code",
      "execution_count": 104,
      "id": "7b7b6a6b",
      "metadata": {},
      "outputs": [],
      "source": [
        "df_fact['ciudad'] = (\n",
        "    df_fact['ciudad']\n",
        "    .str.lstrip()\n",
        "    .str.rstrip()\n",
        "    .str.upper()\n",
        "    .astype('category')\n",
        ")"
      ]
    },
    {
      "cell_type": "code",
      "execution_count": 44,
      "id": "ce3c711f",
      "metadata": {},
      "outputs": [
        {
          "data": {
            "text/plain": [
              "14908"
            ]
          },
          "execution_count": 44,
          "metadata": {},
          "output_type": "execute_result"
        }
      ],
      "source": [
        "df_fact.duplicated().sum()"
      ]
    },
    {
      "cell_type": "code",
      "execution_count": 45,
      "id": "4601bccd",
      "metadata": {},
      "outputs": [],
      "source": [
        "df_fact.drop_duplicates(inplace=True)"
      ]
    },
    {
      "cell_type": "code",
      "execution_count": 46,
      "id": "b699a46c",
      "metadata": {},
      "outputs": [
        {
          "data": {
            "text/plain": [
              "<seaborn.axisgrid.FacetGrid at 0x1c62c184150>"
            ]
          },
          "execution_count": 46,
          "metadata": {},
          "output_type": "execute_result"
        },
        {
          "data": {
            "image/png": "[encoded data removed]",
            "text/plain": [
              "<Figure size 600x300 with 2 Axes>"
            ]
          },
          "metadata": {},
          "output_type": "display_data"
        }
      ],
      "source": [
        "df_ = df_fact.select_dtypes('number').melt()\n",
        "grid = sns.FacetGrid(df_,col='variable',sharex=False)\n",
        "grid.map(sns.boxplot,'value',palette=palette)"
      ]
    },
    {
      "cell_type": "code",
      "execution_count": null,
      "id": "01fbdcb1",
      "metadata": {},
      "outputs": [],
      "source": []
    },
    {
      "cell_type": "code",
      "execution_count": 49,
      "id": "ce91b3a6",
      "metadata": {},
      "outputs": [],
      "source": [
        "for col in df_fact.select_dtypes('number').columns:\n",
        "    Q1 = df_fact[col].quantile(0.25)\n",
        "    Q3 = df_fact[col].quantile(0.75)\n",
        "    r = Q3-Q1\n",
        "    vmin = Q1 - 1.5*r\n",
        "    vmax = Q3 + 1.5*r\n",
        "    df_fact[col].clip(vmin,vmax,inplace=True)"
      ]
    },
    {
      "cell_type": "code",
      "execution_count": 50,
      "id": "cdbe60db",
      "metadata": {},
      "outputs": [
        {
          "data": {
            "text/plain": [
              "<seaborn.axisgrid.FacetGrid at 0x1c62cba7f10>"
            ]
          },
          "execution_count": 50,
          "metadata": {},
          "output_type": "execute_result"
        },
        {
          "data": {
            "image/png": "[encoded data removed]",
            "text/plain": [
              "<Figure size 600x300 with 2 Axes>"
            ]
          },
          "metadata": {},
          "output_type": "display_data"
        }
      ],
      "source": [
        "df_ = df_fact.select_dtypes('number').melt()\n",
        "grid = sns.FacetGrid(df_,col='variable',sharex=False)\n",
        "grid.map(sns.boxplot,'value',palette=palette)"
      ]
    },
    {
      "cell_type": "markdown",
      "id": "361bab35",
      "metadata": {},
      "source": [
        "#### EDA"
      ]
    },
    {
      "cell_type": "code",
      "execution_count": 105,
      "id": "8ea63cd5",
      "metadata": {},
      "outputs": [
        {
          "data": {
            "image/png": "[encoded data removed]",
            "text/plain": [
              "<Figure size 640x480 with 1 Axes>"
            ]
          },
          "metadata": {},
          "output_type": "display_data"
        }
      ],
      "source": [
        "sns.countplot(\n",
        "    data = df_fact,\n",
        "    x = 'ciudad',\n",
        "    **kwargs\n",
        ")\n",
        "rot_show()"
      ]
    },
    {
      "cell_type": "code",
      "execution_count": null,
      "id": "1e882cbb",
      "metadata": {},
      "outputs": [],
      "source": []
    }
  ],
  "metadata": {
    "colab": {
      "provenance": []
    },
    "kernelspec": {
      "display_name": "Python 3",
      "name": "python3"
    },
    "language_info": {
      "codemirror_mode": {
        "name": "ipython",
        "version": 3
      },
      "file_extension": ".py",
      "mimetype": "text/x-python",
      "name": "python",
      "nbconvert_exporter": "python",
      "pygments_lexer": "ipython3",
      "version": "3.11.7"
    }
  },
  "nbformat": 4,
  "nbformat_minor": 5
}

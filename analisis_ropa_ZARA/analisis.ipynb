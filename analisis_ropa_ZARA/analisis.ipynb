{
 "cells": [
  {
   "cell_type": "code",
   "execution_count": 1,
   "metadata": {},
   "outputs": [],
   "source": [
    "import sys\n",
    "sys.path.append('../utils')\n",
    "import pandas as pd\n",
    "import matplotlib.pyplot as plt\n",
    "import seaborn as sns\n",
    "from MiguelTK import *\n",
    "import warnings\n",
    "warnings.filterwarnings('ignore')"
   ]
  },
  {
   "cell_type": "markdown",
   "metadata": {},
   "source": [
    "## Limpieza y transformación de datos"
   ]
  },
  {
   "cell_type": "code",
   "execution_count": 2,
   "metadata": {},
   "outputs": [],
   "source": [
    "df = pd.read_csv('data/ZARA_db.csv')"
   ]
  },
  {
   "cell_type": "code",
   "execution_count": 3,
   "metadata": {},
   "outputs": [
    {
     "data": {
      "text/html": [
       "<div>\n",
       "<style scoped>\n",
       "    .dataframe tbody tr th:only-of-type {\n",
       "        vertical-align: middle;\n",
       "    }\n",
       "\n",
       "    .dataframe tbody tr th {\n",
       "        vertical-align: top;\n",
       "    }\n",
       "\n",
       "    .dataframe thead th {\n",
       "        text-align: right;\n",
       "    }\n",
       "</style>\n",
       "<table border=\"1\" class=\"dataframe\">\n",
       "  <thead>\n",
       "    <tr style=\"text-align: right;\">\n",
       "      <th></th>\n",
       "      <th>extracción</th>\n",
       "      <th>articulo</th>\n",
       "      <th>precio</th>\n",
       "      <th>descripcion</th>\n",
       "      <th>grupo_web</th>\n",
       "      <th>tallas</th>\n",
       "      <th>colores</th>\n",
       "      <th>enlace</th>\n",
       "      <th>marca</th>\n",
       "      <th>grupo</th>\n",
       "      <th>seccion</th>\n",
       "    </tr>\n",
       "  </thead>\n",
       "  <tbody>\n",
       "    <tr>\n",
       "      <th>0</th>\n",
       "      <td>2024-05-25 11:53:38.599586</td>\n",
       "      <td>CAMISETA CROP EFECTO TOALLA BORDADO</td>\n",
       "      <td>15.95</td>\n",
       "      <td>Camiseta corta amplia confeccionada en tejido ...</td>\n",
       "      <td>V2024-MUJER-ULTIMA-SEMANA</td>\n",
       "      <td>['S', 'M', 'L']</td>\n",
       "      <td>[]</td>\n",
       "      <td>https://www.zara.com/es/es/camiseta-crop-efect...</td>\n",
       "      <td>ZARA</td>\n",
       "      <td>CAMISETA</td>\n",
       "      <td>MUJER</td>\n",
       "    </tr>\n",
       "    <tr>\n",
       "      <th>1</th>\n",
       "      <td>2024-05-25 11:53:38.599586</td>\n",
       "      <td>VESTIDO TUL ESTAMPADO CUT OUT</td>\n",
       "      <td>22.95</td>\n",
       "      <td>Vestido corto de cuello redondo y manga sisa. ...</td>\n",
       "      <td>V2024-MUJER-ULTIMA-SEMANA</td>\n",
       "      <td>['S', 'M', 'L']</td>\n",
       "      <td>[]</td>\n",
       "      <td>https://www.zara.com/es/es/vestido-tul-estampa...</td>\n",
       "      <td>ZARA</td>\n",
       "      <td>VESTIDO</td>\n",
       "      <td>MUJER</td>\n",
       "    </tr>\n",
       "    <tr>\n",
       "      <th>2</th>\n",
       "      <td>2024-05-25 11:53:38.599586</td>\n",
       "      <td>FALDA TUL ESTAMPADA</td>\n",
       "      <td>17.95</td>\n",
       "      <td>Falda midi de tiro alto con cintura elástica. ...</td>\n",
       "      <td>V2024-MUJER-ULTIMA-SEMANA</td>\n",
       "      <td>['S', 'M', 'L']</td>\n",
       "      <td>[]</td>\n",
       "      <td>https://www.zara.com/es/es/falda-tul-estampada...</td>\n",
       "      <td>ZARA</td>\n",
       "      <td>FALDA</td>\n",
       "      <td>MUJER</td>\n",
       "    </tr>\n",
       "    <tr>\n",
       "      <th>3</th>\n",
       "      <td>2024-05-25 11:53:38.599586</td>\n",
       "      <td>BLAZER ABIERTA CON LINO</td>\n",
       "      <td>39.95</td>\n",
       "      <td>Blazer confeccionada con lino. Cuello solapa y...</td>\n",
       "      <td>V2024-MUJER-ULTIMA-SEMANA</td>\n",
       "      <td>['XS', 'S', 'M', 'L', 'XL', 'XXL']</td>\n",
       "      <td>['Blanco', 'Marino']</td>\n",
       "      <td>https://www.zara.com/es/es/blazer-abierta-con-...</td>\n",
       "      <td>ZARA</td>\n",
       "      <td>BLAZER</td>\n",
       "      <td>MUJER</td>\n",
       "    </tr>\n",
       "    <tr>\n",
       "      <th>4</th>\n",
       "      <td>2024-05-25 11:53:38.599586</td>\n",
       "      <td>BODY TUL DRAPEADO ASIMÉTRICO</td>\n",
       "      <td>17.95</td>\n",
       "      <td>Body de escote asimétrico con manga sisa. Teji...</td>\n",
       "      <td>V2024-MUJER-ULTIMA-SEMANA</td>\n",
       "      <td>['S', 'M', 'L']</td>\n",
       "      <td>['Lila claro', 'Leopardo', 'Azul claro', 'amar...</td>\n",
       "      <td>https://www.zara.com/es/es/body-tul-drapeado-a...</td>\n",
       "      <td>ZARA</td>\n",
       "      <td>BODY</td>\n",
       "      <td>MUJER</td>\n",
       "    </tr>\n",
       "  </tbody>\n",
       "</table>\n",
       "</div>"
      ],
      "text/plain": [
       "                   extracción                             articulo  precio  \\\n",
       "0  2024-05-25 11:53:38.599586  CAMISETA CROP EFECTO TOALLA BORDADO   15.95   \n",
       "1  2024-05-25 11:53:38.599586        VESTIDO TUL ESTAMPADO CUT OUT   22.95   \n",
       "2  2024-05-25 11:53:38.599586                  FALDA TUL ESTAMPADA   17.95   \n",
       "3  2024-05-25 11:53:38.599586              BLAZER ABIERTA CON LINO   39.95   \n",
       "4  2024-05-25 11:53:38.599586         BODY TUL DRAPEADO ASIMÉTRICO   17.95   \n",
       "\n",
       "                                         descripcion  \\\n",
       "0  Camiseta corta amplia confeccionada en tejido ...   \n",
       "1  Vestido corto de cuello redondo y manga sisa. ...   \n",
       "2  Falda midi de tiro alto con cintura elástica. ...   \n",
       "3  Blazer confeccionada con lino. Cuello solapa y...   \n",
       "4  Body de escote asimétrico con manga sisa. Teji...   \n",
       "\n",
       "                   grupo_web                              tallas  \\\n",
       "0  V2024-MUJER-ULTIMA-SEMANA                     ['S', 'M', 'L']   \n",
       "1  V2024-MUJER-ULTIMA-SEMANA                     ['S', 'M', 'L']   \n",
       "2  V2024-MUJER-ULTIMA-SEMANA                     ['S', 'M', 'L']   \n",
       "3  V2024-MUJER-ULTIMA-SEMANA  ['XS', 'S', 'M', 'L', 'XL', 'XXL']   \n",
       "4  V2024-MUJER-ULTIMA-SEMANA                     ['S', 'M', 'L']   \n",
       "\n",
       "                                             colores  \\\n",
       "0                                                 []   \n",
       "1                                                 []   \n",
       "2                                                 []   \n",
       "3                               ['Blanco', 'Marino']   \n",
       "4  ['Lila claro', 'Leopardo', 'Azul claro', 'amar...   \n",
       "\n",
       "                                              enlace marca     grupo seccion  \n",
       "0  https://www.zara.com/es/es/camiseta-crop-efect...  ZARA  CAMISETA   MUJER  \n",
       "1  https://www.zara.com/es/es/vestido-tul-estampa...  ZARA   VESTIDO   MUJER  \n",
       "2  https://www.zara.com/es/es/falda-tul-estampada...  ZARA     FALDA   MUJER  \n",
       "3  https://www.zara.com/es/es/blazer-abierta-con-...  ZARA    BLAZER   MUJER  \n",
       "4  https://www.zara.com/es/es/body-tul-drapeado-a...  ZARA      BODY   MUJER  "
      ]
     },
     "execution_count": 3,
     "metadata": {},
     "output_type": "execute_result"
    }
   ],
   "source": [
    "df.head()"
   ]
  },
  {
   "cell_type": "code",
   "execution_count": 4,
   "metadata": {},
   "outputs": [],
   "source": [
    "df['temporada'] = df['grupo_web'].str.extract(r'^(\\w+)\\-')\n",
    "del df['grupo_web']"
   ]
  },
  {
   "cell_type": "code",
   "execution_count": 5,
   "metadata": {},
   "outputs": [],
   "source": [
    "df['n_tallas'] = df['tallas'].str.count(r'\\'(\\w+)\\'')"
   ]
  },
  {
   "cell_type": "code",
   "execution_count": 6,
   "metadata": {},
   "outputs": [],
   "source": [
    "del df['enlace']"
   ]
  },
  {
   "cell_type": "code",
   "execution_count": 7,
   "metadata": {},
   "outputs": [],
   "source": [
    "df['n_colores'] = df['colores'].str.count(r'\\'(\\w+)\\'')"
   ]
  },
  {
   "cell_type": "code",
   "execution_count": 8,
   "metadata": {},
   "outputs": [],
   "source": [
    "df['contiene_lino'] = df['descripcion'].str.contains(r'lino',case=False)"
   ]
  },
  {
   "cell_type": "code",
   "execution_count": 9,
   "metadata": {},
   "outputs": [],
   "source": [
    "df['contiene_algodon'] = df['descripcion'].str.contains(r'algodón',case=False)"
   ]
  },
  {
   "cell_type": "code",
   "execution_count": 10,
   "metadata": {},
   "outputs": [],
   "source": [
    "df['tipo_talla'] = (\n",
    "    df['tallas']\n",
    "    .str.contains(r'\\d')\n",
    "    .map({\n",
    "        True:'numérica',\n",
    "        False:'alfabética'\n",
    "    })\n",
    ")"
   ]
  },
  {
   "cell_type": "code",
   "execution_count": 11,
   "metadata": {},
   "outputs": [],
   "source": [
    "df['colores'] = df['colores'].str.upper()"
   ]
  },
  {
   "cell_type": "markdown",
   "metadata": {},
   "source": [
    "## Estudio de colores"
   ]
  },
  {
   "cell_type": "code",
   "execution_count": 12,
   "metadata": {},
   "outputs": [
    {
     "data": {
      "text/html": [
       "<div>\n",
       "<style scoped>\n",
       "    .dataframe tbody tr th:only-of-type {\n",
       "        vertical-align: middle;\n",
       "    }\n",
       "\n",
       "    .dataframe tbody tr th {\n",
       "        vertical-align: top;\n",
       "    }\n",
       "\n",
       "    .dataframe thead th {\n",
       "        text-align: right;\n",
       "    }\n",
       "</style>\n",
       "<table border=\"1\" class=\"dataframe\">\n",
       "  <thead>\n",
       "    <tr style=\"text-align: right;\">\n",
       "      <th></th>\n",
       "      <th>seccion</th>\n",
       "      <th>value</th>\n",
       "    </tr>\n",
       "  </thead>\n",
       "  <tbody>\n",
       "    <tr>\n",
       "      <th>3</th>\n",
       "      <td>MUJER</td>\n",
       "      <td>BLANCO</td>\n",
       "    </tr>\n",
       "    <tr>\n",
       "      <th>4</th>\n",
       "      <td>MUJER</td>\n",
       "      <td>LILA CLARO</td>\n",
       "    </tr>\n",
       "    <tr>\n",
       "      <th>5</th>\n",
       "      <td>MUJER</td>\n",
       "      <td>BLANCO</td>\n",
       "    </tr>\n",
       "    <tr>\n",
       "      <th>11</th>\n",
       "      <td>MUJER</td>\n",
       "      <td>KHAKI</td>\n",
       "    </tr>\n",
       "    <tr>\n",
       "      <th>19</th>\n",
       "      <td>MUJER</td>\n",
       "      <td>NEGRO</td>\n",
       "    </tr>\n",
       "    <tr>\n",
       "      <th>...</th>\n",
       "      <td>...</td>\n",
       "      <td>...</td>\n",
       "    </tr>\n",
       "    <tr>\n",
       "      <th>9525</th>\n",
       "      <td>HOMBRE</td>\n",
       "      <td>BEIGE</td>\n",
       "    </tr>\n",
       "    <tr>\n",
       "      <th>9530</th>\n",
       "      <td>HOMBRE</td>\n",
       "      <td>AZUL MEDIO</td>\n",
       "    </tr>\n",
       "    <tr>\n",
       "      <th>10280</th>\n",
       "      <td>HOMBRE</td>\n",
       "      <td>NEGRO</td>\n",
       "    </tr>\n",
       "    <tr>\n",
       "      <th>10460</th>\n",
       "      <td>HOMBRE</td>\n",
       "      <td>ARENA</td>\n",
       "    </tr>\n",
       "    <tr>\n",
       "      <th>10465</th>\n",
       "      <td>HOMBRE</td>\n",
       "      <td>CRUDO</td>\n",
       "    </tr>\n",
       "  </tbody>\n",
       "</table>\n",
       "<p>835 rows × 2 columns</p>\n",
       "</div>"
      ],
      "text/plain": [
       "      seccion       value\n",
       "3       MUJER      BLANCO\n",
       "4       MUJER  LILA CLARO\n",
       "5       MUJER      BLANCO\n",
       "11      MUJER       KHAKI\n",
       "19      MUJER       NEGRO\n",
       "...       ...         ...\n",
       "9525   HOMBRE       BEIGE\n",
       "9530   HOMBRE  AZUL MEDIO\n",
       "10280  HOMBRE       NEGRO\n",
       "10460  HOMBRE       ARENA\n",
       "10465  HOMBRE       CRUDO\n",
       "\n",
       "[835 rows x 2 columns]"
      ]
     },
     "execution_count": 12,
     "metadata": {},
     "output_type": "execute_result"
    }
   ],
   "source": [
    "tabla_colores = (\n",
    "    df['colores']\n",
    "    .str.replace(r'[\\[\\]\\']','',regex=True)\n",
    "    .str.replace(r'\\,\\s',',',regex=True)\n",
    "    .str.split(',',expand=True)\n",
    "    .assign(seccion = df['seccion'])\n",
    "    .melt('seccion')\n",
    "    .drop(columns='variable')\n",
    "    .dropna(subset='value')\n",
    "    .query('value != \"\"')\n",
    ")\n",
    "tabla_colores"
   ]
  },
  {
   "cell_type": "code",
   "execution_count": 13,
   "metadata": {},
   "outputs": [],
   "source": [
    "B_N = (\n",
    "    tabla_colores\n",
    "    ['value']\n",
    "    .str.contains(r'(NEGRO)|(BLANCO)',regex=True)\n",
    ")"
   ]
  },
  {
   "cell_type": "code",
   "execution_count": 14,
   "metadata": {},
   "outputs": [
    {
     "name": "stdout",
     "output_type": "stream",
     "text": [
      "Colores más frecuentes por sección (diferentes al blanco y negro)\n"
     ]
    },
    {
     "data": {
      "image/png": "[encoded data removed]",
      "text/plain": [
       "<Figure size 600x300 with 2 Axes>"
      ]
     },
     "metadata": {},
     "output_type": "display_data"
    }
   ],
   "source": [
    "df_ = (\n",
    "    tabla_colores[~B_N]\n",
    "    .groupby('seccion',as_index=False)\n",
    "    ['value']\n",
    "    .value_counts()\n",
    "    .groupby('seccion')\n",
    "    .apply(lambda x: x.nlargest(10,'count'))\n",
    ")\n",
    "grid = sns.FacetGrid(df_,col='seccion',sharex=False)\n",
    "grid.map(sns.barplot,'value','count',**kwargs)\n",
    "grid.tick_params('x',rotation=90)\n",
    "print('Colores más frecuentes por sección (diferentes al blanco y negro)')"
   ]
  },
  {
   "cell_type": "code",
   "execution_count": 15,
   "metadata": {},
   "outputs": [
    {
     "name": "stdout",
     "output_type": "stream",
     "text": [
      "Colores menos frecuentes por sección (diferentes al blanco y negro)\n",
      "   seccion           value\n",
      "0   HOMBRE  ROSA EMPOLVADO\n",
      "1   HOMBRE    VISÓN VIGORÉ\n",
      "2   HOMBRE         BOTELLA\n",
      "3   HOMBRE      GRIS MEDIO\n",
      "4   HOMBRE  CRUDO / VIGORÉ\n",
      "5   HOMBRE    CRUDO / AZUL\n",
      "6   HOMBRE           CREMA\n",
      "7   HOMBRE    CORAL FUERTE\n",
      "8   HOMBRE   CELESTE CLARO\n",
      "9   HOMBRE        CARAMELO\n",
      "10   MUJER      ROSA MEDIO\n",
      "11   MUJER      VERDE LIMA\n",
      "12   MUJER     VERDE MEDIO\n",
      "13   MUJER  TOSTADO OSCURO\n",
      "14   MUJER       ROSA TIZA\n",
      "15   MUJER     CAMEL CLARO\n",
      "16   MUJER      ROSA FLÚOR\n",
      "17   MUJER     BEIGE CLARO\n",
      "18   MUJER    ROJO BURDEOS\n",
      "19   MUJER           PLOMO\n"
     ]
    }
   ],
   "source": [
    "df_ = (\n",
    "    tabla_colores[~B_N]\n",
    "    .groupby('seccion',as_index=False)\n",
    "    ['value']\n",
    "    .value_counts()\n",
    "    .groupby('seccion')\n",
    "    .apply(lambda x: x.nsmallest(10,'count'))\n",
    "    .drop(columns='seccion')\n",
    "    .reset_index()\n",
    "    .drop(columns=['level_1','count'])\n",
    ")\n",
    "print('Colores menos frecuentes por sección (diferentes al blanco y negro)')\n",
    "print(df_)"
   ]
  },
  {
   "cell_type": "code",
   "execution_count": 16,
   "metadata": {},
   "outputs": [
    {
     "data": {
      "text/plain": [
       "<Axes: xlabel='seccion', ylabel='n_colores'>"
      ]
     },
     "execution_count": 16,
     "metadata": {},
     "output_type": "execute_result"
    },
    {
     "data": {
      "image/png": "[encoded data removed]",
      "text/plain": [
       "<Figure size 640x480 with 1 Axes>"
      ]
     },
     "metadata": {},
     "output_type": "display_data"
    }
   ],
   "source": [
    "sns.boxplot(\n",
    "    data = df,\n",
    "    x = 'seccion',\n",
    "    y = 'n_colores',\n",
    "    palette = palette\n",
    ")"
   ]
  },
  {
   "cell_type": "markdown",
   "metadata": {},
   "source": [
    "La ropa masculina tiene mayor variedad en los colores disponibles."
   ]
  },
  {
   "cell_type": "markdown",
   "metadata": {},
   "source": [
    "## Estudio de composición"
   ]
  },
  {
   "cell_type": "code",
   "execution_count": 17,
   "metadata": {},
   "outputs": [
    {
     "data": {
      "text/plain": [
       "contiene_lino\n",
       "False    0.893048\n",
       "True     0.106952\n",
       "Name: proportion, dtype: float64"
      ]
     },
     "execution_count": 17,
     "metadata": {},
     "output_type": "execute_result"
    }
   ],
   "source": [
    "df['contiene_lino'].value_counts(normalize=True)"
   ]
  },
  {
   "cell_type": "markdown",
   "metadata": {},
   "source": [
    "El `11 %` de las prendas de ropa contienen lino"
   ]
  },
  {
   "cell_type": "code",
   "execution_count": 18,
   "metadata": {},
   "outputs": [
    {
     "data": {
      "text/plain": [
       "contiene_algodon\n",
       "False    0.855615\n",
       "True     0.144385\n",
       "Name: proportion, dtype: float64"
      ]
     },
     "execution_count": 18,
     "metadata": {},
     "output_type": "execute_result"
    }
   ],
   "source": [
    "df['contiene_algodon'].value_counts(normalize=True)"
   ]
  },
  {
   "cell_type": "markdown",
   "metadata": {},
   "source": [
    "El `15 %` de las prendas de ropa contienen algodón"
   ]
  },
  {
   "cell_type": "code",
   "execution_count": 19,
   "metadata": {},
   "outputs": [
    {
     "data": {
      "text/html": [
       "<div>\n",
       "<style scoped>\n",
       "    .dataframe tbody tr th:only-of-type {\n",
       "        vertical-align: middle;\n",
       "    }\n",
       "\n",
       "    .dataframe tbody tr th {\n",
       "        vertical-align: top;\n",
       "    }\n",
       "\n",
       "    .dataframe thead th {\n",
       "        text-align: right;\n",
       "    }\n",
       "</style>\n",
       "<table border=\"1\" class=\"dataframe\">\n",
       "  <thead>\n",
       "    <tr style=\"text-align: right;\">\n",
       "      <th>seccion</th>\n",
       "      <th>HOMBRE</th>\n",
       "      <th>MUJER</th>\n",
       "    </tr>\n",
       "    <tr>\n",
       "      <th>contiene_lino</th>\n",
       "      <th></th>\n",
       "      <th></th>\n",
       "    </tr>\n",
       "  </thead>\n",
       "  <tbody>\n",
       "    <tr>\n",
       "      <th>False</th>\n",
       "      <td>0.609581</td>\n",
       "      <td>0.390419</td>\n",
       "    </tr>\n",
       "    <tr>\n",
       "      <th>True</th>\n",
       "      <td>0.560000</td>\n",
       "      <td>0.440000</td>\n",
       "    </tr>\n",
       "  </tbody>\n",
       "</table>\n",
       "</div>"
      ],
      "text/plain": [
       "seccion          HOMBRE     MUJER\n",
       "contiene_lino                    \n",
       "False          0.609581  0.390419\n",
       "True           0.560000  0.440000"
      ]
     },
     "execution_count": 19,
     "metadata": {},
     "output_type": "execute_result"
    }
   ],
   "source": [
    "pd.crosstab(\n",
    "    df['contiene_lino'],\n",
    "    df['seccion'],\n",
    "    normalize='index'\n",
    ")"
   ]
  },
  {
   "cell_type": "code",
   "execution_count": 20,
   "metadata": {},
   "outputs": [
    {
     "data": {
      "text/html": [
       "<div>\n",
       "<style scoped>\n",
       "    .dataframe tbody tr th:only-of-type {\n",
       "        vertical-align: middle;\n",
       "    }\n",
       "\n",
       "    .dataframe tbody tr th {\n",
       "        vertical-align: top;\n",
       "    }\n",
       "\n",
       "    .dataframe thead th {\n",
       "        text-align: right;\n",
       "    }\n",
       "</style>\n",
       "<table border=\"1\" class=\"dataframe\">\n",
       "  <thead>\n",
       "    <tr style=\"text-align: right;\">\n",
       "      <th>seccion</th>\n",
       "      <th>HOMBRE</th>\n",
       "      <th>MUJER</th>\n",
       "    </tr>\n",
       "    <tr>\n",
       "      <th>contiene_algodon</th>\n",
       "      <th></th>\n",
       "      <th></th>\n",
       "    </tr>\n",
       "  </thead>\n",
       "  <tbody>\n",
       "    <tr>\n",
       "      <th>False</th>\n",
       "      <td>0.565000</td>\n",
       "      <td>0.435000</td>\n",
       "    </tr>\n",
       "    <tr>\n",
       "      <th>True</th>\n",
       "      <td>0.837037</td>\n",
       "      <td>0.162963</td>\n",
       "    </tr>\n",
       "  </tbody>\n",
       "</table>\n",
       "</div>"
      ],
      "text/plain": [
       "seccion             HOMBRE     MUJER\n",
       "contiene_algodon                    \n",
       "False             0.565000  0.435000\n",
       "True              0.837037  0.162963"
      ]
     },
     "execution_count": 20,
     "metadata": {},
     "output_type": "execute_result"
    }
   ],
   "source": [
    "pd.crosstab(\n",
    "    df['contiene_algodon'],\n",
    "    df['seccion'],\n",
    "    normalize='index'\n",
    ")"
   ]
  },
  {
   "cell_type": "markdown",
   "metadata": {},
   "source": [
    "Las prendas de ropa que contienen o bien lino o bien algodón tienen más posibilidades de ser de la sección masculina."
   ]
  },
  {
   "cell_type": "code",
   "execution_count": 21,
   "metadata": {},
   "outputs": [
    {
     "data": {
      "text/plain": [
       "<Axes: xlabel='contiene_lino', ylabel='precio'>"
      ]
     },
     "execution_count": 21,
     "metadata": {},
     "output_type": "execute_result"
    },
    {
     "data": {
      "image/png": "[encoded data removed]",
      "text/plain": [
       "<Figure size 640x480 with 1 Axes>"
      ]
     },
     "metadata": {},
     "output_type": "display_data"
    }
   ],
   "source": [
    "sns.violinplot(\n",
    "    data = df,\n",
    "    x = 'contiene_lino',\n",
    "    y = 'precio',\n",
    "    palette = palette\n",
    ")"
   ]
  },
  {
   "cell_type": "markdown",
   "metadata": {},
   "source": [
    "Las prendas que contienen `lino` pueden tener precios más altos que las que no lo contienen."
   ]
  },
  {
   "cell_type": "markdown",
   "metadata": {},
   "source": [
    "## Estudio de tallas"
   ]
  },
  {
   "cell_type": "markdown",
   "metadata": {},
   "source": [
    "### Tallas extremas"
   ]
  },
  {
   "cell_type": "markdown",
   "metadata": {},
   "source": [
    "#### Tallas letras"
   ]
  },
  {
   "cell_type": "code",
   "execution_count": 22,
   "metadata": {},
   "outputs": [],
   "source": [
    "df_ = df.query('tipo_talla == \"alfabética\"')"
   ]
  },
  {
   "cell_type": "code",
   "execution_count": 23,
   "metadata": {},
   "outputs": [
    {
     "data": {
      "text/html": [
       "<div>\n",
       "<style scoped>\n",
       "    .dataframe tbody tr th:only-of-type {\n",
       "        vertical-align: middle;\n",
       "    }\n",
       "\n",
       "    .dataframe tbody tr th {\n",
       "        vertical-align: top;\n",
       "    }\n",
       "\n",
       "    .dataframe thead th {\n",
       "        text-align: right;\n",
       "    }\n",
       "</style>\n",
       "<table border=\"1\" class=\"dataframe\">\n",
       "  <thead>\n",
       "    <tr style=\"text-align: right;\">\n",
       "      <th>seccion</th>\n",
       "      <th>HOMBRE</th>\n",
       "      <th>MUJER</th>\n",
       "    </tr>\n",
       "    <tr>\n",
       "      <th>tallas</th>\n",
       "      <th></th>\n",
       "      <th></th>\n",
       "    </tr>\n",
       "  </thead>\n",
       "  <tbody>\n",
       "    <tr>\n",
       "      <th>False</th>\n",
       "      <td>0.799257</td>\n",
       "      <td>0.200743</td>\n",
       "    </tr>\n",
       "    <tr>\n",
       "      <th>True</th>\n",
       "      <td>0.004367</td>\n",
       "      <td>0.995633</td>\n",
       "    </tr>\n",
       "  </tbody>\n",
       "</table>\n",
       "</div>"
      ],
      "text/plain": [
       "seccion    HOMBRE     MUJER\n",
       "tallas                     \n",
       "False    0.799257  0.200743\n",
       "True     0.004367  0.995633"
      ]
     },
     "execution_count": 23,
     "metadata": {},
     "output_type": "execute_result"
    }
   ],
   "source": [
    "pd.crosstab(\n",
    "    df_['tallas'].str.contains('XS'),\n",
    "    df_['seccion'],\n",
    "    normalize = 'index'\n",
    ")"
   ]
  },
  {
   "cell_type": "code",
   "execution_count": 24,
   "metadata": {},
   "outputs": [
    {
     "data": {
      "text/html": [
       "<div>\n",
       "<style scoped>\n",
       "    .dataframe tbody tr th:only-of-type {\n",
       "        vertical-align: middle;\n",
       "    }\n",
       "\n",
       "    .dataframe tbody tr th {\n",
       "        vertical-align: top;\n",
       "    }\n",
       "\n",
       "    .dataframe thead th {\n",
       "        text-align: right;\n",
       "    }\n",
       "</style>\n",
       "<table border=\"1\" class=\"dataframe\">\n",
       "  <thead>\n",
       "    <tr style=\"text-align: right;\">\n",
       "      <th>seccion</th>\n",
       "      <th>HOMBRE</th>\n",
       "      <th>MUJER</th>\n",
       "    </tr>\n",
       "    <tr>\n",
       "      <th>tallas</th>\n",
       "      <th></th>\n",
       "      <th></th>\n",
       "    </tr>\n",
       "  </thead>\n",
       "  <tbody>\n",
       "    <tr>\n",
       "      <th>False</th>\n",
       "      <td>0.421384</td>\n",
       "      <td>0.578616</td>\n",
       "    </tr>\n",
       "    <tr>\n",
       "      <th>True</th>\n",
       "      <td>0.598684</td>\n",
       "      <td>0.401316</td>\n",
       "    </tr>\n",
       "  </tbody>\n",
       "</table>\n",
       "</div>"
      ],
      "text/plain": [
       "seccion    HOMBRE     MUJER\n",
       "tallas                     \n",
       "False    0.421384  0.578616\n",
       "True     0.598684  0.401316"
      ]
     },
     "execution_count": 24,
     "metadata": {},
     "output_type": "execute_result"
    }
   ],
   "source": [
    "pd.crosstab(\n",
    "    df_['tallas'].str.contains('XL'),\n",
    "    df_['seccion'],\n",
    "    normalize = 'index'\n",
    ")"
   ]
  },
  {
   "cell_type": "code",
   "execution_count": 25,
   "metadata": {},
   "outputs": [
    {
     "data": {
      "text/html": [
       "<div>\n",
       "<style scoped>\n",
       "    .dataframe tbody tr th:only-of-type {\n",
       "        vertical-align: middle;\n",
       "    }\n",
       "\n",
       "    .dataframe tbody tr th {\n",
       "        vertical-align: top;\n",
       "    }\n",
       "\n",
       "    .dataframe thead th {\n",
       "        text-align: right;\n",
       "    }\n",
       "</style>\n",
       "<table border=\"1\" class=\"dataframe\">\n",
       "  <thead>\n",
       "    <tr style=\"text-align: right;\">\n",
       "      <th>seccion</th>\n",
       "      <th>HOMBRE</th>\n",
       "      <th>MUJER</th>\n",
       "    </tr>\n",
       "    <tr>\n",
       "      <th>tallas</th>\n",
       "      <th></th>\n",
       "      <th></th>\n",
       "    </tr>\n",
       "  </thead>\n",
       "  <tbody>\n",
       "    <tr>\n",
       "      <th>False</th>\n",
       "      <td>0.593974</td>\n",
       "      <td>0.406026</td>\n",
       "    </tr>\n",
       "    <tr>\n",
       "      <th>True</th>\n",
       "      <td>0.242857</td>\n",
       "      <td>0.757143</td>\n",
       "    </tr>\n",
       "  </tbody>\n",
       "</table>\n",
       "</div>"
      ],
      "text/plain": [
       "seccion    HOMBRE     MUJER\n",
       "tallas                     \n",
       "False    0.593974  0.406026\n",
       "True     0.242857  0.757143"
      ]
     },
     "execution_count": 25,
     "metadata": {},
     "output_type": "execute_result"
    }
   ],
   "source": [
    "pd.crosstab(\n",
    "    df_['tallas'].str.contains('XXL'),\n",
    "    df_['seccion'],\n",
    "    normalize = 'index'\n",
    ")"
   ]
  },
  {
   "cell_type": "markdown",
   "metadata": {},
   "source": [
    "- Las prendas que tienen la talla `XS` disponible pertenecen casi todas a la sección femenina. \n",
    "- Las prendas con las talla `XL` disponible están en mayor equilibrio.\n",
    "- Las prendas que tienen disponible la talla `XXL` pertenecen en mayor proporción a la sección femenina, y las que no tienen esa talla disponible son en su mayoría de caballero."
   ]
  },
  {
   "cell_type": "markdown",
   "metadata": {},
   "source": [
    "### Número de tallas disponibles"
   ]
  },
  {
   "cell_type": "code",
   "execution_count": 28,
   "metadata": {},
   "outputs": [
    {
     "data": {
      "text/plain": [
       "<Axes: xlabel='seccion', ylabel='n_tallas'>"
      ]
     },
     "execution_count": 28,
     "metadata": {},
     "output_type": "execute_result"
    },
    {
     "data": {
      "image/png": "[encoded data removed]",
      "text/plain": [
       "<Figure size 640x480 with 1 Axes>"
      ]
     },
     "metadata": {},
     "output_type": "display_data"
    }
   ],
   "source": [
    "sns.boxplot(\n",
    "    data = df,\n",
    "    x = 'seccion',\n",
    "    y = 'n_tallas',\n",
    "    palette = palette\n",
    ")"
   ]
  },
  {
   "cell_type": "markdown",
   "metadata": {},
   "source": [
    "La ropa de la sección de mujer ofrece una mayor variedad de tallas."
   ]
  },
  {
   "cell_type": "markdown",
   "metadata": {},
   "source": [
    "## Palabras clave\n",
    "porcentaje de prendas cuya descripción contiene la palabra clave:"
   ]
  },
  {
   "cell_type": "code",
   "execution_count": 29,
   "metadata": {},
   "outputs": [
    {
     "data": {
      "text/plain": [
       "0.13796791443850268"
      ]
     },
     "execution_count": 29,
     "metadata": {},
     "output_type": "execute_result"
    }
   ],
   "source": [
    "# RELAXED\n",
    "df['descripcion'].str.contains('relaxed').sum() / len(df)"
   ]
  },
  {
   "cell_type": "code",
   "execution_count": 30,
   "metadata": {},
   "outputs": [
    {
     "data": {
      "text/plain": [
       "0.2887700534759358"
      ]
     },
     "execution_count": 30,
     "metadata": {},
     "output_type": "execute_result"
    }
   ],
   "source": [
    "# FIT\n",
    "df['descripcion'].str.contains('fit').sum() / len(df)"
   ]
  },
  {
   "cell_type": "code",
   "execution_count": 31,
   "metadata": {},
   "outputs": [
    {
     "data": {
      "text/plain": [
       "0.008556149732620321"
      ]
     },
     "execution_count": 31,
     "metadata": {},
     "output_type": "execute_result"
    }
   ],
   "source": [
    "# BRILLOS\n",
    "df['descripcion'].str.contains(r'brillos?',case=False).sum() / len(df)"
   ]
  },
  {
   "cell_type": "code",
   "execution_count": 32,
   "metadata": {},
   "outputs": [
    {
     "data": {
      "text/plain": [
       "0.0021390374331550803"
      ]
     },
     "execution_count": 32,
     "metadata": {},
     "output_type": "execute_result"
    }
   ],
   "source": [
    "# ESTAMPADO ANIMAL\n",
    "df['descripcion'].str.contains(r'estampado\\sanimal',case=False,regex=True).sum() / len(df)"
   ]
  },
  {
   "cell_type": "code",
   "execution_count": 33,
   "metadata": {},
   "outputs": [
    {
     "data": {
      "text/plain": [
       "0.014973262032085561"
      ]
     },
     "execution_count": 33,
     "metadata": {},
     "output_type": "execute_result"
    }
   ],
   "source": [
    "# ASIMÉTRICO\n",
    "df['descripcion'].str.contains(r'asimétric[oa]',case=False).sum() / len(df)"
   ]
  },
  {
   "cell_type": "code",
   "execution_count": 34,
   "metadata": {},
   "outputs": [
    {
     "data": {
      "text/plain": [
       "0.006417112299465241"
      ]
     },
     "execution_count": 34,
     "metadata": {},
     "output_type": "execute_result"
    }
   ],
   "source": [
    "# OVERSIZE\n",
    "df['descripcion'].str.contains(r'over\\s?size',case=False).sum() / len(df)"
   ]
  },
  {
   "cell_type": "code",
   "execution_count": 35,
   "metadata": {},
   "outputs": [
    {
     "data": {
      "text/plain": [
       "0.0053475935828877"
      ]
     },
     "execution_count": 35,
     "metadata": {},
     "output_type": "execute_result"
    }
   ],
   "source": [
    "# EFECTO ARRUGADO\n",
    "df['descripcion'].str.contains(r'efecto arrugado',case=False).sum() / len(df)"
   ]
  }
 ],
 "metadata": {
  "kernelspec": {
   "display_name": "base",
   "language": "python",
   "name": "python3"
  },
  "language_info": {
   "codemirror_mode": {
    "name": "ipython",
    "version": 3
   },
   "file_extension": ".py",
   "mimetype": "text/x-python",
   "name": "python",
   "nbconvert_exporter": "python",
   "pygments_lexer": "ipython3",
   "version": "3.11.7"
  }
 },
 "nbformat": 4,
 "nbformat_minor": 2
}

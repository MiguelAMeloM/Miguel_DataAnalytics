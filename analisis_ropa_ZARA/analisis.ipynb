{
 "cells": [
  {
   "cell_type": "code",
   "execution_count": 1,
   "metadata": {},
   "outputs": [],
   "source": [
    "import sys\n",
    "sys.path.append('../utils')\n",
    "import pandas as pd\n",
    "import matplotlib.pyplot as plt\n",
    "import seaborn as sns\n",
    "from MiguelTK import *\n",
    "import warnings\n",
    "warnings.filterwarnings('ignore')\n",
    "from sqlalchemy import create_engine"
   ]
  },
  {
   "cell_type": "code",
   "execution_count": 37,
   "metadata": {},
   "outputs": [],
   "source": [
    "with open('./utils/ruta.txt') as doc:\n",
    "    ruta = doc.read()"
   ]
  },
  {
   "cell_type": "code",
   "execution_count": 39,
   "metadata": {},
   "outputs": [],
   "source": [
    "conn = create_engine(ruta).connect()"
   ]
  },
  {
   "cell_type": "code",
   "execution_count": 40,
   "metadata": {},
   "outputs": [
    {
     "data": {
      "text/plain": [
       "<sqlalchemy.engine.cursor.LegacyCursorResult at 0x205de03ba10>"
      ]
     },
     "execution_count": 40,
     "metadata": {},
     "output_type": "execute_result"
    }
   ],
   "source": [
    "conn.execute('USE ropa_zara')"
   ]
  },
  {
   "cell_type": "markdown",
   "metadata": {},
   "source": [
    "## Limpieza y transformación de datos"
   ]
  },
  {
   "cell_type": "code",
   "execution_count": 4,
   "metadata": {},
   "outputs": [],
   "source": [
    "df = pd.read_sql('SELECT * FROM ropa;',con = conn)"
   ]
  },
  {
   "cell_type": "code",
   "execution_count": 5,
   "metadata": {},
   "outputs": [
    {
     "data": {
      "text/html": [
       "<div>\n",
       "<style scoped>\n",
       "    .dataframe tbody tr th:only-of-type {\n",
       "        vertical-align: middle;\n",
       "    }\n",
       "\n",
       "    .dataframe tbody tr th {\n",
       "        vertical-align: top;\n",
       "    }\n",
       "\n",
       "    .dataframe thead th {\n",
       "        text-align: right;\n",
       "    }\n",
       "</style>\n",
       "<table border=\"1\" class=\"dataframe\">\n",
       "  <thead>\n",
       "    <tr style=\"text-align: right;\">\n",
       "      <th></th>\n",
       "      <th>extracción</th>\n",
       "      <th>articulo</th>\n",
       "      <th>precio</th>\n",
       "      <th>descripcion</th>\n",
       "      <th>grupo_web</th>\n",
       "      <th>tallas</th>\n",
       "      <th>colores</th>\n",
       "      <th>enlace</th>\n",
       "      <th>marca</th>\n",
       "      <th>grupo</th>\n",
       "      <th>seccion</th>\n",
       "    </tr>\n",
       "  </thead>\n",
       "  <tbody>\n",
       "    <tr>\n",
       "      <th>0</th>\n",
       "      <td>2024-06-04 11:45:24.327275</td>\n",
       "      <td>PANTALÓN CHINO CINTURÓN</td>\n",
       "      <td>27.95</td>\n",
       "      <td>Pantalón de tiro alto con elástico en cintura....</td>\n",
       "      <td>V2024-MUJER-ULTIMA-SEMANA</td>\n",
       "      <td>['XS', 'S', 'M', 'L', 'XL', 'XXL']</td>\n",
       "      <td>['Marino', 'Tostado']</td>\n",
       "      <td>https://www.zara.com/es/es/pantalon-chino-cint...</td>\n",
       "      <td>ZARA</td>\n",
       "      <td>PANTALÓN</td>\n",
       "      <td>MUJER</td>\n",
       "    </tr>\n",
       "    <tr>\n",
       "      <th>1</th>\n",
       "      <td>2024-06-04 11:45:24.327275</td>\n",
       "      <td>VESTIDO CORTO CUT OUT</td>\n",
       "      <td>25.95</td>\n",
       "      <td>Vestido corto de cuello halter. Detalle de abe...</td>\n",
       "      <td>V2024-MUJER-ULTIMA-SEMANA</td>\n",
       "      <td>['XS', 'S', 'M', 'L', 'XL', 'XXL']</td>\n",
       "      <td>[]</td>\n",
       "      <td>https://www.zara.com/es/es/vestido-corto-cut-o...</td>\n",
       "      <td>ZARA</td>\n",
       "      <td>VESTIDO</td>\n",
       "      <td>MUJER</td>\n",
       "    </tr>\n",
       "    <tr>\n",
       "      <th>2</th>\n",
       "      <td>2024-06-04 11:45:24.327275</td>\n",
       "      <td>TOP CROPPED VOLANTES</td>\n",
       "      <td>22.95</td>\n",
       "      <td>Top de escote asimétrico y tirante fino. Bajo ...</td>\n",
       "      <td>V2024-MUJER-ULTIMA-SEMANA</td>\n",
       "      <td>['XS', 'S', 'M', 'L', 'XL']</td>\n",
       "      <td>[]</td>\n",
       "      <td>https://www.zara.com/es/es/top-cropped-volante...</td>\n",
       "      <td>ZARA</td>\n",
       "      <td>TOP</td>\n",
       "      <td>MUJER</td>\n",
       "    </tr>\n",
       "    <tr>\n",
       "      <th>3</th>\n",
       "      <td>2024-06-04 11:45:24.327275</td>\n",
       "      <td>ORCHID 180 ML</td>\n",
       "      <td>15.95</td>\n",
       "      <td>ZARA ORCHID EAU DE PARFUM 180 ML (6.0 FL. OZ)....</td>\n",
       "      <td>V2024-MUJER-ULTIMA-SEMANA</td>\n",
       "      <td>[]</td>\n",
       "      <td>[]</td>\n",
       "      <td>https://www.zara.com/es/es/orchid-180-ml-p2012...</td>\n",
       "      <td>ZARA</td>\n",
       "      <td>ORCHID</td>\n",
       "      <td>MUJER</td>\n",
       "    </tr>\n",
       "    <tr>\n",
       "      <th>4</th>\n",
       "      <td>2024-06-04 11:45:24.327275</td>\n",
       "      <td>VESTIDO MIDI DRAPEADO ZW COLLECTION</td>\n",
       "      <td>59.95</td>\n",
       "      <td>ZARA WOMAN COLLECTIONVestido midi confeccionad...</td>\n",
       "      <td>V2024-MUJER-ULTIMA-SEMANA</td>\n",
       "      <td>['XS', 'S', 'M', 'L']</td>\n",
       "      <td>[]</td>\n",
       "      <td>https://www.zara.com/es/es/vestido-midi-drapea...</td>\n",
       "      <td>ZARA</td>\n",
       "      <td>VESTIDO</td>\n",
       "      <td>MUJER</td>\n",
       "    </tr>\n",
       "  </tbody>\n",
       "</table>\n",
       "</div>"
      ],
      "text/plain": [
       "                   extracción                             articulo  precio  \\\n",
       "0  2024-06-04 11:45:24.327275              PANTALÓN CHINO CINTURÓN   27.95   \n",
       "1  2024-06-04 11:45:24.327275                VESTIDO CORTO CUT OUT   25.95   \n",
       "2  2024-06-04 11:45:24.327275                 TOP CROPPED VOLANTES   22.95   \n",
       "3  2024-06-04 11:45:24.327275                        ORCHID 180 ML   15.95   \n",
       "4  2024-06-04 11:45:24.327275  VESTIDO MIDI DRAPEADO ZW COLLECTION   59.95   \n",
       "\n",
       "                                         descripcion  \\\n",
       "0  Pantalón de tiro alto con elástico en cintura....   \n",
       "1  Vestido corto de cuello halter. Detalle de abe...   \n",
       "2  Top de escote asimétrico y tirante fino. Bajo ...   \n",
       "3  ZARA ORCHID EAU DE PARFUM 180 ML (6.0 FL. OZ)....   \n",
       "4  ZARA WOMAN COLLECTIONVestido midi confeccionad...   \n",
       "\n",
       "                   grupo_web                              tallas  \\\n",
       "0  V2024-MUJER-ULTIMA-SEMANA  ['XS', 'S', 'M', 'L', 'XL', 'XXL']   \n",
       "1  V2024-MUJER-ULTIMA-SEMANA  ['XS', 'S', 'M', 'L', 'XL', 'XXL']   \n",
       "2  V2024-MUJER-ULTIMA-SEMANA         ['XS', 'S', 'M', 'L', 'XL']   \n",
       "3  V2024-MUJER-ULTIMA-SEMANA                                  []   \n",
       "4  V2024-MUJER-ULTIMA-SEMANA               ['XS', 'S', 'M', 'L']   \n",
       "\n",
       "                 colores                                             enlace  \\\n",
       "0  ['Marino', 'Tostado']  https://www.zara.com/es/es/pantalon-chino-cint...   \n",
       "1                     []  https://www.zara.com/es/es/vestido-corto-cut-o...   \n",
       "2                     []  https://www.zara.com/es/es/top-cropped-volante...   \n",
       "3                     []  https://www.zara.com/es/es/orchid-180-ml-p2012...   \n",
       "4                     []  https://www.zara.com/es/es/vestido-midi-drapea...   \n",
       "\n",
       "  marca     grupo seccion  \n",
       "0  ZARA  PANTALÓN   MUJER  \n",
       "1  ZARA   VESTIDO   MUJER  \n",
       "2  ZARA       TOP   MUJER  \n",
       "3  ZARA    ORCHID   MUJER  \n",
       "4  ZARA   VESTIDO   MUJER  "
      ]
     },
     "execution_count": 5,
     "metadata": {},
     "output_type": "execute_result"
    }
   ],
   "source": [
    "df.head()"
   ]
  },
  {
   "cell_type": "code",
   "execution_count": null,
   "metadata": {},
   "outputs": [],
   "source": [
    "## Como la esctracción se ha hecho en diversas fechas, hay prendas repetidas, se van a eliminar y nos quedamos con el registro más nuevo \n"
   ]
  },
  {
   "cell_type": "code",
   "execution_count": 6,
   "metadata": {},
   "outputs": [],
   "source": [
    "df['temporada'] = df['grupo_web'].str.extract(r'^(\\w+)\\-')\n",
    "del df['grupo_web']"
   ]
  },
  {
   "cell_type": "code",
   "execution_count": 7,
   "metadata": {},
   "outputs": [],
   "source": [
    "df['n_tallas'] = df['tallas'].str.count(r'\\'(\\w+)\\'')"
   ]
  },
  {
   "cell_type": "code",
   "execution_count": 8,
   "metadata": {},
   "outputs": [],
   "source": [
    "del df['enlace']"
   ]
  },
  {
   "cell_type": "code",
   "execution_count": 9,
   "metadata": {},
   "outputs": [],
   "source": [
    "df['n_colores'] = df['colores'].str.count(r'\\'(\\w+)\\'')"
   ]
  },
  {
   "cell_type": "code",
   "execution_count": 10,
   "metadata": {},
   "outputs": [],
   "source": [
    "df['contiene_lino'] = df['descripcion'].str.contains(r'lino',case=False)"
   ]
  },
  {
   "cell_type": "code",
   "execution_count": 11,
   "metadata": {},
   "outputs": [],
   "source": [
    "df['contiene_algodon'] = df['descripcion'].str.contains(r'algodón',case=False)"
   ]
  },
  {
   "cell_type": "code",
   "execution_count": 12,
   "metadata": {},
   "outputs": [],
   "source": [
    "df['tipo_talla'] = (\n",
    "    df['tallas']\n",
    "    .str.contains(r'\\d')\n",
    "    .map({\n",
    "        True:'numérica',\n",
    "        False:'alfabética'\n",
    "    })\n",
    ")"
   ]
  },
  {
   "cell_type": "code",
   "execution_count": 13,
   "metadata": {},
   "outputs": [],
   "source": [
    "df['colores'] = df['colores'].str.upper()"
   ]
  },
  {
   "cell_type": "markdown",
   "metadata": {},
   "source": [
    "## Estudio de colores"
   ]
  },
  {
   "cell_type": "code",
   "execution_count": 14,
   "metadata": {},
   "outputs": [
    {
     "data": {
      "text/html": [
       "<div>\n",
       "<style scoped>\n",
       "    .dataframe tbody tr th:only-of-type {\n",
       "        vertical-align: middle;\n",
       "    }\n",
       "\n",
       "    .dataframe tbody tr th {\n",
       "        vertical-align: top;\n",
       "    }\n",
       "\n",
       "    .dataframe thead th {\n",
       "        text-align: right;\n",
       "    }\n",
       "</style>\n",
       "<table border=\"1\" class=\"dataframe\">\n",
       "  <thead>\n",
       "    <tr style=\"text-align: right;\">\n",
       "      <th></th>\n",
       "      <th>seccion</th>\n",
       "      <th>value</th>\n",
       "    </tr>\n",
       "  </thead>\n",
       "  <tbody>\n",
       "    <tr>\n",
       "      <th>0</th>\n",
       "      <td>MUJER</td>\n",
       "      <td>MARINO</td>\n",
       "    </tr>\n",
       "    <tr>\n",
       "      <th>9</th>\n",
       "      <td>MUJER</td>\n",
       "      <td>VERDE</td>\n",
       "    </tr>\n",
       "    <tr>\n",
       "      <th>23</th>\n",
       "      <td>MUJER</td>\n",
       "      <td>AZUL MEDIO</td>\n",
       "    </tr>\n",
       "    <tr>\n",
       "      <th>25</th>\n",
       "      <td>MUJER</td>\n",
       "      <td>BLANCO</td>\n",
       "    </tr>\n",
       "    <tr>\n",
       "      <th>36</th>\n",
       "      <td>MUJER</td>\n",
       "      <td>BLANCO</td>\n",
       "    </tr>\n",
       "    <tr>\n",
       "      <th>...</th>\n",
       "      <td>...</td>\n",
       "      <td>...</td>\n",
       "    </tr>\n",
       "    <tr>\n",
       "      <th>67251</th>\n",
       "      <td>HOMBRE</td>\n",
       "      <td>ROSA EMPOLVADO</td>\n",
       "    </tr>\n",
       "    <tr>\n",
       "      <th>68066</th>\n",
       "      <td>MUJER</td>\n",
       "      <td>NEGRO</td>\n",
       "    </tr>\n",
       "    <tr>\n",
       "      <th>72094</th>\n",
       "      <td>NINOS</td>\n",
       "      <td>VERDE</td>\n",
       "    </tr>\n",
       "    <tr>\n",
       "      <th>77753</th>\n",
       "      <td>NINOS</td>\n",
       "      <td>NARANJA</td>\n",
       "    </tr>\n",
       "    <tr>\n",
       "      <th>83412</th>\n",
       "      <td>NINOS</td>\n",
       "      <td>LILA</td>\n",
       "    </tr>\n",
       "  </tbody>\n",
       "</table>\n",
       "<p>3730 rows × 2 columns</p>\n",
       "</div>"
      ],
      "text/plain": [
       "      seccion           value\n",
       "0       MUJER          MARINO\n",
       "9       MUJER           VERDE\n",
       "23      MUJER      AZUL MEDIO\n",
       "25      MUJER          BLANCO\n",
       "36      MUJER          BLANCO\n",
       "...       ...             ...\n",
       "67251  HOMBRE  ROSA EMPOLVADO\n",
       "68066   MUJER           NEGRO\n",
       "72094   NINOS           VERDE\n",
       "77753   NINOS         NARANJA\n",
       "83412   NINOS            LILA\n",
       "\n",
       "[3730 rows x 2 columns]"
      ]
     },
     "execution_count": 14,
     "metadata": {},
     "output_type": "execute_result"
    }
   ],
   "source": [
    "tabla_colores = (\n",
    "    df['colores']\n",
    "    .str.replace(r'[\\[\\]\\']','',regex=True)\n",
    "    .str.replace(r'\\,\\s',',',regex=True)\n",
    "    .str.split(',',expand=True)\n",
    "    .assign(seccion = df['seccion'])\n",
    "    .melt('seccion')\n",
    "    .drop(columns='variable')\n",
    "    .dropna(subset='value')\n",
    "    .query('value != \"\"')\n",
    ")\n",
    "tabla_colores"
   ]
  },
  {
   "cell_type": "code",
   "execution_count": 15,
   "metadata": {},
   "outputs": [],
   "source": [
    "B_N = (\n",
    "    tabla_colores\n",
    "    ['value']\n",
    "    .str.contains(r'(NEGRO)|(BLANCO)',regex=True)\n",
    ")"
   ]
  },
  {
   "cell_type": "code",
   "execution_count": 16,
   "metadata": {},
   "outputs": [
    {
     "name": "stdout",
     "output_type": "stream",
     "text": [
      "Colores más frecuentes por sección (diferentes al blanco y negro)\n"
     ]
    },
    {
     "data": {
      "image/png": "[encoded data removed]",
      "text/plain": [
       "<Figure size 900x300 with 3 Axes>"
      ]
     },
     "metadata": {},
     "output_type": "display_data"
    }
   ],
   "source": [
    "df_ = (\n",
    "    tabla_colores[~B_N]\n",
    "    .groupby('seccion',as_index=False)\n",
    "    ['value']\n",
    "    .value_counts()\n",
    "    .groupby('seccion')\n",
    "    .apply(lambda x: x.nlargest(10,'count'))\n",
    ")\n",
    "grid = sns.FacetGrid(df_,col='seccion',sharex=False)\n",
    "grid.map(sns.barplot,'value','count',**kwargs)\n",
    "grid.tick_params('x',rotation=90)\n",
    "print('Colores más frecuentes por sección (diferentes al blanco y negro)')"
   ]
  },
  {
   "cell_type": "code",
   "execution_count": 17,
   "metadata": {},
   "outputs": [
    {
     "name": "stdout",
     "output_type": "stream",
     "text": [
      "Colores menos frecuentes por sección (diferentes al blanco y negro)\n",
      "   seccion           value\n",
      "0   HOMBRE         CEMENTO\n",
      "1   HOMBRE    KHAKI OSCURO\n",
      "2   HOMBRE           VERDE\n",
      "3   HOMBRE      VERDE GRIS\n",
      "4   HOMBRE    ROJO BURDEOS\n",
      "5   HOMBRE           RAYAS\n",
      "6   HOMBRE           MUSGO\n",
      "7   HOMBRE         VERDOSO\n",
      "8   HOMBRE     VISÓN CLARO\n",
      "9   HOMBRE       ROJO VIVO\n",
      "10   MUJER   MARRÓN OSCURO\n",
      "11   MUJER          MEDIUM\n",
      "12   MUJER          MORADO\n",
      "13   MUJER      MULTICOLOR\n",
      "14   MUJER     AZUL PASTEL\n",
      "15   MUJER  NARANJA OSCURO\n",
      "16   MUJER           FRESA\n",
      "17   MUJER   PEACH SHIMMER\n",
      "18   MUJER     ARENA CLARO\n",
      "19   MUJER     142 - TRUTH\n",
      "20   NINOS           ROSAS\n",
      "21   NINOS           FRESA\n",
      "22   NINOS       FRAMBUESA\n",
      "23   NINOS        BURGUNDY\n",
      "24   NINOS            VINO\n",
      "25   NINOS   VIOLETA MALVA\n",
      "26   NINOS     MALVA CLARO\n",
      "27   NINOS      ROJO CLARO\n",
      "28   NINOS     ROJO OSCURO\n",
      "29   NINOS          ÍNDIGO\n"
     ]
    }
   ],
   "source": [
    "df_ = (\n",
    "    tabla_colores[~B_N]\n",
    "    .groupby('seccion',as_index=False)\n",
    "    ['value']\n",
    "    .value_counts()\n",
    "    .groupby('seccion')\n",
    "    .apply(lambda x: x.nsmallest(10,'count'))\n",
    "    .drop(columns='seccion')\n",
    "    .reset_index()\n",
    "    .drop(columns=['level_1','count'])\n",
    ")\n",
    "print('Colores menos frecuentes por sección (diferentes al blanco y negro)')\n",
    "print(df_)"
   ]
  },
  {
   "cell_type": "code",
   "execution_count": 18,
   "metadata": {},
   "outputs": [
    {
     "data": {
      "text/plain": [
       "<Axes: xlabel='seccion', ylabel='n_colores'>"
      ]
     },
     "execution_count": 18,
     "metadata": {},
     "output_type": "execute_result"
    },
    {
     "data": {
      "image/png": "[encoded data removed]",
      "text/plain": [
       "<Figure size 640x480 with 1 Axes>"
      ]
     },
     "metadata": {},
     "output_type": "display_data"
    }
   ],
   "source": [
    "sns.boxplot(\n",
    "    data = df,\n",
    "    x = 'seccion',\n",
    "    y = 'n_colores',\n",
    "    palette = palette\n",
    ")"
   ]
  },
  {
   "cell_type": "markdown",
   "metadata": {},
   "source": [
    "La ropa masculina tiene mayor variedad en los colores disponibles."
   ]
  },
  {
   "cell_type": "markdown",
   "metadata": {},
   "source": [
    "## Estudio de composición"
   ]
  },
  {
   "cell_type": "code",
   "execution_count": 19,
   "metadata": {},
   "outputs": [
    {
     "data": {
      "text/plain": [
       "contiene_lino\n",
       "False    0.922955\n",
       "True     0.077045\n",
       "Name: proportion, dtype: float64"
      ]
     },
     "execution_count": 19,
     "metadata": {},
     "output_type": "execute_result"
    }
   ],
   "source": [
    "df['contiene_lino'].value_counts(normalize=True)"
   ]
  },
  {
   "cell_type": "markdown",
   "metadata": {},
   "source": [
    "El `11 %` de las prendas de ropa contienen lino"
   ]
  },
  {
   "cell_type": "code",
   "execution_count": 20,
   "metadata": {},
   "outputs": [
    {
     "data": {
      "text/plain": [
       "contiene_algodon\n",
       "False    0.908111\n",
       "True     0.091889\n",
       "Name: proportion, dtype: float64"
      ]
     },
     "execution_count": 20,
     "metadata": {},
     "output_type": "execute_result"
    }
   ],
   "source": [
    "df['contiene_algodon'].value_counts(normalize=True)"
   ]
  },
  {
   "cell_type": "markdown",
   "metadata": {},
   "source": [
    "El `15 %` de las prendas de ropa contienen algodón"
   ]
  },
  {
   "cell_type": "code",
   "execution_count": 21,
   "metadata": {},
   "outputs": [
    {
     "data": {
      "text/html": [
       "<div>\n",
       "<style scoped>\n",
       "    .dataframe tbody tr th:only-of-type {\n",
       "        vertical-align: middle;\n",
       "    }\n",
       "\n",
       "    .dataframe tbody tr th {\n",
       "        vertical-align: top;\n",
       "    }\n",
       "\n",
       "    .dataframe thead th {\n",
       "        text-align: right;\n",
       "    }\n",
       "</style>\n",
       "<table border=\"1\" class=\"dataframe\">\n",
       "  <thead>\n",
       "    <tr style=\"text-align: right;\">\n",
       "      <th>seccion</th>\n",
       "      <th>HOMBRE</th>\n",
       "      <th>MUJER</th>\n",
       "      <th>NINOS</th>\n",
       "    </tr>\n",
       "    <tr>\n",
       "      <th>contiene_lino</th>\n",
       "      <th></th>\n",
       "      <th></th>\n",
       "      <th></th>\n",
       "    </tr>\n",
       "  </thead>\n",
       "  <tbody>\n",
       "    <tr>\n",
       "      <th>False</th>\n",
       "      <td>0.102049</td>\n",
       "      <td>0.404557</td>\n",
       "      <td>0.493395</td>\n",
       "    </tr>\n",
       "    <tr>\n",
       "      <th>True</th>\n",
       "      <td>0.130734</td>\n",
       "      <td>0.594037</td>\n",
       "      <td>0.275229</td>\n",
       "    </tr>\n",
       "  </tbody>\n",
       "</table>\n",
       "</div>"
      ],
      "text/plain": [
       "seccion          HOMBRE     MUJER     NINOS\n",
       "contiene_lino                              \n",
       "False          0.102049  0.404557  0.493395\n",
       "True           0.130734  0.594037  0.275229"
      ]
     },
     "execution_count": 21,
     "metadata": {},
     "output_type": "execute_result"
    }
   ],
   "source": [
    "pd.crosstab(\n",
    "    df['contiene_lino'],\n",
    "    df['seccion'],\n",
    "    normalize='index'\n",
    ")"
   ]
  },
  {
   "cell_type": "code",
   "execution_count": 22,
   "metadata": {},
   "outputs": [
    {
     "data": {
      "text/html": [
       "<div>\n",
       "<style scoped>\n",
       "    .dataframe tbody tr th:only-of-type {\n",
       "        vertical-align: middle;\n",
       "    }\n",
       "\n",
       "    .dataframe tbody tr th {\n",
       "        vertical-align: top;\n",
       "    }\n",
       "\n",
       "    .dataframe thead th {\n",
       "        text-align: right;\n",
       "    }\n",
       "</style>\n",
       "<table border=\"1\" class=\"dataframe\">\n",
       "  <thead>\n",
       "    <tr style=\"text-align: right;\">\n",
       "      <th>seccion</th>\n",
       "      <th>HOMBRE</th>\n",
       "      <th>MUJER</th>\n",
       "      <th>NINOS</th>\n",
       "    </tr>\n",
       "    <tr>\n",
       "      <th>contiene_algodon</th>\n",
       "      <th></th>\n",
       "      <th></th>\n",
       "      <th></th>\n",
       "    </tr>\n",
       "  </thead>\n",
       "  <tbody>\n",
       "    <tr>\n",
       "      <th>False</th>\n",
       "      <td>0.088539</td>\n",
       "      <td>0.422845</td>\n",
       "      <td>0.488616</td>\n",
       "    </tr>\n",
       "    <tr>\n",
       "      <th>True</th>\n",
       "      <td>0.259615</td>\n",
       "      <td>0.382692</td>\n",
       "      <td>0.357692</td>\n",
       "    </tr>\n",
       "  </tbody>\n",
       "</table>\n",
       "</div>"
      ],
      "text/plain": [
       "seccion             HOMBRE     MUJER     NINOS\n",
       "contiene_algodon                              \n",
       "False             0.088539  0.422845  0.488616\n",
       "True              0.259615  0.382692  0.357692"
      ]
     },
     "execution_count": 22,
     "metadata": {},
     "output_type": "execute_result"
    }
   ],
   "source": [
    "pd.crosstab(\n",
    "    df['contiene_algodon'],\n",
    "    df['seccion'],\n",
    "    normalize='index'\n",
    ")"
   ]
  },
  {
   "cell_type": "markdown",
   "metadata": {},
   "source": [
    "Las prendas de ropa que contienen o bien lino o bien algodón tienen más posibilidades de ser de la sección masculina."
   ]
  },
  {
   "cell_type": "code",
   "execution_count": 23,
   "metadata": {},
   "outputs": [
    {
     "data": {
      "text/plain": [
       "<Axes: xlabel='contiene_lino', ylabel='precio'>"
      ]
     },
     "execution_count": 23,
     "metadata": {},
     "output_type": "execute_result"
    },
    {
     "data": {
      "image/png": "[encoded data removed]",
      "text/plain": [
       "<Figure size 640x480 with 1 Axes>"
      ]
     },
     "metadata": {},
     "output_type": "display_data"
    }
   ],
   "source": [
    "sns.violinplot(\n",
    "    data = df,\n",
    "    x = 'contiene_lino',\n",
    "    y = 'precio',\n",
    "    palette = palette\n",
    ")"
   ]
  },
  {
   "cell_type": "markdown",
   "metadata": {},
   "source": [
    "Las prendas que contienen `lino` pueden tener precios más altos que las que no lo contienen."
   ]
  },
  {
   "cell_type": "markdown",
   "metadata": {},
   "source": [
    "## Estudio de tallas"
   ]
  },
  {
   "cell_type": "markdown",
   "metadata": {},
   "source": [
    "### Tallas extremas"
   ]
  },
  {
   "cell_type": "markdown",
   "metadata": {},
   "source": [
    "#### Tallas letras"
   ]
  },
  {
   "cell_type": "code",
   "execution_count": 24,
   "metadata": {},
   "outputs": [],
   "source": [
    "df_ = df.query('tipo_talla == \"alfabética\"')"
   ]
  },
  {
   "cell_type": "code",
   "execution_count": 25,
   "metadata": {},
   "outputs": [
    {
     "data": {
      "text/html": [
       "<div>\n",
       "<style scoped>\n",
       "    .dataframe tbody tr th:only-of-type {\n",
       "        vertical-align: middle;\n",
       "    }\n",
       "\n",
       "    .dataframe tbody tr th {\n",
       "        vertical-align: top;\n",
       "    }\n",
       "\n",
       "    .dataframe thead th {\n",
       "        text-align: right;\n",
       "    }\n",
       "</style>\n",
       "<table border=\"1\" class=\"dataframe\">\n",
       "  <thead>\n",
       "    <tr style=\"text-align: right;\">\n",
       "      <th>seccion</th>\n",
       "      <th>HOMBRE</th>\n",
       "      <th>MUJER</th>\n",
       "      <th>NINOS</th>\n",
       "    </tr>\n",
       "    <tr>\n",
       "      <th>tallas</th>\n",
       "      <th></th>\n",
       "      <th></th>\n",
       "      <th></th>\n",
       "    </tr>\n",
       "  </thead>\n",
       "  <tbody>\n",
       "    <tr>\n",
       "      <th>False</th>\n",
       "      <td>0.288770</td>\n",
       "      <td>0.552807</td>\n",
       "      <td>0.158422</td>\n",
       "    </tr>\n",
       "    <tr>\n",
       "      <th>True</th>\n",
       "      <td>0.003779</td>\n",
       "      <td>0.988662</td>\n",
       "      <td>0.007559</td>\n",
       "    </tr>\n",
       "  </tbody>\n",
       "</table>\n",
       "</div>"
      ],
      "text/plain": [
       "seccion    HOMBRE     MUJER     NINOS\n",
       "tallas                               \n",
       "False    0.288770  0.552807  0.158422\n",
       "True     0.003779  0.988662  0.007559"
      ]
     },
     "execution_count": 25,
     "metadata": {},
     "output_type": "execute_result"
    }
   ],
   "source": [
    "pd.crosstab(\n",
    "    df_['tallas'].str.contains('XS'),\n",
    "    df_['seccion'],\n",
    "    normalize = 'index'\n",
    ")"
   ]
  },
  {
   "cell_type": "code",
   "execution_count": 26,
   "metadata": {},
   "outputs": [
    {
     "data": {
      "text/html": [
       "<div>\n",
       "<style scoped>\n",
       "    .dataframe tbody tr th:only-of-type {\n",
       "        vertical-align: middle;\n",
       "    }\n",
       "\n",
       "    .dataframe tbody tr th {\n",
       "        vertical-align: top;\n",
       "    }\n",
       "\n",
       "    .dataframe thead th {\n",
       "        text-align: right;\n",
       "    }\n",
       "</style>\n",
       "<table border=\"1\" class=\"dataframe\">\n",
       "  <thead>\n",
       "    <tr style=\"text-align: right;\">\n",
       "      <th>seccion</th>\n",
       "      <th>HOMBRE</th>\n",
       "      <th>MUJER</th>\n",
       "      <th>NINOS</th>\n",
       "    </tr>\n",
       "    <tr>\n",
       "      <th>tallas</th>\n",
       "      <th></th>\n",
       "      <th></th>\n",
       "      <th></th>\n",
       "    </tr>\n",
       "  </thead>\n",
       "  <tbody>\n",
       "    <tr>\n",
       "      <th>False</th>\n",
       "      <td>0.080717</td>\n",
       "      <td>0.697758</td>\n",
       "      <td>0.221525</td>\n",
       "    </tr>\n",
       "    <tr>\n",
       "      <th>True</th>\n",
       "      <td>0.203638</td>\n",
       "      <td>0.796362</td>\n",
       "      <td>0.000000</td>\n",
       "    </tr>\n",
       "  </tbody>\n",
       "</table>\n",
       "</div>"
      ],
      "text/plain": [
       "seccion    HOMBRE     MUJER     NINOS\n",
       "tallas                               \n",
       "False    0.080717  0.697758  0.221525\n",
       "True     0.203638  0.796362  0.000000"
      ]
     },
     "execution_count": 26,
     "metadata": {},
     "output_type": "execute_result"
    }
   ],
   "source": [
    "pd.crosstab(\n",
    "    df_['tallas'].str.contains('XL'),\n",
    "    df_['seccion'],\n",
    "    normalize = 'index'\n",
    ")"
   ]
  },
  {
   "cell_type": "code",
   "execution_count": 27,
   "metadata": {},
   "outputs": [
    {
     "data": {
      "text/html": [
       "<div>\n",
       "<style scoped>\n",
       "    .dataframe tbody tr th:only-of-type {\n",
       "        vertical-align: middle;\n",
       "    }\n",
       "\n",
       "    .dataframe tbody tr th {\n",
       "        vertical-align: top;\n",
       "    }\n",
       "\n",
       "    .dataframe thead th {\n",
       "        text-align: right;\n",
       "    }\n",
       "</style>\n",
       "<table border=\"1\" class=\"dataframe\">\n",
       "  <thead>\n",
       "    <tr style=\"text-align: right;\">\n",
       "      <th>seccion</th>\n",
       "      <th>HOMBRE</th>\n",
       "      <th>MUJER</th>\n",
       "      <th>NINOS</th>\n",
       "    </tr>\n",
       "    <tr>\n",
       "      <th>tallas</th>\n",
       "      <th></th>\n",
       "      <th></th>\n",
       "      <th></th>\n",
       "    </tr>\n",
       "  </thead>\n",
       "  <tbody>\n",
       "    <tr>\n",
       "      <th>False</th>\n",
       "      <td>0.178987</td>\n",
       "      <td>0.718439</td>\n",
       "      <td>0.102575</td>\n",
       "    </tr>\n",
       "    <tr>\n",
       "      <th>True</th>\n",
       "      <td>0.014599</td>\n",
       "      <td>0.985401</td>\n",
       "      <td>0.000000</td>\n",
       "    </tr>\n",
       "  </tbody>\n",
       "</table>\n",
       "</div>"
      ],
      "text/plain": [
       "seccion    HOMBRE     MUJER     NINOS\n",
       "tallas                               \n",
       "False    0.178987  0.718439  0.102575\n",
       "True     0.014599  0.985401  0.000000"
      ]
     },
     "execution_count": 27,
     "metadata": {},
     "output_type": "execute_result"
    }
   ],
   "source": [
    "pd.crosstab(\n",
    "    df_['tallas'].str.contains('XXL'),\n",
    "    df_['seccion'],\n",
    "    normalize = 'index'\n",
    ")"
   ]
  },
  {
   "cell_type": "markdown",
   "metadata": {},
   "source": [
    "- Las prendas que tienen la talla `XS` disponible pertenecen casi todas a la sección femenina. \n",
    "- Las prendas con las talla `XL` disponible están en mayor equilibrio.\n",
    "- Las prendas que tienen disponible la talla `XXL` pertenecen en mayor proporción a la sección femenina, y las que no tienen esa talla disponible son en su mayoría de caballero."
   ]
  },
  {
   "cell_type": "markdown",
   "metadata": {},
   "source": [
    "### Número de tallas disponibles"
   ]
  },
  {
   "cell_type": "code",
   "execution_count": 28,
   "metadata": {},
   "outputs": [
    {
     "data": {
      "text/plain": [
       "<Axes: xlabel='seccion', ylabel='n_tallas'>"
      ]
     },
     "execution_count": 28,
     "metadata": {},
     "output_type": "execute_result"
    },
    {
     "data": {
      "image/png": "[encoded data removed]",
      "text/plain": [
       "<Figure size 640x480 with 1 Axes>"
      ]
     },
     "metadata": {},
     "output_type": "display_data"
    }
   ],
   "source": [
    "sns.boxplot(\n",
    "    data = df,\n",
    "    x = 'seccion',\n",
    "    y = 'n_tallas',\n",
    "    palette = palette\n",
    ")"
   ]
  },
  {
   "cell_type": "markdown",
   "metadata": {},
   "source": [
    "La ropa de la sección de mujer ofrece una mayor variedad de tallas."
   ]
  },
  {
   "cell_type": "markdown",
   "metadata": {},
   "source": [
    "## Palabras clave\n",
    "porcentaje de prendas cuya descripción contiene la palabra clave:"
   ]
  },
  {
   "cell_type": "code",
   "execution_count": 29,
   "metadata": {},
   "outputs": [
    {
     "data": {
      "text/plain": [
       "0.02738999823290334"
      ]
     },
     "execution_count": 29,
     "metadata": {},
     "output_type": "execute_result"
    }
   ],
   "source": [
    "# RELAXED\n",
    "df['descripcion'].str.contains('relaxed',case=False).sum() / len(df)"
   ]
  },
  {
   "cell_type": "code",
   "execution_count": 30,
   "metadata": {},
   "outputs": [
    {
     "data": {
      "text/plain": [
       "0.10196147729280791"
      ]
     },
     "execution_count": 30,
     "metadata": {},
     "output_type": "execute_result"
    }
   ],
   "source": [
    "# FIT\n",
    "df['descripcion'].str.contains('fit',case=False).sum() / len(df)"
   ]
  },
  {
   "cell_type": "code",
   "execution_count": 31,
   "metadata": {},
   "outputs": [
    {
     "data": {
      "text/plain": [
       "0.010779289627142604"
      ]
     },
     "execution_count": 31,
     "metadata": {},
     "output_type": "execute_result"
    }
   ],
   "source": [
    "# BRILLOS\n",
    "df['descripcion'].str.contains(r'brillos?',case=False).sum() / len(df)"
   ]
  },
  {
   "cell_type": "code",
   "execution_count": 32,
   "metadata": {},
   "outputs": [
    {
     "data": {
      "text/plain": [
       "0.004417741650468281"
      ]
     },
     "execution_count": 32,
     "metadata": {},
     "output_type": "execute_result"
    }
   ],
   "source": [
    "# ESTAMPADO ANIMAL\n",
    "df['descripcion'].str.contains(r'estampado\\sanimal',case=False,regex=True).sum() / len(df)"
   ]
  },
  {
   "cell_type": "code",
   "execution_count": 33,
   "metadata": {},
   "outputs": [
    {
     "data": {
      "text/plain": [
       "0.013960063615479766"
      ]
     },
     "execution_count": 33,
     "metadata": {},
     "output_type": "execute_result"
    }
   ],
   "source": [
    "# ASIMÉTRICO\n",
    "df['descripcion'].str.contains(r'asimétric[oa]',case=False).sum() / len(df)"
   ]
  },
  {
   "cell_type": "code",
   "execution_count": 34,
   "metadata": {},
   "outputs": [
    {
     "data": {
      "text/plain": [
       "0.004417741650468281"
      ]
     },
     "execution_count": 34,
     "metadata": {},
     "output_type": "execute_result"
    }
   ],
   "source": [
    "# OVERSIZE\n",
    "df['descripcion'].str.contains(r'over\\s?size',case=False).sum() / len(df)"
   ]
  },
  {
   "cell_type": "code",
   "execution_count": 35,
   "metadata": {},
   "outputs": [
    {
     "data": {
      "text/plain": [
       "0.00424103198444955"
      ]
     },
     "execution_count": 35,
     "metadata": {},
     "output_type": "execute_result"
    }
   ],
   "source": [
    "# EFECTO ARRUGADO\n",
    "df['descripcion'].str.contains(r'efecto arrugado',case=False).sum() / len(df)"
   ]
  }
 ],
 "metadata": {
  "kernelspec": {
   "display_name": "base",
   "language": "python",
   "name": "python3"
  },
  "language_info": {
   "codemirror_mode": {
    "name": "ipython",
    "version": 3
   },
   "file_extension": ".py",
   "mimetype": "text/x-python",
   "name": "python",
   "nbconvert_exporter": "python",
   "pygments_lexer": "ipython3",
   "version": "3.11.7"
  }
 },
 "nbformat": 4,
 "nbformat_minor": 2
}

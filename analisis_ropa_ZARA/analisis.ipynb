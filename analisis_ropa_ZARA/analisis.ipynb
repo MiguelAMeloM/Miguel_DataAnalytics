{
 "cells": [
  {
   "cell_type": "code",
   "execution_count": 1,
   "metadata": {},
   "outputs": [],
   "source": [
    "import sys\n",
    "sys.path.append('../utils')\n",
    "import pandas as pd\n",
    "import matplotlib.pyplot as plt\n",
    "import seaborn as sns\n",
    "from MiguelTK import *\n",
    "import warnings\n",
    "warnings.filterwarnings('ignore')"
   ]
  },
  {
   "cell_type": "markdown",
   "metadata": {},
   "source": [
    "## Limpieza y transformación de datos"
   ]
  },
  {
   "cell_type": "code",
   "execution_count": 2,
   "metadata": {},
   "outputs": [],
   "source": [
    "df = pd.read_csv('data/ZARA_db.csv')"
   ]
  },
  {
   "cell_type": "code",
   "execution_count": 3,
   "metadata": {},
   "outputs": [
    {
     "data": {
      "text/html": [
       "<div>\n",
       "<style scoped>\n",
       "    .dataframe tbody tr th:only-of-type {\n",
       "        vertical-align: middle;\n",
       "    }\n",
       "\n",
       "    .dataframe tbody tr th {\n",
       "        vertical-align: top;\n",
       "    }\n",
       "\n",
       "    .dataframe thead th {\n",
       "        text-align: right;\n",
       "    }\n",
       "</style>\n",
       "<table border=\"1\" class=\"dataframe\">\n",
       "  <thead>\n",
       "    <tr style=\"text-align: right;\">\n",
       "      <th></th>\n",
       "      <th>extracción</th>\n",
       "      <th>articulo</th>\n",
       "      <th>precio</th>\n",
       "      <th>descripcion</th>\n",
       "      <th>grupo_web</th>\n",
       "      <th>tallas</th>\n",
       "      <th>colores</th>\n",
       "      <th>enlace</th>\n",
       "      <th>marca</th>\n",
       "      <th>grupo</th>\n",
       "      <th>seccion</th>\n",
       "    </tr>\n",
       "  </thead>\n",
       "  <tbody>\n",
       "    <tr>\n",
       "      <th>0</th>\n",
       "      <td>2024-05-26 22:07:01.568835</td>\n",
       "      <td>CHAQUETA PUNTO BOTÓN FLOR</td>\n",
       "      <td>27.95</td>\n",
       "      <td>Chaqueta de escote pico y manga por debajo del...</td>\n",
       "      <td>V2024-MUJER-ULTIMA-SEMANA</td>\n",
       "      <td>['XS', 'S', 'M', 'L']</td>\n",
       "      <td>[]</td>\n",
       "      <td>https://www.zara.com/es/es/chaqueta-punto-boto...</td>\n",
       "      <td>ZARA</td>\n",
       "      <td>CHAQUETA</td>\n",
       "      <td>MUJER</td>\n",
       "    </tr>\n",
       "    <tr>\n",
       "      <th>1</th>\n",
       "      <td>2024-05-26 22:07:01.568835</td>\n",
       "      <td>PANTALÓN VUELTA BAJO ZW COLLECTION</td>\n",
       "      <td>39.95</td>\n",
       "      <td>ZARA WOMAN COLLECTIONPantalón de tiro medio y ...</td>\n",
       "      <td>V2024-MUJER-ULTIMA-SEMANA</td>\n",
       "      <td>['XS', 'S', 'M', 'L', 'XL']</td>\n",
       "      <td>[]</td>\n",
       "      <td>https://www.zara.com/es/es/pantalon-vuelta-baj...</td>\n",
       "      <td>ZARA</td>\n",
       "      <td>PANTALÓN</td>\n",
       "      <td>MUJER</td>\n",
       "    </tr>\n",
       "    <tr>\n",
       "      <th>2</th>\n",
       "      <td>2024-05-26 22:07:01.568835</td>\n",
       "      <td>BODY TUL ESTAMPADO ANIMAL</td>\n",
       "      <td>15.95</td>\n",
       "      <td>Cebra | 5039/509</td>\n",
       "      <td>V2024-MUJER-ULTIMA-SEMANA</td>\n",
       "      <td>['S', 'M', 'L']</td>\n",
       "      <td>[]</td>\n",
       "      <td>https://www.zara.com/es/es/body-tul-estampado-...</td>\n",
       "      <td>ZARA</td>\n",
       "      <td>BODY</td>\n",
       "      <td>MUJER</td>\n",
       "    </tr>\n",
       "    <tr>\n",
       "      <th>3</th>\n",
       "      <td>2024-05-26 22:07:01.568835</td>\n",
       "      <td>VESTIDO MINI LENCERO</td>\n",
       "      <td>35.95</td>\n",
       "      <td>Vestido de escote pico y tirantes. Forro inter...</td>\n",
       "      <td>V2024-MUJER-ULTIMA-SEMANA</td>\n",
       "      <td>['XS', 'S', 'M', 'L', 'XL']</td>\n",
       "      <td>[]</td>\n",
       "      <td>https://www.zara.com/es/es/vestido-mini-lencer...</td>\n",
       "      <td>ZARA</td>\n",
       "      <td>VESTIDO</td>\n",
       "      <td>MUJER</td>\n",
       "    </tr>\n",
       "    <tr>\n",
       "      <th>4</th>\n",
       "      <td>2024-05-26 22:07:01.568835</td>\n",
       "      <td>PANTALÓN RECTO JACQUARD</td>\n",
       "      <td>39.95</td>\n",
       "      <td>Pantalón de tiro alto con cintura elástica en ...</td>\n",
       "      <td>V2024-MUJER-ULTIMA-SEMANA</td>\n",
       "      <td>['XS', 'S', 'M', 'L', 'XL']</td>\n",
       "      <td>[]</td>\n",
       "      <td>https://www.zara.com/es/es/pantalon-recto-jacq...</td>\n",
       "      <td>ZARA</td>\n",
       "      <td>PANTALÓN</td>\n",
       "      <td>MUJER</td>\n",
       "    </tr>\n",
       "  </tbody>\n",
       "</table>\n",
       "</div>"
      ],
      "text/plain": [
       "                   extracción                            articulo  precio  \\\n",
       "0  2024-05-26 22:07:01.568835           CHAQUETA PUNTO BOTÓN FLOR   27.95   \n",
       "1  2024-05-26 22:07:01.568835  PANTALÓN VUELTA BAJO ZW COLLECTION   39.95   \n",
       "2  2024-05-26 22:07:01.568835           BODY TUL ESTAMPADO ANIMAL   15.95   \n",
       "3  2024-05-26 22:07:01.568835                VESTIDO MINI LENCERO   35.95   \n",
       "4  2024-05-26 22:07:01.568835             PANTALÓN RECTO JACQUARD   39.95   \n",
       "\n",
       "                                         descripcion  \\\n",
       "0  Chaqueta de escote pico y manga por debajo del...   \n",
       "1  ZARA WOMAN COLLECTIONPantalón de tiro medio y ...   \n",
       "2                                   Cebra | 5039/509   \n",
       "3  Vestido de escote pico y tirantes. Forro inter...   \n",
       "4  Pantalón de tiro alto con cintura elástica en ...   \n",
       "\n",
       "                   grupo_web                       tallas colores  \\\n",
       "0  V2024-MUJER-ULTIMA-SEMANA        ['XS', 'S', 'M', 'L']      []   \n",
       "1  V2024-MUJER-ULTIMA-SEMANA  ['XS', 'S', 'M', 'L', 'XL']      []   \n",
       "2  V2024-MUJER-ULTIMA-SEMANA              ['S', 'M', 'L']      []   \n",
       "3  V2024-MUJER-ULTIMA-SEMANA  ['XS', 'S', 'M', 'L', 'XL']      []   \n",
       "4  V2024-MUJER-ULTIMA-SEMANA  ['XS', 'S', 'M', 'L', 'XL']      []   \n",
       "\n",
       "                                              enlace marca     grupo seccion  \n",
       "0  https://www.zara.com/es/es/chaqueta-punto-boto...  ZARA  CHAQUETA   MUJER  \n",
       "1  https://www.zara.com/es/es/pantalon-vuelta-baj...  ZARA  PANTALÓN   MUJER  \n",
       "2  https://www.zara.com/es/es/body-tul-estampado-...  ZARA      BODY   MUJER  \n",
       "3  https://www.zara.com/es/es/vestido-mini-lencer...  ZARA   VESTIDO   MUJER  \n",
       "4  https://www.zara.com/es/es/pantalon-recto-jacq...  ZARA  PANTALÓN   MUJER  "
      ]
     },
     "execution_count": 3,
     "metadata": {},
     "output_type": "execute_result"
    }
   ],
   "source": [
    "df.head()"
   ]
  },
  {
   "cell_type": "code",
   "execution_count": 4,
   "metadata": {},
   "outputs": [],
   "source": [
    "df['temporada'] = df['grupo_web'].str.extract(r'^(\\w+)\\-')\n",
    "del df['grupo_web']"
   ]
  },
  {
   "cell_type": "code",
   "execution_count": 5,
   "metadata": {},
   "outputs": [],
   "source": [
    "df['n_tallas'] = df['tallas'].str.count(r'\\'(\\w+)\\'')"
   ]
  },
  {
   "cell_type": "code",
   "execution_count": 6,
   "metadata": {},
   "outputs": [],
   "source": [
    "del df['enlace']"
   ]
  },
  {
   "cell_type": "code",
   "execution_count": 7,
   "metadata": {},
   "outputs": [],
   "source": [
    "df['n_colores'] = df['colores'].str.count(r'\\'(\\w+)\\'')"
   ]
  },
  {
   "cell_type": "code",
   "execution_count": 8,
   "metadata": {},
   "outputs": [],
   "source": [
    "df['contiene_lino'] = df['descripcion'].str.contains(r'lino',case=False)"
   ]
  },
  {
   "cell_type": "code",
   "execution_count": 9,
   "metadata": {},
   "outputs": [],
   "source": [
    "df['contiene_algodon'] = df['descripcion'].str.contains(r'algodón',case=False)"
   ]
  },
  {
   "cell_type": "code",
   "execution_count": 10,
   "metadata": {},
   "outputs": [],
   "source": [
    "df['tipo_talla'] = (\n",
    "    df['tallas']\n",
    "    .str.contains(r'\\d')\n",
    "    .map({\n",
    "        True:'numérica',\n",
    "        False:'alfabética'\n",
    "    })\n",
    ")"
   ]
  },
  {
   "cell_type": "code",
   "execution_count": 11,
   "metadata": {},
   "outputs": [],
   "source": [
    "df['colores'] = df['colores'].str.upper()"
   ]
  },
  {
   "cell_type": "markdown",
   "metadata": {},
   "source": [
    "## Estudio de colores"
   ]
  },
  {
   "cell_type": "code",
   "execution_count": 12,
   "metadata": {},
   "outputs": [
    {
     "data": {
      "text/html": [
       "<div>\n",
       "<style scoped>\n",
       "    .dataframe tbody tr th:only-of-type {\n",
       "        vertical-align: middle;\n",
       "    }\n",
       "\n",
       "    .dataframe tbody tr th {\n",
       "        vertical-align: top;\n",
       "    }\n",
       "\n",
       "    .dataframe thead th {\n",
       "        text-align: right;\n",
       "    }\n",
       "</style>\n",
       "<table border=\"1\" class=\"dataframe\">\n",
       "  <thead>\n",
       "    <tr style=\"text-align: right;\">\n",
       "      <th></th>\n",
       "      <th>seccion</th>\n",
       "      <th>value</th>\n",
       "    </tr>\n",
       "  </thead>\n",
       "  <tbody>\n",
       "    <tr>\n",
       "      <th>7</th>\n",
       "      <td>MUJER</td>\n",
       "      <td>BEIGE CLARO</td>\n",
       "    </tr>\n",
       "    <tr>\n",
       "      <th>12</th>\n",
       "      <td>MUJER</td>\n",
       "      <td>NEGRO</td>\n",
       "    </tr>\n",
       "    <tr>\n",
       "      <th>15</th>\n",
       "      <td>MUJER</td>\n",
       "      <td>PLATA</td>\n",
       "    </tr>\n",
       "    <tr>\n",
       "      <th>21</th>\n",
       "      <td>MUJER</td>\n",
       "      <td>BLANCO</td>\n",
       "    </tr>\n",
       "    <tr>\n",
       "      <th>26</th>\n",
       "      <td>MUJER</td>\n",
       "      <td>BLANCO</td>\n",
       "    </tr>\n",
       "    <tr>\n",
       "      <th>...</th>\n",
       "      <td>...</td>\n",
       "      <td>...</td>\n",
       "    </tr>\n",
       "    <tr>\n",
       "      <th>5658</th>\n",
       "      <td>MUJER</td>\n",
       "      <td>CRUDO / AZUL</td>\n",
       "    </tr>\n",
       "    <tr>\n",
       "      <th>6289</th>\n",
       "      <td>MUJER</td>\n",
       "      <td>CAVA</td>\n",
       "    </tr>\n",
       "    <tr>\n",
       "      <th>6920</th>\n",
       "      <td>MUJER</td>\n",
       "      <td>KHAKI</td>\n",
       "    </tr>\n",
       "    <tr>\n",
       "      <th>7551</th>\n",
       "      <td>MUJER</td>\n",
       "      <td>MULTICOLOR</td>\n",
       "    </tr>\n",
       "    <tr>\n",
       "      <th>8182</th>\n",
       "      <td>MUJER</td>\n",
       "      <td>NEGRO</td>\n",
       "    </tr>\n",
       "  </tbody>\n",
       "</table>\n",
       "<p>415 rows × 2 columns</p>\n",
       "</div>"
      ],
      "text/plain": [
       "     seccion         value\n",
       "7      MUJER   BEIGE CLARO\n",
       "12     MUJER         NEGRO\n",
       "15     MUJER         PLATA\n",
       "21     MUJER        BLANCO\n",
       "26     MUJER        BLANCO\n",
       "...      ...           ...\n",
       "5658   MUJER  CRUDO / AZUL\n",
       "6289   MUJER          CAVA\n",
       "6920   MUJER         KHAKI\n",
       "7551   MUJER    MULTICOLOR\n",
       "8182   MUJER         NEGRO\n",
       "\n",
       "[415 rows x 2 columns]"
      ]
     },
     "execution_count": 12,
     "metadata": {},
     "output_type": "execute_result"
    }
   ],
   "source": [
    "tabla_colores = (\n",
    "    df['colores']\n",
    "    .str.replace(r'[\\[\\]\\']','',regex=True)\n",
    "    .str.replace(r'\\,\\s',',',regex=True)\n",
    "    .str.split(',',expand=True)\n",
    "    .assign(seccion = df['seccion'])\n",
    "    .melt('seccion')\n",
    "    .drop(columns='variable')\n",
    "    .dropna(subset='value')\n",
    "    .query('value != \"\"')\n",
    ")\n",
    "tabla_colores"
   ]
  },
  {
   "cell_type": "code",
   "execution_count": 13,
   "metadata": {},
   "outputs": [],
   "source": [
    "B_N = (\n",
    "    tabla_colores\n",
    "    ['value']\n",
    "    .str.contains(r'(NEGRO)|(BLANCO)',regex=True)\n",
    ")"
   ]
  },
  {
   "cell_type": "code",
   "execution_count": 14,
   "metadata": {},
   "outputs": [
    {
     "name": "stdout",
     "output_type": "stream",
     "text": [
      "Colores más frecuentes por sección (diferentes al blanco y negro)\n"
     ]
    },
    {
     "data": {
      "image/png": "[encoded data removed]",
      "text/plain": [
       "<Figure size 300x300 with 1 Axes>"
      ]
     },
     "metadata": {},
     "output_type": "display_data"
    }
   ],
   "source": [
    "df_ = (\n",
    "    tabla_colores[~B_N]\n",
    "    .groupby('seccion',as_index=False)\n",
    "    ['value']\n",
    "    .value_counts()\n",
    "    .groupby('seccion')\n",
    "    .apply(lambda x: x.nlargest(10,'count'))\n",
    ")\n",
    "grid = sns.FacetGrid(df_,col='seccion',sharex=False)\n",
    "grid.map(sns.barplot,'value','count',**kwargs)\n",
    "grid.tick_params('x',rotation=90)\n",
    "print('Colores más frecuentes por sección (diferentes al blanco y negro)')"
   ]
  },
  {
   "cell_type": "code",
   "execution_count": 15,
   "metadata": {},
   "outputs": [
    {
     "name": "stdout",
     "output_type": "stream",
     "text": [
      "Colores menos frecuentes por sección (diferentes al blanco y negro)\n",
      "  seccion             value\n",
      "0   MUJER      ARENA/MARRÓN\n",
      "1   MUJER               TAN\n",
      "2   MUJER            TABACO\n",
      "3   MUJER       SOLAR GLAZE\n",
      "4   MUJER           APRICOT\n",
      "5   MUJER         ROSA TIZA\n",
      "6   MUJER      FUCSIA CLARO\n",
      "7   MUJER  ANTRACITA OSCURO\n",
      "8   MUJER        ROSA MEDIO\n",
      "9   MUJER     AZUL / MARINO\n"
     ]
    }
   ],
   "source": [
    "df_ = (\n",
    "    tabla_colores[~B_N]\n",
    "    .groupby('seccion',as_index=False)\n",
    "    ['value']\n",
    "    .value_counts()\n",
    "    .groupby('seccion')\n",
    "    .apply(lambda x: x.nsmallest(10,'count'))\n",
    "    .drop(columns='seccion')\n",
    "    .reset_index()\n",
    "    .drop(columns=['level_1','count'])\n",
    ")\n",
    "print('Colores menos frecuentes por sección (diferentes al blanco y negro)')\n",
    "print(df_)"
   ]
  },
  {
   "cell_type": "code",
   "execution_count": 16,
   "metadata": {},
   "outputs": [
    {
     "data": {
      "text/plain": [
       "<Axes: xlabel='seccion', ylabel='n_colores'>"
      ]
     },
     "execution_count": 16,
     "metadata": {},
     "output_type": "execute_result"
    },
    {
     "data": {
      "image/png": "[encoded data removed]",
      "text/plain": [
       "<Figure size 640x480 with 1 Axes>"
      ]
     },
     "metadata": {},
     "output_type": "display_data"
    }
   ],
   "source": [
    "sns.boxplot(\n",
    "    data = df,\n",
    "    x = 'seccion',\n",
    "    y = 'n_colores',\n",
    "    palette = palette\n",
    ")"
   ]
  },
  {
   "cell_type": "markdown",
   "metadata": {},
   "source": [
    "La ropa masculina tiene mayor variedad en los colores disponibles."
   ]
  },
  {
   "cell_type": "markdown",
   "metadata": {},
   "source": [
    "## Estudio de composición"
   ]
  },
  {
   "cell_type": "code",
   "execution_count": 17,
   "metadata": {},
   "outputs": [
    {
     "data": {
      "text/plain": [
       "contiene_lino\n",
       "False    0.889065\n",
       "True     0.110935\n",
       "Name: proportion, dtype: float64"
      ]
     },
     "execution_count": 17,
     "metadata": {},
     "output_type": "execute_result"
    }
   ],
   "source": [
    "df['contiene_lino'].value_counts(normalize=True)"
   ]
  },
  {
   "cell_type": "markdown",
   "metadata": {},
   "source": [
    "El `11 %` de las prendas de ropa contienen lino"
   ]
  },
  {
   "cell_type": "code",
   "execution_count": 18,
   "metadata": {},
   "outputs": [
    {
     "data": {
      "text/plain": [
       "contiene_algodon\n",
       "False    0.914422\n",
       "True     0.085578\n",
       "Name: proportion, dtype: float64"
      ]
     },
     "execution_count": 18,
     "metadata": {},
     "output_type": "execute_result"
    }
   ],
   "source": [
    "df['contiene_algodon'].value_counts(normalize=True)"
   ]
  },
  {
   "cell_type": "markdown",
   "metadata": {},
   "source": [
    "El `15 %` de las prendas de ropa contienen algodón"
   ]
  },
  {
   "cell_type": "code",
   "execution_count": 19,
   "metadata": {},
   "outputs": [
    {
     "data": {
      "text/html": [
       "<div>\n",
       "<style scoped>\n",
       "    .dataframe tbody tr th:only-of-type {\n",
       "        vertical-align: middle;\n",
       "    }\n",
       "\n",
       "    .dataframe tbody tr th {\n",
       "        vertical-align: top;\n",
       "    }\n",
       "\n",
       "    .dataframe thead th {\n",
       "        text-align: right;\n",
       "    }\n",
       "</style>\n",
       "<table border=\"1\" class=\"dataframe\">\n",
       "  <thead>\n",
       "    <tr style=\"text-align: right;\">\n",
       "      <th>seccion</th>\n",
       "      <th>MUJER</th>\n",
       "    </tr>\n",
       "    <tr>\n",
       "      <th>contiene_lino</th>\n",
       "      <th></th>\n",
       "    </tr>\n",
       "  </thead>\n",
       "  <tbody>\n",
       "    <tr>\n",
       "      <th>False</th>\n",
       "      <td>1.0</td>\n",
       "    </tr>\n",
       "    <tr>\n",
       "      <th>True</th>\n",
       "      <td>1.0</td>\n",
       "    </tr>\n",
       "  </tbody>\n",
       "</table>\n",
       "</div>"
      ],
      "text/plain": [
       "seccion        MUJER\n",
       "contiene_lino       \n",
       "False            1.0\n",
       "True             1.0"
      ]
     },
     "execution_count": 19,
     "metadata": {},
     "output_type": "execute_result"
    }
   ],
   "source": [
    "pd.crosstab(\n",
    "    df['contiene_lino'],\n",
    "    df['seccion'],\n",
    "    normalize='index'\n",
    ")"
   ]
  },
  {
   "cell_type": "code",
   "execution_count": 20,
   "metadata": {},
   "outputs": [
    {
     "data": {
      "text/html": [
       "<div>\n",
       "<style scoped>\n",
       "    .dataframe tbody tr th:only-of-type {\n",
       "        vertical-align: middle;\n",
       "    }\n",
       "\n",
       "    .dataframe tbody tr th {\n",
       "        vertical-align: top;\n",
       "    }\n",
       "\n",
       "    .dataframe thead th {\n",
       "        text-align: right;\n",
       "    }\n",
       "</style>\n",
       "<table border=\"1\" class=\"dataframe\">\n",
       "  <thead>\n",
       "    <tr style=\"text-align: right;\">\n",
       "      <th>seccion</th>\n",
       "      <th>MUJER</th>\n",
       "    </tr>\n",
       "    <tr>\n",
       "      <th>contiene_algodon</th>\n",
       "      <th></th>\n",
       "    </tr>\n",
       "  </thead>\n",
       "  <tbody>\n",
       "    <tr>\n",
       "      <th>False</th>\n",
       "      <td>1.0</td>\n",
       "    </tr>\n",
       "    <tr>\n",
       "      <th>True</th>\n",
       "      <td>1.0</td>\n",
       "    </tr>\n",
       "  </tbody>\n",
       "</table>\n",
       "</div>"
      ],
      "text/plain": [
       "seccion           MUJER\n",
       "contiene_algodon       \n",
       "False               1.0\n",
       "True                1.0"
      ]
     },
     "execution_count": 20,
     "metadata": {},
     "output_type": "execute_result"
    }
   ],
   "source": [
    "pd.crosstab(\n",
    "    df['contiene_algodon'],\n",
    "    df['seccion'],\n",
    "    normalize='index'\n",
    ")"
   ]
  },
  {
   "cell_type": "markdown",
   "metadata": {},
   "source": [
    "Las prendas de ropa que contienen o bien lino o bien algodón tienen más posibilidades de ser de la sección masculina."
   ]
  },
  {
   "cell_type": "code",
   "execution_count": 21,
   "metadata": {},
   "outputs": [
    {
     "data": {
      "text/plain": [
       "<Axes: xlabel='contiene_lino', ylabel='precio'>"
      ]
     },
     "execution_count": 21,
     "metadata": {},
     "output_type": "execute_result"
    },
    {
     "data": {
      "image/png": "[encoded data removed]",
      "text/plain": [
       "<Figure size 640x480 with 1 Axes>"
      ]
     },
     "metadata": {},
     "output_type": "display_data"
    }
   ],
   "source": [
    "sns.violinplot(\n",
    "    data = df,\n",
    "    x = 'contiene_lino',\n",
    "    y = 'precio',\n",
    "    palette = palette\n",
    ")"
   ]
  },
  {
   "cell_type": "markdown",
   "metadata": {},
   "source": [
    "Las prendas que contienen `lino` pueden tener precios más altos que las que no lo contienen."
   ]
  },
  {
   "cell_type": "markdown",
   "metadata": {},
   "source": [
    "## Estudio de tallas"
   ]
  },
  {
   "cell_type": "markdown",
   "metadata": {},
   "source": [
    "### Tallas extremas"
   ]
  },
  {
   "cell_type": "markdown",
   "metadata": {},
   "source": [
    "#### Tallas letras"
   ]
  },
  {
   "cell_type": "code",
   "execution_count": 22,
   "metadata": {},
   "outputs": [],
   "source": [
    "df_ = df.query('tipo_talla == \"alfabética\"')"
   ]
  },
  {
   "cell_type": "code",
   "execution_count": 23,
   "metadata": {},
   "outputs": [
    {
     "data": {
      "text/html": [
       "<div>\n",
       "<style scoped>\n",
       "    .dataframe tbody tr th:only-of-type {\n",
       "        vertical-align: middle;\n",
       "    }\n",
       "\n",
       "    .dataframe tbody tr th {\n",
       "        vertical-align: top;\n",
       "    }\n",
       "\n",
       "    .dataframe thead th {\n",
       "        text-align: right;\n",
       "    }\n",
       "</style>\n",
       "<table border=\"1\" class=\"dataframe\">\n",
       "  <thead>\n",
       "    <tr style=\"text-align: right;\">\n",
       "      <th>seccion</th>\n",
       "      <th>MUJER</th>\n",
       "    </tr>\n",
       "    <tr>\n",
       "      <th>tallas</th>\n",
       "      <th></th>\n",
       "    </tr>\n",
       "  </thead>\n",
       "  <tbody>\n",
       "    <tr>\n",
       "      <th>False</th>\n",
       "      <td>1.0</td>\n",
       "    </tr>\n",
       "    <tr>\n",
       "      <th>True</th>\n",
       "      <td>1.0</td>\n",
       "    </tr>\n",
       "  </tbody>\n",
       "</table>\n",
       "</div>"
      ],
      "text/plain": [
       "seccion  MUJER\n",
       "tallas        \n",
       "False      1.0\n",
       "True       1.0"
      ]
     },
     "execution_count": 23,
     "metadata": {},
     "output_type": "execute_result"
    }
   ],
   "source": [
    "pd.crosstab(\n",
    "    df_['tallas'].str.contains('XS'),\n",
    "    df_['seccion'],\n",
    "    normalize = 'index'\n",
    ")"
   ]
  },
  {
   "cell_type": "code",
   "execution_count": 24,
   "metadata": {},
   "outputs": [
    {
     "data": {
      "text/html": [
       "<div>\n",
       "<style scoped>\n",
       "    .dataframe tbody tr th:only-of-type {\n",
       "        vertical-align: middle;\n",
       "    }\n",
       "\n",
       "    .dataframe tbody tr th {\n",
       "        vertical-align: top;\n",
       "    }\n",
       "\n",
       "    .dataframe thead th {\n",
       "        text-align: right;\n",
       "    }\n",
       "</style>\n",
       "<table border=\"1\" class=\"dataframe\">\n",
       "  <thead>\n",
       "    <tr style=\"text-align: right;\">\n",
       "      <th>seccion</th>\n",
       "      <th>MUJER</th>\n",
       "    </tr>\n",
       "    <tr>\n",
       "      <th>tallas</th>\n",
       "      <th></th>\n",
       "    </tr>\n",
       "  </thead>\n",
       "  <tbody>\n",
       "    <tr>\n",
       "      <th>False</th>\n",
       "      <td>1.0</td>\n",
       "    </tr>\n",
       "    <tr>\n",
       "      <th>True</th>\n",
       "      <td>1.0</td>\n",
       "    </tr>\n",
       "  </tbody>\n",
       "</table>\n",
       "</div>"
      ],
      "text/plain": [
       "seccion  MUJER\n",
       "tallas        \n",
       "False      1.0\n",
       "True       1.0"
      ]
     },
     "execution_count": 24,
     "metadata": {},
     "output_type": "execute_result"
    }
   ],
   "source": [
    "pd.crosstab(\n",
    "    df_['tallas'].str.contains('XL'),\n",
    "    df_['seccion'],\n",
    "    normalize = 'index'\n",
    ")"
   ]
  },
  {
   "cell_type": "code",
   "execution_count": 25,
   "metadata": {},
   "outputs": [
    {
     "data": {
      "text/html": [
       "<div>\n",
       "<style scoped>\n",
       "    .dataframe tbody tr th:only-of-type {\n",
       "        vertical-align: middle;\n",
       "    }\n",
       "\n",
       "    .dataframe tbody tr th {\n",
       "        vertical-align: top;\n",
       "    }\n",
       "\n",
       "    .dataframe thead th {\n",
       "        text-align: right;\n",
       "    }\n",
       "</style>\n",
       "<table border=\"1\" class=\"dataframe\">\n",
       "  <thead>\n",
       "    <tr style=\"text-align: right;\">\n",
       "      <th>seccion</th>\n",
       "      <th>MUJER</th>\n",
       "    </tr>\n",
       "    <tr>\n",
       "      <th>tallas</th>\n",
       "      <th></th>\n",
       "    </tr>\n",
       "  </thead>\n",
       "  <tbody>\n",
       "    <tr>\n",
       "      <th>False</th>\n",
       "      <td>1.0</td>\n",
       "    </tr>\n",
       "    <tr>\n",
       "      <th>True</th>\n",
       "      <td>1.0</td>\n",
       "    </tr>\n",
       "  </tbody>\n",
       "</table>\n",
       "</div>"
      ],
      "text/plain": [
       "seccion  MUJER\n",
       "tallas        \n",
       "False      1.0\n",
       "True       1.0"
      ]
     },
     "execution_count": 25,
     "metadata": {},
     "output_type": "execute_result"
    }
   ],
   "source": [
    "pd.crosstab(\n",
    "    df_['tallas'].str.contains('XXL'),\n",
    "    df_['seccion'],\n",
    "    normalize = 'index'\n",
    ")"
   ]
  },
  {
   "cell_type": "markdown",
   "metadata": {},
   "source": [
    "- Las prendas que tienen la talla `XS` disponible pertenecen casi todas a la sección femenina. \n",
    "- Las prendas con las talla `XL` disponible están en mayor equilibrio.\n",
    "- Las prendas que tienen disponible la talla `XXL` pertenecen en mayor proporción a la sección femenina, y las que no tienen esa talla disponible son en su mayoría de caballero."
   ]
  },
  {
   "cell_type": "markdown",
   "metadata": {},
   "source": [
    "### Número de tallas disponibles"
   ]
  },
  {
   "cell_type": "code",
   "execution_count": 26,
   "metadata": {},
   "outputs": [
    {
     "data": {
      "text/plain": [
       "<Axes: xlabel='seccion', ylabel='n_tallas'>"
      ]
     },
     "execution_count": 26,
     "metadata": {},
     "output_type": "execute_result"
    },
    {
     "data": {
      "image/png": "[encoded data removed]",
      "text/plain": [
       "<Figure size 640x480 with 1 Axes>"
      ]
     },
     "metadata": {},
     "output_type": "display_data"
    }
   ],
   "source": [
    "sns.boxplot(\n",
    "    data = df,\n",
    "    x = 'seccion',\n",
    "    y = 'n_tallas',\n",
    "    palette = palette\n",
    ")"
   ]
  },
  {
   "cell_type": "markdown",
   "metadata": {},
   "source": [
    "La ropa de la sección de mujer ofrece una mayor variedad de tallas."
   ]
  },
  {
   "cell_type": "markdown",
   "metadata": {},
   "source": [
    "## Palabras clave\n",
    "porcentaje de prendas cuya descripción contiene la palabra clave:"
   ]
  },
  {
   "cell_type": "code",
   "execution_count": 34,
   "metadata": {},
   "outputs": [
    {
     "data": {
      "text/plain": [
       "0.003169572107765452"
      ]
     },
     "execution_count": 34,
     "metadata": {},
     "output_type": "execute_result"
    }
   ],
   "source": [
    "# RELAXED\n",
    "df['descripcion'].str.contains('relaxed',case=False).sum() / len(df)"
   ]
  },
  {
   "cell_type": "code",
   "execution_count": 35,
   "metadata": {},
   "outputs": [
    {
     "data": {
      "text/plain": [
       "0.060221870047543584"
      ]
     },
     "execution_count": 35,
     "metadata": {},
     "output_type": "execute_result"
    }
   ],
   "source": [
    "# FIT\n",
    "df['descripcion'].str.contains('fit',case=False).sum() / len(df)"
   ]
  },
  {
   "cell_type": "code",
   "execution_count": 29,
   "metadata": {},
   "outputs": [
    {
     "data": {
      "text/plain": [
       "0.022187004754358162"
      ]
     },
     "execution_count": 29,
     "metadata": {},
     "output_type": "execute_result"
    }
   ],
   "source": [
    "# BRILLOS\n",
    "df['descripcion'].str.contains(r'brillos?',case=False).sum() / len(df)"
   ]
  },
  {
   "cell_type": "code",
   "execution_count": 30,
   "metadata": {},
   "outputs": [
    {
     "data": {
      "text/plain": [
       "0.001584786053882726"
      ]
     },
     "execution_count": 30,
     "metadata": {},
     "output_type": "execute_result"
    }
   ],
   "source": [
    "# ESTAMPADO ANIMAL\n",
    "df['descripcion'].str.contains(r'estampado\\sanimal',case=False,regex=True).sum() / len(df)"
   ]
  },
  {
   "cell_type": "code",
   "execution_count": 31,
   "metadata": {},
   "outputs": [
    {
     "data": {
      "text/plain": [
       "0.0554675118858954"
      ]
     },
     "execution_count": 31,
     "metadata": {},
     "output_type": "execute_result"
    }
   ],
   "source": [
    "# ASIMÉTRICO\n",
    "df['descripcion'].str.contains(r'asimétric[oa]',case=False).sum() / len(df)"
   ]
  },
  {
   "cell_type": "code",
   "execution_count": 32,
   "metadata": {},
   "outputs": [
    {
     "data": {
      "text/plain": [
       "0.009508716323296355"
      ]
     },
     "execution_count": 32,
     "metadata": {},
     "output_type": "execute_result"
    }
   ],
   "source": [
    "# OVERSIZE\n",
    "df['descripcion'].str.contains(r'over\\s?size',case=False).sum() / len(df)"
   ]
  },
  {
   "cell_type": "code",
   "execution_count": 33,
   "metadata": {},
   "outputs": [
    {
     "data": {
      "text/plain": [
       "0.00792393026941363"
      ]
     },
     "execution_count": 33,
     "metadata": {},
     "output_type": "execute_result"
    }
   ],
   "source": [
    "# EFECTO ARRUGADO\n",
    "df['descripcion'].str.contains(r'efecto arrugado',case=False).sum() / len(df)"
   ]
  }
 ],
 "metadata": {
  "kernelspec": {
   "display_name": "base",
   "language": "python",
   "name": "python3"
  },
  "language_info": {
   "codemirror_mode": {
    "name": "ipython",
    "version": 3
   },
   "file_extension": ".py",
   "mimetype": "text/x-python",
   "name": "python",
   "nbconvert_exporter": "python",
   "pygments_lexer": "ipython3",
   "version": "3.11.7"
  }
 },
 "nbformat": 4,
 "nbformat_minor": 2
}

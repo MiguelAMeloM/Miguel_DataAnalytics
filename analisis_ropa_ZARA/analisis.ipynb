{
 "cells": [
  {
   "cell_type": "code",
   "execution_count": 36,
   "metadata": {},
   "outputs": [],
   "source": [
    "import sys\n",
    "sys.path.append('../utils')\n",
    "import pandas as pd\n",
    "import matplotlib.pyplot as plt\n",
    "import seaborn as sns\n",
    "from MiguelTK import *\n",
    "import warnings\n",
    "warnings.filterwarnings('ignore')"
   ]
  },
  {
   "cell_type": "markdown",
   "metadata": {},
   "source": [
    "## Limpieza y transformación de datos"
   ]
  },
  {
   "cell_type": "code",
   "execution_count": 37,
   "metadata": {},
   "outputs": [],
   "source": [
    "df = pd.read_csv('data/ZARA_db.csv')"
   ]
  },
  {
   "cell_type": "code",
   "execution_count": 38,
   "metadata": {},
   "outputs": [
    {
     "data": {
      "text/html": [
       "<div>\n",
       "<style scoped>\n",
       "    .dataframe tbody tr th:only-of-type {\n",
       "        vertical-align: middle;\n",
       "    }\n",
       "\n",
       "    .dataframe tbody tr th {\n",
       "        vertical-align: top;\n",
       "    }\n",
       "\n",
       "    .dataframe thead th {\n",
       "        text-align: right;\n",
       "    }\n",
       "</style>\n",
       "<table border=\"1\" class=\"dataframe\">\n",
       "  <thead>\n",
       "    <tr style=\"text-align: right;\">\n",
       "      <th></th>\n",
       "      <th>extracción</th>\n",
       "      <th>articulo</th>\n",
       "      <th>precio</th>\n",
       "      <th>descripcion</th>\n",
       "      <th>grupo_web</th>\n",
       "      <th>tallas</th>\n",
       "      <th>colores</th>\n",
       "      <th>enlace</th>\n",
       "      <th>marca</th>\n",
       "      <th>grupo</th>\n",
       "      <th>seccion</th>\n",
       "    </tr>\n",
       "  </thead>\n",
       "  <tbody>\n",
       "    <tr>\n",
       "      <th>0</th>\n",
       "      <td>2024-05-26 23:38:27.265485</td>\n",
       "      <td>CAMISA GABARDINA CINTAS ESPALDA</td>\n",
       "      <td>22.95</td>\n",
       "      <td>Camisa confeccionada en tejido tipo gabardina....</td>\n",
       "      <td>V2024-MUJER-ULTIMA-SEMANA</td>\n",
       "      <td>['XS', 'S', 'M', 'L', 'XL', 'XXL']</td>\n",
       "      <td>[]</td>\n",
       "      <td>https://www.zara.com/es/es/camisa-gabardina-ci...</td>\n",
       "      <td>ZARA</td>\n",
       "      <td>CAMISA</td>\n",
       "      <td>MUJER</td>\n",
       "    </tr>\n",
       "    <tr>\n",
       "      <th>1</th>\n",
       "      <td>2024-05-26 23:38:27.265485</td>\n",
       "      <td>TOP BIKINI BANDEAU PIEZA METÁLICA</td>\n",
       "      <td>19.95</td>\n",
       "      <td>Top bikini tipo bandeau con detalle de pieza m...</td>\n",
       "      <td>V2024-MUJER-ULTIMA-SEMANA</td>\n",
       "      <td>['XS', 'S', 'M', 'L', 'XL']</td>\n",
       "      <td>[]</td>\n",
       "      <td>https://www.zara.com/es/es/top-bikini-bandeau-...</td>\n",
       "      <td>ZARA</td>\n",
       "      <td>TOP</td>\n",
       "      <td>MUJER</td>\n",
       "    </tr>\n",
       "    <tr>\n",
       "      <th>2</th>\n",
       "      <td>2024-05-26 23:38:27.265485</td>\n",
       "      <td>VESTIDO CAMISERO MINI GOMAS</td>\n",
       "      <td>29.95</td>\n",
       "      <td>Vestido de cuello solapa y manga sisa con frun...</td>\n",
       "      <td>V2024-MUJER-ULTIMA-SEMANA</td>\n",
       "      <td>['XS', 'S', 'M', 'L', 'XL']</td>\n",
       "      <td>[]</td>\n",
       "      <td>https://www.zara.com/es/es/vestido-camisero-mi...</td>\n",
       "      <td>ZARA</td>\n",
       "      <td>VESTIDO</td>\n",
       "      <td>MUJER</td>\n",
       "    </tr>\n",
       "    <tr>\n",
       "      <th>3</th>\n",
       "      <td>2024-05-26 23:38:27.265485</td>\n",
       "      <td>CHAQUETA PUNTO MANGA FRANCESA</td>\n",
       "      <td>29.95</td>\n",
       "      <td>Chaqueta de cuello redondo y manga por debajo ...</td>\n",
       "      <td>V2024-MUJER-ULTIMA-SEMANA</td>\n",
       "      <td>['S', 'M', 'L', 'XL']</td>\n",
       "      <td>[]</td>\n",
       "      <td>https://www.zara.com/es/es/chaqueta-punto-mang...</td>\n",
       "      <td>ZARA</td>\n",
       "      <td>CHAQUETA</td>\n",
       "      <td>MUJER</td>\n",
       "    </tr>\n",
       "    <tr>\n",
       "      <th>4</th>\n",
       "      <td>2024-05-26 23:38:27.265485</td>\n",
       "      <td>SANDALIA PLANA HEBILLAS</td>\n",
       "      <td>29.95</td>\n",
       "      <td>Sandalia plana con tiras y hebillas. Suela den...</td>\n",
       "      <td>V2024-MUJER-ULTIMA-SEMANA</td>\n",
       "      <td>['35', '36', '37', '38', '39', '40', '41', '42']</td>\n",
       "      <td>[]</td>\n",
       "      <td>https://www.zara.com/es/es/sandalia-plana-hebi...</td>\n",
       "      <td>ZARA</td>\n",
       "      <td>SANDALIA</td>\n",
       "      <td>MUJER</td>\n",
       "    </tr>\n",
       "  </tbody>\n",
       "</table>\n",
       "</div>"
      ],
      "text/plain": [
       "                   extracción                           articulo  precio  \\\n",
       "0  2024-05-26 23:38:27.265485    CAMISA GABARDINA CINTAS ESPALDA   22.95   \n",
       "1  2024-05-26 23:38:27.265485  TOP BIKINI BANDEAU PIEZA METÁLICA   19.95   \n",
       "2  2024-05-26 23:38:27.265485        VESTIDO CAMISERO MINI GOMAS   29.95   \n",
       "3  2024-05-26 23:38:27.265485      CHAQUETA PUNTO MANGA FRANCESA   29.95   \n",
       "4  2024-05-26 23:38:27.265485            SANDALIA PLANA HEBILLAS   29.95   \n",
       "\n",
       "                                         descripcion  \\\n",
       "0  Camisa confeccionada en tejido tipo gabardina....   \n",
       "1  Top bikini tipo bandeau con detalle de pieza m...   \n",
       "2  Vestido de cuello solapa y manga sisa con frun...   \n",
       "3  Chaqueta de cuello redondo y manga por debajo ...   \n",
       "4  Sandalia plana con tiras y hebillas. Suela den...   \n",
       "\n",
       "                   grupo_web  \\\n",
       "0  V2024-MUJER-ULTIMA-SEMANA   \n",
       "1  V2024-MUJER-ULTIMA-SEMANA   \n",
       "2  V2024-MUJER-ULTIMA-SEMANA   \n",
       "3  V2024-MUJER-ULTIMA-SEMANA   \n",
       "4  V2024-MUJER-ULTIMA-SEMANA   \n",
       "\n",
       "                                             tallas colores  \\\n",
       "0                ['XS', 'S', 'M', 'L', 'XL', 'XXL']      []   \n",
       "1                       ['XS', 'S', 'M', 'L', 'XL']      []   \n",
       "2                       ['XS', 'S', 'M', 'L', 'XL']      []   \n",
       "3                             ['S', 'M', 'L', 'XL']      []   \n",
       "4  ['35', '36', '37', '38', '39', '40', '41', '42']      []   \n",
       "\n",
       "                                              enlace marca     grupo seccion  \n",
       "0  https://www.zara.com/es/es/camisa-gabardina-ci...  ZARA    CAMISA   MUJER  \n",
       "1  https://www.zara.com/es/es/top-bikini-bandeau-...  ZARA       TOP   MUJER  \n",
       "2  https://www.zara.com/es/es/vestido-camisero-mi...  ZARA   VESTIDO   MUJER  \n",
       "3  https://www.zara.com/es/es/chaqueta-punto-mang...  ZARA  CHAQUETA   MUJER  \n",
       "4  https://www.zara.com/es/es/sandalia-plana-hebi...  ZARA  SANDALIA   MUJER  "
      ]
     },
     "execution_count": 38,
     "metadata": {},
     "output_type": "execute_result"
    }
   ],
   "source": [
    "df.head()"
   ]
  },
  {
   "cell_type": "code",
   "execution_count": 39,
   "metadata": {},
   "outputs": [],
   "source": [
    "df['temporada'] = df['grupo_web'].str.extract(r'^(\\w+)\\-')\n",
    "del df['grupo_web']"
   ]
  },
  {
   "cell_type": "code",
   "execution_count": 40,
   "metadata": {},
   "outputs": [],
   "source": [
    "df['n_tallas'] = df['tallas'].str.count(r'\\'(\\w+)\\'')"
   ]
  },
  {
   "cell_type": "code",
   "execution_count": 41,
   "metadata": {},
   "outputs": [],
   "source": [
    "del df['enlace']"
   ]
  },
  {
   "cell_type": "code",
   "execution_count": 42,
   "metadata": {},
   "outputs": [],
   "source": [
    "df['n_colores'] = df['colores'].str.count(r'\\'(\\w+)\\'')"
   ]
  },
  {
   "cell_type": "code",
   "execution_count": 43,
   "metadata": {},
   "outputs": [],
   "source": [
    "df['contiene_lino'] = df['descripcion'].str.contains(r'lino',case=False)"
   ]
  },
  {
   "cell_type": "code",
   "execution_count": 44,
   "metadata": {},
   "outputs": [],
   "source": [
    "df['contiene_algodon'] = df['descripcion'].str.contains(r'algodón',case=False)"
   ]
  },
  {
   "cell_type": "code",
   "execution_count": 45,
   "metadata": {},
   "outputs": [],
   "source": [
    "df['tipo_talla'] = (\n",
    "    df['tallas']\n",
    "    .str.contains(r'\\d')\n",
    "    .map({\n",
    "        True:'numérica',\n",
    "        False:'alfabética'\n",
    "    })\n",
    ")"
   ]
  },
  {
   "cell_type": "code",
   "execution_count": 46,
   "metadata": {},
   "outputs": [],
   "source": [
    "df['colores'] = df['colores'].str.upper()"
   ]
  },
  {
   "cell_type": "markdown",
   "metadata": {},
   "source": [
    "## Estudio de colores"
   ]
  },
  {
   "cell_type": "code",
   "execution_count": 47,
   "metadata": {},
   "outputs": [
    {
     "data": {
      "text/html": [
       "<div>\n",
       "<style scoped>\n",
       "    .dataframe tbody tr th:only-of-type {\n",
       "        vertical-align: middle;\n",
       "    }\n",
       "\n",
       "    .dataframe tbody tr th {\n",
       "        vertical-align: top;\n",
       "    }\n",
       "\n",
       "    .dataframe thead th {\n",
       "        text-align: right;\n",
       "    }\n",
       "</style>\n",
       "<table border=\"1\" class=\"dataframe\">\n",
       "  <thead>\n",
       "    <tr style=\"text-align: right;\">\n",
       "      <th></th>\n",
       "      <th>seccion</th>\n",
       "      <th>value</th>\n",
       "    </tr>\n",
       "  </thead>\n",
       "  <tbody>\n",
       "    <tr>\n",
       "      <th>9</th>\n",
       "      <td>MUJER</td>\n",
       "      <td>BLANCO</td>\n",
       "    </tr>\n",
       "    <tr>\n",
       "      <th>14</th>\n",
       "      <td>MUJER</td>\n",
       "      <td>BLANCO</td>\n",
       "    </tr>\n",
       "    <tr>\n",
       "      <th>18</th>\n",
       "      <td>MUJER</td>\n",
       "      <td>ROJO BURDEOS</td>\n",
       "    </tr>\n",
       "    <tr>\n",
       "      <th>45</th>\n",
       "      <td>MUJER</td>\n",
       "      <td>BLANCO</td>\n",
       "    </tr>\n",
       "    <tr>\n",
       "      <th>48</th>\n",
       "      <td>MUJER</td>\n",
       "      <td>GRIS ANTRACITA</td>\n",
       "    </tr>\n",
       "    <tr>\n",
       "      <th>...</th>\n",
       "      <td>...</td>\n",
       "      <td>...</td>\n",
       "    </tr>\n",
       "    <tr>\n",
       "      <th>8430</th>\n",
       "      <td>HOMBRE</td>\n",
       "      <td>MARRÓN</td>\n",
       "    </tr>\n",
       "    <tr>\n",
       "      <th>8451</th>\n",
       "      <td>HOMBRE</td>\n",
       "      <td>AZUL / BLANCO</td>\n",
       "    </tr>\n",
       "    <tr>\n",
       "      <th>9022</th>\n",
       "      <td>MUJER</td>\n",
       "      <td>MULTICOLOR</td>\n",
       "    </tr>\n",
       "    <tr>\n",
       "      <th>9207</th>\n",
       "      <td>HOMBRE</td>\n",
       "      <td>AZUL</td>\n",
       "    </tr>\n",
       "    <tr>\n",
       "      <th>9799</th>\n",
       "      <td>MUJER</td>\n",
       "      <td>NEGRO</td>\n",
       "    </tr>\n",
       "  </tbody>\n",
       "</table>\n",
       "<p>537 rows × 2 columns</p>\n",
       "</div>"
      ],
      "text/plain": [
       "     seccion           value\n",
       "9      MUJER          BLANCO\n",
       "14     MUJER          BLANCO\n",
       "18     MUJER    ROJO BURDEOS\n",
       "45     MUJER          BLANCO\n",
       "48     MUJER  GRIS ANTRACITA\n",
       "...      ...             ...\n",
       "8430  HOMBRE          MARRÓN\n",
       "8451  HOMBRE   AZUL / BLANCO\n",
       "9022   MUJER      MULTICOLOR\n",
       "9207  HOMBRE            AZUL\n",
       "9799   MUJER           NEGRO\n",
       "\n",
       "[537 rows x 2 columns]"
      ]
     },
     "execution_count": 47,
     "metadata": {},
     "output_type": "execute_result"
    }
   ],
   "source": [
    "tabla_colores = (\n",
    "    df['colores']\n",
    "    .str.replace(r'[\\[\\]\\']','',regex=True)\n",
    "    .str.replace(r'\\,\\s',',',regex=True)\n",
    "    .str.split(',',expand=True)\n",
    "    .assign(seccion = df['seccion'])\n",
    "    .melt('seccion')\n",
    "    .drop(columns='variable')\n",
    "    .dropna(subset='value')\n",
    "    .query('value != \"\"')\n",
    ")\n",
    "tabla_colores"
   ]
  },
  {
   "cell_type": "code",
   "execution_count": 48,
   "metadata": {},
   "outputs": [],
   "source": [
    "B_N = (\n",
    "    tabla_colores\n",
    "    ['value']\n",
    "    .str.contains(r'(NEGRO)|(BLANCO)',regex=True)\n",
    ")"
   ]
  },
  {
   "cell_type": "code",
   "execution_count": 49,
   "metadata": {},
   "outputs": [
    {
     "name": "stdout",
     "output_type": "stream",
     "text": [
      "Colores más frecuentes por sección (diferentes al blanco y negro)\n"
     ]
    },
    {
     "data": {
      "image/png": "[encoded data removed]",
      "text/plain": [
       "<Figure size 600x300 with 2 Axes>"
      ]
     },
     "metadata": {},
     "output_type": "display_data"
    }
   ],
   "source": [
    "df_ = (\n",
    "    tabla_colores[~B_N]\n",
    "    .groupby('seccion',as_index=False)\n",
    "    ['value']\n",
    "    .value_counts()\n",
    "    .groupby('seccion')\n",
    "    .apply(lambda x: x.nlargest(10,'count'))\n",
    ")\n",
    "grid = sns.FacetGrid(df_,col='seccion',sharex=False)\n",
    "grid.map(sns.barplot,'value','count',**kwargs)\n",
    "grid.tick_params('x',rotation=90)\n",
    "print('Colores más frecuentes por sección (diferentes al blanco y negro)')"
   ]
  },
  {
   "cell_type": "code",
   "execution_count": 50,
   "metadata": {},
   "outputs": [
    {
     "name": "stdout",
     "output_type": "stream",
     "text": [
      "Colores menos frecuentes por sección (diferentes al blanco y negro)\n",
      "   seccion           value\n",
      "0   HOMBRE    CRUDO / AZUL\n",
      "1   HOMBRE    CORAL FUERTE\n",
      "2   HOMBRE  ROSA EMPOLVADO\n",
      "3   HOMBRE   CELESTE CLARO\n",
      "4   HOMBRE     AZUL / GRIS\n",
      "5   HOMBRE     AZUL OSCURO\n",
      "6   HOMBRE          AZULÓN\n",
      "7   HOMBRE           BEIGE\n",
      "8   HOMBRE   BEIGE PLATINO\n",
      "9   HOMBRE          CARBÓN\n",
      "10   MUJER      MULTICOLOR\n",
      "11   MUJER         NARANJA\n",
      "12   MUJER   MARRÓN OSCURO\n",
      "13   MUJER  NARANJA OSCURO\n",
      "14   MUJER          MORADO\n",
      "15   MUJER          MEDIUM\n",
      "16   MUJER     MARSHMALLOW\n",
      "17   MUJER        PETRÓLEO\n",
      "18   MUJER       MANDARINA\n",
      "19   MUJER       LIME FIZZ\n"
     ]
    }
   ],
   "source": [
    "df_ = (\n",
    "    tabla_colores[~B_N]\n",
    "    .groupby('seccion',as_index=False)\n",
    "    ['value']\n",
    "    .value_counts()\n",
    "    .groupby('seccion')\n",
    "    .apply(lambda x: x.nsmallest(10,'count'))\n",
    "    .drop(columns='seccion')\n",
    "    .reset_index()\n",
    "    .drop(columns=['level_1','count'])\n",
    ")\n",
    "print('Colores menos frecuentes por sección (diferentes al blanco y negro)')\n",
    "print(df_)"
   ]
  },
  {
   "cell_type": "code",
   "execution_count": 51,
   "metadata": {},
   "outputs": [
    {
     "data": {
      "text/plain": [
       "<Axes: xlabel='seccion', ylabel='n_colores'>"
      ]
     },
     "execution_count": 51,
     "metadata": {},
     "output_type": "execute_result"
    },
    {
     "data": {
      "image/png": "[encoded data removed]",
      "text/plain": [
       "<Figure size 640x480 with 1 Axes>"
      ]
     },
     "metadata": {},
     "output_type": "display_data"
    }
   ],
   "source": [
    "sns.boxplot(\n",
    "    data = df,\n",
    "    x = 'seccion',\n",
    "    y = 'n_colores',\n",
    "    palette = palette\n",
    ")"
   ]
  },
  {
   "cell_type": "markdown",
   "metadata": {},
   "source": [
    "La ropa masculina tiene mayor variedad en los colores disponibles."
   ]
  },
  {
   "cell_type": "markdown",
   "metadata": {},
   "source": [
    "## Estudio de composición"
   ]
  },
  {
   "cell_type": "code",
   "execution_count": 52,
   "metadata": {},
   "outputs": [
    {
     "data": {
      "text/plain": [
       "contiene_lino\n",
       "False    0.885457\n",
       "True     0.114543\n",
       "Name: proportion, dtype: float64"
      ]
     },
     "execution_count": 52,
     "metadata": {},
     "output_type": "execute_result"
    }
   ],
   "source": [
    "df['contiene_lino'].value_counts(normalize=True)"
   ]
  },
  {
   "cell_type": "markdown",
   "metadata": {},
   "source": [
    "El `11 %` de las prendas de ropa contienen lino"
   ]
  },
  {
   "cell_type": "code",
   "execution_count": 53,
   "metadata": {},
   "outputs": [
    {
     "data": {
      "text/plain": [
       "contiene_algodon\n",
       "False    0.875161\n",
       "True     0.124839\n",
       "Name: proportion, dtype: float64"
      ]
     },
     "execution_count": 53,
     "metadata": {},
     "output_type": "execute_result"
    }
   ],
   "source": [
    "df['contiene_algodon'].value_counts(normalize=True)"
   ]
  },
  {
   "cell_type": "markdown",
   "metadata": {},
   "source": [
    "El `15 %` de las prendas de ropa contienen algodón"
   ]
  },
  {
   "cell_type": "code",
   "execution_count": 54,
   "metadata": {},
   "outputs": [
    {
     "data": {
      "text/html": [
       "<div>\n",
       "<style scoped>\n",
       "    .dataframe tbody tr th:only-of-type {\n",
       "        vertical-align: middle;\n",
       "    }\n",
       "\n",
       "    .dataframe tbody tr th {\n",
       "        vertical-align: top;\n",
       "    }\n",
       "\n",
       "    .dataframe thead th {\n",
       "        text-align: right;\n",
       "    }\n",
       "</style>\n",
       "<table border=\"1\" class=\"dataframe\">\n",
       "  <thead>\n",
       "    <tr style=\"text-align: right;\">\n",
       "      <th>seccion</th>\n",
       "      <th>HOMBRE</th>\n",
       "      <th>MUJER</th>\n",
       "    </tr>\n",
       "    <tr>\n",
       "      <th>contiene_lino</th>\n",
       "      <th></th>\n",
       "      <th></th>\n",
       "    </tr>\n",
       "  </thead>\n",
       "  <tbody>\n",
       "    <tr>\n",
       "      <th>False</th>\n",
       "      <td>0.186047</td>\n",
       "      <td>0.813953</td>\n",
       "    </tr>\n",
       "    <tr>\n",
       "      <th>True</th>\n",
       "      <td>0.213483</td>\n",
       "      <td>0.786517</td>\n",
       "    </tr>\n",
       "  </tbody>\n",
       "</table>\n",
       "</div>"
      ],
      "text/plain": [
       "seccion          HOMBRE     MUJER\n",
       "contiene_lino                    \n",
       "False          0.186047  0.813953\n",
       "True           0.213483  0.786517"
      ]
     },
     "execution_count": 54,
     "metadata": {},
     "output_type": "execute_result"
    }
   ],
   "source": [
    "pd.crosstab(\n",
    "    df['contiene_lino'],\n",
    "    df['seccion'],\n",
    "    normalize='index'\n",
    ")"
   ]
  },
  {
   "cell_type": "code",
   "execution_count": 55,
   "metadata": {},
   "outputs": [
    {
     "data": {
      "text/html": [
       "<div>\n",
       "<style scoped>\n",
       "    .dataframe tbody tr th:only-of-type {\n",
       "        vertical-align: middle;\n",
       "    }\n",
       "\n",
       "    .dataframe tbody tr th {\n",
       "        vertical-align: top;\n",
       "    }\n",
       "\n",
       "    .dataframe thead th {\n",
       "        text-align: right;\n",
       "    }\n",
       "</style>\n",
       "<table border=\"1\" class=\"dataframe\">\n",
       "  <thead>\n",
       "    <tr style=\"text-align: right;\">\n",
       "      <th>seccion</th>\n",
       "      <th>HOMBRE</th>\n",
       "      <th>MUJER</th>\n",
       "    </tr>\n",
       "    <tr>\n",
       "      <th>contiene_algodon</th>\n",
       "      <th></th>\n",
       "      <th></th>\n",
       "    </tr>\n",
       "  </thead>\n",
       "  <tbody>\n",
       "    <tr>\n",
       "      <th>False</th>\n",
       "      <td>0.152941</td>\n",
       "      <td>0.847059</td>\n",
       "    </tr>\n",
       "    <tr>\n",
       "      <th>True</th>\n",
       "      <td>0.443299</td>\n",
       "      <td>0.556701</td>\n",
       "    </tr>\n",
       "  </tbody>\n",
       "</table>\n",
       "</div>"
      ],
      "text/plain": [
       "seccion             HOMBRE     MUJER\n",
       "contiene_algodon                    \n",
       "False             0.152941  0.847059\n",
       "True              0.443299  0.556701"
      ]
     },
     "execution_count": 55,
     "metadata": {},
     "output_type": "execute_result"
    }
   ],
   "source": [
    "pd.crosstab(\n",
    "    df['contiene_algodon'],\n",
    "    df['seccion'],\n",
    "    normalize='index'\n",
    ")"
   ]
  },
  {
   "cell_type": "markdown",
   "metadata": {},
   "source": [
    "Las prendas de ropa que contienen o bien lino o bien algodón tienen más posibilidades de ser de la sección masculina."
   ]
  },
  {
   "cell_type": "code",
   "execution_count": 56,
   "metadata": {},
   "outputs": [
    {
     "data": {
      "text/plain": [
       "<Axes: xlabel='contiene_lino', ylabel='precio'>"
      ]
     },
     "execution_count": 56,
     "metadata": {},
     "output_type": "execute_result"
    },
    {
     "data": {
      "image/png": "[encoded data removed]",
      "text/plain": [
       "<Figure size 640x480 with 1 Axes>"
      ]
     },
     "metadata": {},
     "output_type": "display_data"
    }
   ],
   "source": [
    "sns.violinplot(\n",
    "    data = df,\n",
    "    x = 'contiene_lino',\n",
    "    y = 'precio',\n",
    "    palette = palette\n",
    ")"
   ]
  },
  {
   "cell_type": "markdown",
   "metadata": {},
   "source": [
    "Las prendas que contienen `lino` pueden tener precios más altos que las que no lo contienen."
   ]
  },
  {
   "cell_type": "markdown",
   "metadata": {},
   "source": [
    "## Estudio de tallas"
   ]
  },
  {
   "cell_type": "markdown",
   "metadata": {},
   "source": [
    "### Tallas extremas"
   ]
  },
  {
   "cell_type": "markdown",
   "metadata": {},
   "source": [
    "#### Tallas letras"
   ]
  },
  {
   "cell_type": "code",
   "execution_count": 57,
   "metadata": {},
   "outputs": [],
   "source": [
    "df_ = df.query('tipo_talla == \"alfabética\"')"
   ]
  },
  {
   "cell_type": "code",
   "execution_count": 58,
   "metadata": {},
   "outputs": [
    {
     "data": {
      "text/html": [
       "<div>\n",
       "<style scoped>\n",
       "    .dataframe tbody tr th:only-of-type {\n",
       "        vertical-align: middle;\n",
       "    }\n",
       "\n",
       "    .dataframe tbody tr th {\n",
       "        vertical-align: top;\n",
       "    }\n",
       "\n",
       "    .dataframe thead th {\n",
       "        text-align: right;\n",
       "    }\n",
       "</style>\n",
       "<table border=\"1\" class=\"dataframe\">\n",
       "  <thead>\n",
       "    <tr style=\"text-align: right;\">\n",
       "      <th>seccion</th>\n",
       "      <th>HOMBRE</th>\n",
       "      <th>MUJER</th>\n",
       "    </tr>\n",
       "    <tr>\n",
       "      <th>tallas</th>\n",
       "      <th></th>\n",
       "      <th></th>\n",
       "    </tr>\n",
       "  </thead>\n",
       "  <tbody>\n",
       "    <tr>\n",
       "      <th>False</th>\n",
       "      <td>0.358974</td>\n",
       "      <td>0.641026</td>\n",
       "    </tr>\n",
       "    <tr>\n",
       "      <th>True</th>\n",
       "      <td>0.000000</td>\n",
       "      <td>1.000000</td>\n",
       "    </tr>\n",
       "  </tbody>\n",
       "</table>\n",
       "</div>"
      ],
      "text/plain": [
       "seccion    HOMBRE     MUJER\n",
       "tallas                     \n",
       "False    0.358974  0.641026\n",
       "True     0.000000  1.000000"
      ]
     },
     "execution_count": 58,
     "metadata": {},
     "output_type": "execute_result"
    }
   ],
   "source": [
    "pd.crosstab(\n",
    "    df_['tallas'].str.contains('XS'),\n",
    "    df_['seccion'],\n",
    "    normalize = 'index'\n",
    ")"
   ]
  },
  {
   "cell_type": "code",
   "execution_count": 59,
   "metadata": {},
   "outputs": [
    {
     "data": {
      "text/html": [
       "<div>\n",
       "<style scoped>\n",
       "    .dataframe tbody tr th:only-of-type {\n",
       "        vertical-align: middle;\n",
       "    }\n",
       "\n",
       "    .dataframe tbody tr th {\n",
       "        vertical-align: top;\n",
       "    }\n",
       "\n",
       "    .dataframe thead th {\n",
       "        text-align: right;\n",
       "    }\n",
       "</style>\n",
       "<table border=\"1\" class=\"dataframe\">\n",
       "  <thead>\n",
       "    <tr style=\"text-align: right;\">\n",
       "      <th>seccion</th>\n",
       "      <th>HOMBRE</th>\n",
       "      <th>MUJER</th>\n",
       "    </tr>\n",
       "    <tr>\n",
       "      <th>tallas</th>\n",
       "      <th></th>\n",
       "      <th></th>\n",
       "    </tr>\n",
       "  </thead>\n",
       "  <tbody>\n",
       "    <tr>\n",
       "      <th>False</th>\n",
       "      <td>0.055300</td>\n",
       "      <td>0.944700</td>\n",
       "    </tr>\n",
       "    <tr>\n",
       "      <th>True</th>\n",
       "      <td>0.215517</td>\n",
       "      <td>0.784483</td>\n",
       "    </tr>\n",
       "  </tbody>\n",
       "</table>\n",
       "</div>"
      ],
      "text/plain": [
       "seccion    HOMBRE     MUJER\n",
       "tallas                     \n",
       "False    0.055300  0.944700\n",
       "True     0.215517  0.784483"
      ]
     },
     "execution_count": 59,
     "metadata": {},
     "output_type": "execute_result"
    }
   ],
   "source": [
    "pd.crosstab(\n",
    "    df_['tallas'].str.contains('XL'),\n",
    "    df_['seccion'],\n",
    "    normalize = 'index'\n",
    ")"
   ]
  },
  {
   "cell_type": "code",
   "execution_count": 60,
   "metadata": {},
   "outputs": [
    {
     "data": {
      "text/html": [
       "<div>\n",
       "<style scoped>\n",
       "    .dataframe tbody tr th:only-of-type {\n",
       "        vertical-align: middle;\n",
       "    }\n",
       "\n",
       "    .dataframe tbody tr th {\n",
       "        vertical-align: top;\n",
       "    }\n",
       "\n",
       "    .dataframe thead th {\n",
       "        text-align: right;\n",
       "    }\n",
       "</style>\n",
       "<table border=\"1\" class=\"dataframe\">\n",
       "  <thead>\n",
       "    <tr style=\"text-align: right;\">\n",
       "      <th>seccion</th>\n",
       "      <th>HOMBRE</th>\n",
       "      <th>MUJER</th>\n",
       "    </tr>\n",
       "    <tr>\n",
       "      <th>tallas</th>\n",
       "      <th></th>\n",
       "      <th></th>\n",
       "    </tr>\n",
       "  </thead>\n",
       "  <tbody>\n",
       "    <tr>\n",
       "      <th>False</th>\n",
       "      <td>0.191972</td>\n",
       "      <td>0.808028</td>\n",
       "    </tr>\n",
       "    <tr>\n",
       "      <th>True</th>\n",
       "      <td>0.018519</td>\n",
       "      <td>0.981481</td>\n",
       "    </tr>\n",
       "  </tbody>\n",
       "</table>\n",
       "</div>"
      ],
      "text/plain": [
       "seccion    HOMBRE     MUJER\n",
       "tallas                     \n",
       "False    0.191972  0.808028\n",
       "True     0.018519  0.981481"
      ]
     },
     "execution_count": 60,
     "metadata": {},
     "output_type": "execute_result"
    }
   ],
   "source": [
    "pd.crosstab(\n",
    "    df_['tallas'].str.contains('XXL'),\n",
    "    df_['seccion'],\n",
    "    normalize = 'index'\n",
    ")"
   ]
  },
  {
   "cell_type": "markdown",
   "metadata": {},
   "source": [
    "- Las prendas que tienen la talla `XS` disponible pertenecen casi todas a la sección femenina. \n",
    "- Las prendas con las talla `XL` disponible están en mayor equilibrio.\n",
    "- Las prendas que tienen disponible la talla `XXL` pertenecen en mayor proporción a la sección femenina, y las que no tienen esa talla disponible son en su mayoría de caballero."
   ]
  },
  {
   "cell_type": "markdown",
   "metadata": {},
   "source": [
    "### Número de tallas disponibles"
   ]
  },
  {
   "cell_type": "code",
   "execution_count": 61,
   "metadata": {},
   "outputs": [
    {
     "data": {
      "text/plain": [
       "<Axes: xlabel='seccion', ylabel='n_tallas'>"
      ]
     },
     "execution_count": 61,
     "metadata": {},
     "output_type": "execute_result"
    },
    {
     "data": {
      "image/png": "[encoded data removed]",
      "text/plain": [
       "<Figure size 640x480 with 1 Axes>"
      ]
     },
     "metadata": {},
     "output_type": "display_data"
    }
   ],
   "source": [
    "sns.boxplot(\n",
    "    data = df,\n",
    "    x = 'seccion',\n",
    "    y = 'n_tallas',\n",
    "    palette = palette\n",
    ")"
   ]
  },
  {
   "cell_type": "markdown",
   "metadata": {},
   "source": [
    "La ropa de la sección de mujer ofrece una mayor variedad de tallas."
   ]
  },
  {
   "cell_type": "markdown",
   "metadata": {},
   "source": [
    "## Palabras clave\n",
    "porcentaje de prendas cuya descripción contiene la palabra clave:"
   ]
  },
  {
   "cell_type": "code",
   "execution_count": 62,
   "metadata": {},
   "outputs": [
    {
     "data": {
      "text/plain": [
       "0.07722007722007722"
      ]
     },
     "execution_count": 62,
     "metadata": {},
     "output_type": "execute_result"
    }
   ],
   "source": [
    "# RELAXED\n",
    "df['descripcion'].str.contains('relaxed',case=False).sum() / len(df)"
   ]
  },
  {
   "cell_type": "code",
   "execution_count": 63,
   "metadata": {},
   "outputs": [
    {
     "data": {
      "text/plain": [
       "0.17503217503217502"
      ]
     },
     "execution_count": 63,
     "metadata": {},
     "output_type": "execute_result"
    }
   ],
   "source": [
    "# FIT\n",
    "df['descripcion'].str.contains('fit',case=False).sum() / len(df)"
   ]
  },
  {
   "cell_type": "code",
   "execution_count": 64,
   "metadata": {},
   "outputs": [
    {
     "data": {
      "text/plain": [
       "0.018018018018018018"
      ]
     },
     "execution_count": 64,
     "metadata": {},
     "output_type": "execute_result"
    }
   ],
   "source": [
    "# BRILLOS\n",
    "df['descripcion'].str.contains(r'brillos?',case=False).sum() / len(df)"
   ]
  },
  {
   "cell_type": "code",
   "execution_count": 65,
   "metadata": {},
   "outputs": [
    {
     "data": {
      "text/plain": [
       "0.001287001287001287"
      ]
     },
     "execution_count": 65,
     "metadata": {},
     "output_type": "execute_result"
    }
   ],
   "source": [
    "# ESTAMPADO ANIMAL\n",
    "df['descripcion'].str.contains(r'estampado\\sanimal',case=False,regex=True).sum() / len(df)"
   ]
  },
  {
   "cell_type": "code",
   "execution_count": 66,
   "metadata": {},
   "outputs": [
    {
     "data": {
      "text/plain": [
       "0.04633204633204633"
      ]
     },
     "execution_count": 66,
     "metadata": {},
     "output_type": "execute_result"
    }
   ],
   "source": [
    "# ASIMÉTRICO\n",
    "df['descripcion'].str.contains(r'asimétric[oa]',case=False).sum() / len(df)"
   ]
  },
  {
   "cell_type": "code",
   "execution_count": 67,
   "metadata": {},
   "outputs": [
    {
     "data": {
      "text/plain": [
       "0.007722007722007722"
      ]
     },
     "execution_count": 67,
     "metadata": {},
     "output_type": "execute_result"
    }
   ],
   "source": [
    "# OVERSIZE\n",
    "df['descripcion'].str.contains(r'over\\s?size',case=False).sum() / len(df)"
   ]
  },
  {
   "cell_type": "code",
   "execution_count": 68,
   "metadata": {},
   "outputs": [
    {
     "data": {
      "text/plain": [
       "0.007722007722007722"
      ]
     },
     "execution_count": 68,
     "metadata": {},
     "output_type": "execute_result"
    }
   ],
   "source": [
    "# EFECTO ARRUGADO\n",
    "df['descripcion'].str.contains(r'efecto arrugado',case=False).sum() / len(df)"
   ]
  }
 ],
 "metadata": {
  "kernelspec": {
   "display_name": "base",
   "language": "python",
   "name": "python3"
  },
  "language_info": {
   "codemirror_mode": {
    "name": "ipython",
    "version": 3
   },
   "file_extension": ".py",
   "mimetype": "text/x-python",
   "name": "python",
   "nbconvert_exporter": "python",
   "pygments_lexer": "ipython3",
   "version": "3.11.7"
  }
 },
 "nbformat": 4,
 "nbformat_minor": 2
}
